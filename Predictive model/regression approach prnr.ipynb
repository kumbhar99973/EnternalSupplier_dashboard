{
 "cells": [
  {
   "cell_type": "markdown",
   "metadata": {},
   "source": [
    "# Please find below the high-level structuring of python scripts in the attached folder. \n",
    "\n",
    "## Feature Engineering Script: \n",
    "* Feature Engineering_PPM  --- PPM, PRNR, Premium Freight\n",
    "\n",
    "## Individual Model Scripts:\n",
    "* regression approach PPM-v3\n",
    "* regression approach prem freight \n",
    "* regression approach prnr\n",
    "* Vulnerability Score Reg ----contains the feature engineering piece of vulnerability score as well\n",
    "\n",
    "## Prod Scripts:\n",
    "* Prod Script_V1   --- PPM, PRNR, Premium Freight\n",
    "* Prod Script Vulnerability Score  ----- Vulnerability Score\n",
    "\n",
    "## We need to run the prod scripts in the 1st week of every month"
   ]
  },
  {
   "cell_type": "code",
   "execution_count": 1,
   "metadata": {},
   "outputs": [],
   "source": [
    "import xgboost as xgb\n",
    "import numpy as np\n",
    "import pandas as pd\n",
    "import time\n",
    "import pickle\n",
    "import os\n",
    "from math import log\n",
    "import matplotlib.pyplot as plt\n",
    "\n",
    "import sklearn\n",
    "from sklearn.model_selection import train_test_split, GridSearchCV, RandomizedSearchCV, ParameterGrid,StratifiedKFold, cross_val_score\n",
    "\n",
    "from sklearn import metrics \n",
    "from sklearn.metrics import confusion_matrix, precision_recall_curve, average_precision_score, brier_score_loss, f1_score, log_loss,auc,roc_curve,auc\n",
    "\n",
    "from sklearn.linear_model import LogisticRegression, LogisticRegressionCV\n",
    "from sklearn.ensemble import RandomForestClassifier\n",
    "\n",
    "from sklearn.decomposition import PCA\n",
    "#from sklearn.utils.fixes import signature\n",
    "\n",
    "import warnings\n",
    "warnings.filterwarnings(\"ignore\", category=DeprecationWarning)\n",
    "os.chdir(r\"C:\\Users\\Kumbhar\\OneDrive - American Axle & Manufacturing, Inc\\AAM\\Supplier_Risk\")"
   ]
  },
  {
   "cell_type": "markdown",
   "metadata": {},
   "source": [
    "### Read datasets"
   ]
  },
  {
   "cell_type": "code",
   "execution_count": 2,
   "metadata": {},
   "outputs": [],
   "source": [
    "df=pd.read_csv(os.getcwd()+r\"\\data\\features_file.csv\")"
   ]
  },
  {
   "cell_type": "code",
   "execution_count": 3,
   "metadata": {},
   "outputs": [],
   "source": [
    "df[['PRNR', 'PREM FREIGHT']] = df[['PRNR', 'PREM FREIGHT']].fillna(0)"
   ]
  },
  {
   "cell_type": "code",
   "execution_count": 4,
   "metadata": {},
   "outputs": [],
   "source": [
    "df[\"PRNR_TARGET\"] = np.where(df[\"PRNR\"]>=3,1,0)\n",
    "df[\"PREM_FREIGHT_TARGET\"] = np.where(df[\"PREM FREIGHT\"]>=3,1,0)"
   ]
  },
  {
   "cell_type": "code",
   "execution_count": 5,
   "metadata": {},
   "outputs": [],
   "source": [
    "df[\"MONTH\"] = pd.to_datetime(df[\"MONTH\"], format = \"%Y-%m-%d\")"
   ]
  },
  {
   "cell_type": "code",
   "execution_count": 6,
   "metadata": {},
   "outputs": [
    {
     "data": {
      "text/html": [
       "<div>\n",
       "<style scoped>\n",
       "    .dataframe tbody tr th:only-of-type {\n",
       "        vertical-align: middle;\n",
       "    }\n",
       "\n",
       "    .dataframe tbody tr th {\n",
       "        vertical-align: top;\n",
       "    }\n",
       "\n",
       "    .dataframe thead th {\n",
       "        text-align: right;\n",
       "    }\n",
       "</style>\n",
       "<table border=\"1\" class=\"dataframe\">\n",
       "  <thead>\n",
       "    <tr style=\"text-align: right;\">\n",
       "      <th></th>\n",
       "      <th>VENDOR_NAME</th>\n",
       "      <th>MONTH</th>\n",
       "      <th>PRNR</th>\n",
       "      <th>PREM FREIGHT</th>\n",
       "      <th>PPM Flag</th>\n",
       "      <th>QTY_RECD_FLAG_mean_MOM_1</th>\n",
       "      <th>Qty Ordered_sum_MOM_1</th>\n",
       "      <th>Qty Recd_sum_MOM_1</th>\n",
       "      <th>PRNR_sum_MOM_1</th>\n",
       "      <th>PREM FREIGHT_sum_MOM_1</th>\n",
       "      <th>...</th>\n",
       "      <th>PPM Qty Rejected_sum_OQT_10</th>\n",
       "      <th>PPM Qty Shipped_max_OQT_10</th>\n",
       "      <th>PPM Qty Shipped_min_OQT_10</th>\n",
       "      <th>PPM Qty Shipped_std_OQT_10</th>\n",
       "      <th>PPM Qty Shipped_mean_OQT_10</th>\n",
       "      <th>PPM Qty Shipped_sum_OQT_10</th>\n",
       "      <th>PPM_Agg_Flag_OQT_10</th>\n",
       "      <th>Qty Recd_percent_Agg_OQT_10</th>\n",
       "      <th>PRNR_TARGET</th>\n",
       "      <th>PREM_FREIGHT_TARGET</th>\n",
       "    </tr>\n",
       "  </thead>\n",
       "  <tbody>\n",
       "    <tr>\n",
       "      <th>0</th>\n",
       "      <td>*CERATIZIT CHICAGO INC</td>\n",
       "      <td>2022-01-01</td>\n",
       "      <td>0.0</td>\n",
       "      <td>0.0</td>\n",
       "      <td>NaN</td>\n",
       "      <td>NaN</td>\n",
       "      <td>0.0</td>\n",
       "      <td>3.0</td>\n",
       "      <td>0.0</td>\n",
       "      <td>0.0</td>\n",
       "      <td>...</td>\n",
       "      <td>0.0</td>\n",
       "      <td>NaN</td>\n",
       "      <td>NaN</td>\n",
       "      <td>NaN</td>\n",
       "      <td>NaN</td>\n",
       "      <td>0.0</td>\n",
       "      <td>NaN</td>\n",
       "      <td>NaN</td>\n",
       "      <td>0</td>\n",
       "      <td>0</td>\n",
       "    </tr>\n",
       "    <tr>\n",
       "      <th>1</th>\n",
       "      <td>*KAMAX LP</td>\n",
       "      <td>2022-01-01</td>\n",
       "      <td>0.0</td>\n",
       "      <td>0.0</td>\n",
       "      <td>NaN</td>\n",
       "      <td>1.0</td>\n",
       "      <td>496800.0</td>\n",
       "      <td>574000.0</td>\n",
       "      <td>1.0</td>\n",
       "      <td>0.0</td>\n",
       "      <td>...</td>\n",
       "      <td>0.0</td>\n",
       "      <td>NaN</td>\n",
       "      <td>NaN</td>\n",
       "      <td>NaN</td>\n",
       "      <td>NaN</td>\n",
       "      <td>0.0</td>\n",
       "      <td>NaN</td>\n",
       "      <td>90.740741</td>\n",
       "      <td>0</td>\n",
       "      <td>0</td>\n",
       "    </tr>\n",
       "    <tr>\n",
       "      <th>2</th>\n",
       "      <td>2A MATERIAIS ELETRICOS LTDA</td>\n",
       "      <td>2022-01-01</td>\n",
       "      <td>0.0</td>\n",
       "      <td>0.0</td>\n",
       "      <td>NaN</td>\n",
       "      <td>NaN</td>\n",
       "      <td>0.0</td>\n",
       "      <td>2.0</td>\n",
       "      <td>0.0</td>\n",
       "      <td>0.0</td>\n",
       "      <td>...</td>\n",
       "      <td>NaN</td>\n",
       "      <td>NaN</td>\n",
       "      <td>NaN</td>\n",
       "      <td>NaN</td>\n",
       "      <td>NaN</td>\n",
       "      <td>NaN</td>\n",
       "      <td>NaN</td>\n",
       "      <td>NaN</td>\n",
       "      <td>0</td>\n",
       "      <td>0</td>\n",
       "    </tr>\n",
       "    <tr>\n",
       "      <th>3</th>\n",
       "      <td>3 DIMENSIONAL SERVICES</td>\n",
       "      <td>2022-01-01</td>\n",
       "      <td>0.0</td>\n",
       "      <td>0.0</td>\n",
       "      <td>NaN</td>\n",
       "      <td>NaN</td>\n",
       "      <td>0.0</td>\n",
       "      <td>115.0</td>\n",
       "      <td>0.0</td>\n",
       "      <td>0.0</td>\n",
       "      <td>...</td>\n",
       "      <td>0.0</td>\n",
       "      <td>NaN</td>\n",
       "      <td>NaN</td>\n",
       "      <td>NaN</td>\n",
       "      <td>NaN</td>\n",
       "      <td>0.0</td>\n",
       "      <td>NaN</td>\n",
       "      <td>NaN</td>\n",
       "      <td>0</td>\n",
       "      <td>0</td>\n",
       "    </tr>\n",
       "    <tr>\n",
       "      <th>4</th>\n",
       "      <td>A &amp; F GROBSERIEN GMBH</td>\n",
       "      <td>2022-01-01</td>\n",
       "      <td>0.0</td>\n",
       "      <td>0.0</td>\n",
       "      <td>0.0</td>\n",
       "      <td>1.0</td>\n",
       "      <td>14364.0</td>\n",
       "      <td>28164.0</td>\n",
       "      <td>0.0</td>\n",
       "      <td>0.0</td>\n",
       "      <td>...</td>\n",
       "      <td>0.0</td>\n",
       "      <td>NaN</td>\n",
       "      <td>NaN</td>\n",
       "      <td>NaN</td>\n",
       "      <td>NaN</td>\n",
       "      <td>0.0</td>\n",
       "      <td>NaN</td>\n",
       "      <td>98.726223</td>\n",
       "      <td>0</td>\n",
       "      <td>0</td>\n",
       "    </tr>\n",
       "  </tbody>\n",
       "</table>\n",
       "<p>5 rows × 271 columns</p>\n",
       "</div>"
      ],
      "text/plain": [
       "                   VENDOR_NAME      MONTH  PRNR  PREM FREIGHT  PPM Flag  \\\n",
       "0       *CERATIZIT CHICAGO INC 2022-01-01   0.0           0.0       NaN   \n",
       "1                    *KAMAX LP 2022-01-01   0.0           0.0       NaN   \n",
       "2  2A MATERIAIS ELETRICOS LTDA 2022-01-01   0.0           0.0       NaN   \n",
       "3       3 DIMENSIONAL SERVICES 2022-01-01   0.0           0.0       NaN   \n",
       "4        A & F GROBSERIEN GMBH 2022-01-01   0.0           0.0       0.0   \n",
       "\n",
       "   QTY_RECD_FLAG_mean_MOM_1  Qty Ordered_sum_MOM_1  Qty Recd_sum_MOM_1  \\\n",
       "0                       NaN                    0.0                 3.0   \n",
       "1                       1.0               496800.0            574000.0   \n",
       "2                       NaN                    0.0                 2.0   \n",
       "3                       NaN                    0.0               115.0   \n",
       "4                       1.0                14364.0             28164.0   \n",
       "\n",
       "   PRNR_sum_MOM_1  PREM FREIGHT_sum_MOM_1  ...  PPM Qty Rejected_sum_OQT_10  \\\n",
       "0             0.0                     0.0  ...                          0.0   \n",
       "1             1.0                     0.0  ...                          0.0   \n",
       "2             0.0                     0.0  ...                          NaN   \n",
       "3             0.0                     0.0  ...                          0.0   \n",
       "4             0.0                     0.0  ...                          0.0   \n",
       "\n",
       "   PPM Qty Shipped_max_OQT_10  PPM Qty Shipped_min_OQT_10  \\\n",
       "0                         NaN                         NaN   \n",
       "1                         NaN                         NaN   \n",
       "2                         NaN                         NaN   \n",
       "3                         NaN                         NaN   \n",
       "4                         NaN                         NaN   \n",
       "\n",
       "   PPM Qty Shipped_std_OQT_10  PPM Qty Shipped_mean_OQT_10  \\\n",
       "0                         NaN                          NaN   \n",
       "1                         NaN                          NaN   \n",
       "2                         NaN                          NaN   \n",
       "3                         NaN                          NaN   \n",
       "4                         NaN                          NaN   \n",
       "\n",
       "   PPM Qty Shipped_sum_OQT_10  PPM_Agg_Flag_OQT_10  \\\n",
       "0                         0.0                  NaN   \n",
       "1                         0.0                  NaN   \n",
       "2                         NaN                  NaN   \n",
       "3                         0.0                  NaN   \n",
       "4                         0.0                  NaN   \n",
       "\n",
       "   Qty Recd_percent_Agg_OQT_10  PRNR_TARGET  PREM_FREIGHT_TARGET  \n",
       "0                          NaN            0                    0  \n",
       "1                    90.740741            0                    0  \n",
       "2                          NaN            0                    0  \n",
       "3                          NaN            0                    0  \n",
       "4                    98.726223            0                    0  \n",
       "\n",
       "[5 rows x 271 columns]"
      ]
     },
     "execution_count": 6,
     "metadata": {},
     "output_type": "execute_result"
    }
   ],
   "source": [
    "df.head()"
   ]
  },
  {
   "cell_type": "markdown",
   "metadata": {},
   "source": [
    "## Target = PRNR"
   ]
  },
  {
   "cell_type": "code",
   "execution_count": 7,
   "metadata": {},
   "outputs": [],
   "source": [
    "target = \"PRNR\""
   ]
  },
  {
   "cell_type": "code",
   "execution_count": 8,
   "metadata": {},
   "outputs": [
    {
     "name": "stderr",
     "output_type": "stream",
     "text": [
      "C:\\Users\\Kumbhar\\OneDrive - American Axle & Manufacturing, Inc\\AAM\\globle_env\\lib\\site-packages\\ipykernel_launcher.py:1: FutureWarning: The pandas.datetime class is deprecated and will be removed from pandas in a future version. Import from datetime instead.\n",
      "  \"\"\"Entry point for launching an IPython kernel.\n",
      "C:\\Users\\Kumbhar\\OneDrive - American Axle & Manufacturing, Inc\\AAM\\globle_env\\lib\\site-packages\\ipykernel_launcher.py:2: FutureWarning: The pandas.datetime class is deprecated and will be removed from pandas in a future version. Import from datetime instead.\n",
      "  \n",
      "C:\\Users\\Kumbhar\\OneDrive - American Axle & Manufacturing, Inc\\AAM\\globle_env\\lib\\site-packages\\ipykernel_launcher.py:3: FutureWarning: The pandas.datetime class is deprecated and will be removed from pandas in a future version. Import from datetime instead.\n",
      "  This is separate from the ipykernel package so we can avoid doing imports until\n"
     ]
    }
   ],
   "source": [
    "df_train = df[(df[\"MONTH\"]<pd.datetime(2021,4,1))]\n",
    "df_valid = df[(df[\"MONTH\"]<pd.datetime(2021,8,1)) & (df[\"MONTH\"]>=pd.datetime(2021,4,1))]\n",
    "df_test = df[(df[\"MONTH\"]>=pd.datetime(2021,8,1))]"
   ]
  },
  {
   "cell_type": "code",
   "execution_count": 9,
   "metadata": {},
   "outputs": [],
   "source": [
    "X_train=df_train.drop([\"VENDOR_NAME\",\"MONTH\",\"PRNR\",\"PREM FREIGHT\",\"PPM Flag\",\"PRNR_TARGET\", \"PREM_FREIGHT_TARGET\"] ,axis=1)\n",
    "y_train=df_train[target]\n",
    "\n",
    "X_valid=df_valid.drop([\"VENDOR_NAME\",\"MONTH\",\"PRNR\",\"PREM FREIGHT\",\"PPM Flag\",\"PRNR_TARGET\", \"PREM_FREIGHT_TARGET\"] ,axis=1)\n",
    "y_valid=df_valid[target]\n",
    "\n",
    "X_test=df_test.drop([\"VENDOR_NAME\",\"MONTH\",\"PRNR\",\"PREM FREIGHT\",\"PPM Flag\",\"PRNR_TARGET\", \"PREM_FREIGHT_TARGET\"] ,axis=1)\n",
    "y_test=df_test[target]"
   ]
  },
  {
   "cell_type": "code",
   "execution_count": 10,
   "metadata": {},
   "outputs": [
    {
     "name": "stdout",
     "output_type": "stream",
     "text": [
      "\n",
      "Event rate in train set : 10.01%\n",
      "\n",
      " Train set shape: (35107, 264)\n",
      "\n",
      "Event rate in test set : 8.16%\n",
      "\n",
      " Test set shape: (9426, 264)\n",
      "\n",
      "Event rate in validation set : 11.37%\n",
      "\n",
      " validation set shape: (5990, 264)\n"
     ]
    }
   ],
   "source": [
    "seed = 25522\n",
    "\n",
    "##event rate\n",
    "print(\"\\nEvent rate in train set :\", '{:,.2%}'.format(sum(y_train) / len(y_train)))\n",
    "print(\"\\n Train set shape:\",X_train.shape)\n",
    "print(\"\\nEvent rate in test set :\", '{:,.2%}'.format(sum(y_test) / len(y_test)))\n",
    "print(\"\\n Test set shape:\",X_test.shape)\n",
    "print(\"\\nEvent rate in validation set :\", '{:,.2%}'.format(sum(y_valid) / len(y_valid)))\n",
    "print(\"\\n validation set shape:\",X_valid.shape)"
   ]
  },
  {
   "cell_type": "code",
   "execution_count": 11,
   "metadata": {},
   "outputs": [],
   "source": [
    "## Variable importance\n",
    "def fimportances(xc, predictors):\n",
    "    importances = pd.DataFrame({'predictor': predictors, 'importance': xc.feature_importances_})\n",
    "    importances = importances[importances['importance'] > 0]\n",
    "    importances.sort_values(by='importance', ascending=False, inplace=True)\n",
    "    importances.reset_index(inplace=True, drop=True)\n",
    "    importances = importances[['predictor', 'importance']]\n",
    "    return importances"
   ]
  },
  {
   "cell_type": "code",
   "execution_count": 12,
   "metadata": {},
   "outputs": [],
   "source": [
    "xgb_model = xgb.XGBRegressor(max_depth = 3,\n",
    "              learning_rate = 0.01,\n",
    "              subsample= 0.6,\n",
    "              min_child_weight= 10,\n",
    "              colsample_bytree= 0.6,\n",
    "              scale_pos_weight =25,\n",
    "              nthread = -1, \n",
    "              n_estimators = 200              \n",
    "              )\n",
    "\n",
    "evals=[(X_train, np.ravel(y_train)),(X_valid, np.ravel(y_valid))]\n",
    "\n",
    "bst = xgb_model.fit(X_train, np.ravel(y_train), eval_metric=\"rmse\", eval_set=evals, early_stopping_rounds=40,  verbose=False)"
   ]
  },
  {
   "cell_type": "code",
   "execution_count": 13,
   "metadata": {},
   "outputs": [],
   "source": [
    "imp = fimportances(bst,X_train.columns)"
   ]
  },
  {
   "cell_type": "code",
   "execution_count": 14,
   "metadata": {
    "scrolled": true
   },
   "outputs": [
    {
     "name": "stdout",
     "output_type": "stream",
     "text": [
      "Columns Remaining : 162 , rmse_train: 0.556527,rmse_test: 0.629503 \n",
      "Columns Remaining : 142 , rmse_train: 0.556579,rmse_test: 0.629129 \n",
      "Columns Remaining : 130 , rmse_train: 0.556901,rmse_test: 0.630197 \n",
      "Columns Remaining : 120 , rmse_train: 0.556435,rmse_test: 0.629819 \n",
      "Columns Remaining : 113 , rmse_train: 0.557048,rmse_test: 0.630145 \n",
      "Columns Remaining : 107 , rmse_train: 0.557208,rmse_test: 0.630216 \n",
      "Columns Remaining : 103 , rmse_train: 0.556444,rmse_test: 0.629263 \n",
      "Columns Remaining : 100 , rmse_train: 0.557019,rmse_test: 0.630279 \n",
      "Columns Remaining : 97 , rmse_train: 0.556925,rmse_test: 0.630465 \n",
      "Columns Remaining : 95 , rmse_train: 0.556879,rmse_test: 0.630525 \n",
      "Columns Remaining : 92 , rmse_train: 0.556932,rmse_test: 0.629925 \n",
      "Columns Remaining : 89 , rmse_train: 0.556682,rmse_test: 0.630391 \n",
      "Columns Remaining : 87 , rmse_train: 0.556856,rmse_test: 0.630222 \n",
      "Columns Remaining : 85 , rmse_train: 0.557264,rmse_test: 0.628969 \n",
      "Columns Remaining : 83 , rmse_train: 0.557369,rmse_test: 0.629919 \n",
      "Columns Remaining : 81 , rmse_train: 0.557025,rmse_test: 0.630345 \n",
      "Columns Remaining : 77 , rmse_train: 0.556931,rmse_test: 0.629606 \n",
      "Columns Remaining : 75 , rmse_train: 0.557007,rmse_test: 0.629445 \n",
      "Columns Remaining : 73 , rmse_train: 0.556982,rmse_test: 0.630302 \n",
      "Columns Remaining : 71 , rmse_train: 0.556940,rmse_test: 0.630085 \n",
      "Columns Remaining : 69 , rmse_train: 0.557201,rmse_test: 0.630125 \n",
      "Columns Remaining : 67 , rmse_train: 0.557131,rmse_test: 0.629684 \n",
      "Columns Remaining : 65 , rmse_train: 0.557502,rmse_test: 0.630060 \n",
      "Columns Remaining : 63 , rmse_train: 0.557229,rmse_test: 0.630120 \n",
      "Columns Remaining : 61 , rmse_train: 0.556612,rmse_test: 0.629861 \n",
      "Columns Remaining : 59 , rmse_train: 0.557320,rmse_test: 0.630361 \n",
      "Columns Remaining : 57 , rmse_train: 0.557344,rmse_test: 0.629938 \n",
      "Columns Remaining : 55 , rmse_train: 0.557721,rmse_test: 0.630614 \n",
      "Columns Remaining : 53 , rmse_train: 0.557718,rmse_test: 0.630304 \n",
      "Columns Remaining : 51 , rmse_train: 0.557369,rmse_test: 0.631284 \n",
      "Columns Remaining : 49 , rmse_train: 0.557219,rmse_test: 0.631295 \n",
      "Columns Remaining : 47 , rmse_train: 0.557624,rmse_test: 0.630099 \n",
      "Columns Remaining : 45 , rmse_train: 0.557613,rmse_test: 0.630178 \n",
      "Columns Remaining : 43 , rmse_train: 0.557623,rmse_test: 0.630823 \n",
      "Columns Remaining : 41 , rmse_train: 0.558173,rmse_test: 0.629993 \n",
      "Columns Remaining : 39 , rmse_train: 0.558143,rmse_test: 0.631565 \n",
      "Columns Remaining : 37 , rmse_train: 0.558092,rmse_test: 0.630888 \n",
      "Columns Remaining : 35 , rmse_train: 0.558332,rmse_test: 0.631406 \n",
      "Columns Remaining : 33 , rmse_train: 0.558516,rmse_test: 0.631000 \n",
      "Columns Remaining : 31 , rmse_train: 0.558563,rmse_test: 0.630802 \n",
      "Columns Remaining : 29 , rmse_train: 0.558808,rmse_test: 0.630580 \n",
      "Columns Remaining : 27 , rmse_train: 0.559426,rmse_test: 0.630365 \n",
      "Columns Remaining : 25 , rmse_train: 0.559265,rmse_test: 0.628958 \n",
      "Columns Remaining : 23 , rmse_train: 0.559717,rmse_test: 0.630856 \n",
      "Columns Remaining : 21 , rmse_train: 0.559751,rmse_test: 0.629776 \n",
      "Columns Remaining : 19 , rmse_train: 0.561130,rmse_test: 0.631058 \n",
      "Columns Remaining : 17 , rmse_train: 0.561306,rmse_test: 0.630881 \n",
      "Columns Remaining : 15 , rmse_train: 0.564640,rmse_test: 0.633107 \n",
      "Columns Remaining : 13 , rmse_train: 0.564970,rmse_test: 0.634235 \n",
      "Columns Remaining : 11 , rmse_train: 0.564876,rmse_test: 0.632813 \n",
      "Columns Remaining : 9 , rmse_train: 0.574330,rmse_test: 0.640560 \n",
      "Columns Remaining : 7 , rmse_train: 0.579329,rmse_test: 0.645544 \n",
      "Columns Remaining : 5 , rmse_train: 0.578867,rmse_test: 0.643192 \n",
      "Columns Remaining : 3 , rmse_train: 0.588679,rmse_test: 0.647425 \n"
     ]
    }
   ],
   "source": [
    "bst1 = bst\n",
    "X_train_1 = X_train\n",
    "X_valid_1 = X_valid\n",
    "select_X_train = X_train_1\n",
    "\n",
    "dic_imp = {\"n\":[imp.shape[0]],\"Rmse Train\":[0],\"Rmse Test\":[0],\"Predictors\":[list(imp['predictor'])]}\n",
    "\n",
    "while(select_X_train.shape[1] > 3):\n",
    "    select_X_train = X_train_1[list(imp['predictor'])[:-2]]\n",
    "    select_X_valid = X_valid_1[list(imp['predictor'])[:-2]]\n",
    "    xgb_model = xgb.XGBRegressor(max_depth = 3,\n",
    "              learning_rate= 0.01,\n",
    "              subsample= 0.6,\n",
    "              min_child_weight= 10,\n",
    "              colsample_bytree= 0.6,\n",
    "              scale_pos_weight =25,\n",
    "              nthread = -1, \n",
    "              n_estimators = 200              \n",
    "              )\n",
    "\n",
    "    evals=[(select_X_train, np.ravel(y_train)),(select_X_valid, np.ravel(y_valid))]\n",
    "\n",
    "    bst = xgb_model.fit(select_X_train, np.ravel(y_train), eval_metric=\"rmse\", eval_set=evals,\n",
    "                        early_stopping_rounds=40   ,  verbose=False)\n",
    "    \n",
    "    ypred_train = bst.predict(select_X_train)\n",
    "    ypred_test  = bst.predict(select_X_valid)\n",
    "    \n",
    "    rmse_train = np.sqrt(metrics.mean_squared_error(y_train, ypred_train))\n",
    "    rmse_test = np.sqrt(metrics.mean_squared_error(y_valid, ypred_test))\n",
    "\n",
    "    \n",
    "    print(\"Columns Remaining : %d , rmse_train: %f,rmse_test: %f \"%(select_X_train.shape[1],rmse_train,rmse_test))\n",
    "    \n",
    "    dic_imp['n'].append(imp.shape[0])\n",
    "    dic_imp['Rmse Train'].append(rmse_train)\n",
    "    dic_imp['Rmse Test'].append(rmse_test)\n",
    "    dic_imp['Predictors'].append(list(imp['predictor']))\n",
    "    \n",
    "    imp = fimportances(bst,select_X_train.columns)"
   ]
  },
  {
   "cell_type": "code",
   "execution_count": 15,
   "metadata": {},
   "outputs": [],
   "source": [
    "df_imp =pd.DataFrame(dic_imp)"
   ]
  },
  {
   "cell_type": "code",
   "execution_count": 16,
   "metadata": {},
   "outputs": [],
   "source": [
    "selected_vars = list(df_imp[df_imp['n']==9][\"Predictors\"])"
   ]
  },
  {
   "cell_type": "code",
   "execution_count": 17,
   "metadata": {},
   "outputs": [
    {
     "data": {
      "text/plain": [
       "[['Qty Recd_sum_MOM_1',\n",
       "  'Qty Recd_max_OQT_1',\n",
       "  'PRNR_mean_OQT_1',\n",
       "  'Qty Recd_sum_OQT_1',\n",
       "  'Qty Recd_mean_OQT_1',\n",
       "  'PPM Qty Shipped_mean_OQT_7',\n",
       "  'PPM Qty Shipped_sum_OQT_4',\n",
       "  'PRNR_max_OQT_1',\n",
       "  'PPM Qty Shipped_mean_OQT_1']]"
      ]
     },
     "execution_count": 17,
     "metadata": {},
     "output_type": "execute_result"
    }
   ],
   "source": [
    "selected_vars"
   ]
  },
  {
   "cell_type": "code",
   "execution_count": 18,
   "metadata": {},
   "outputs": [],
   "source": [
    "filename = 'data/PRNR_selected_cols.sav'\n",
    "pickle.dump(selected_vars[0], open(filename, 'wb'))"
   ]
  },
  {
   "cell_type": "code",
   "execution_count": 19,
   "metadata": {},
   "outputs": [
    {
     "name": "stdout",
     "output_type": "stream",
     "text": [
      "\n",
      " Train shape: (35107, 9) \n",
      " Test shape: (9426, 9) \n",
      " Validation shape: (5990, 9)\n"
     ]
    }
   ],
   "source": [
    "X_train_2=X_train[selected_vars[0]]\n",
    "X_test_2=X_test[selected_vars[0]]\n",
    "X_valid_2=X_valid[selected_vars[0]]\n",
    "\n",
    "\n",
    "print(\"\\n Train shape:\",X_train_2.shape,\"\\n Test shape:\",X_test_2.shape,\"\\n Validation shape:\",X_valid_2.shape)"
   ]
  },
  {
   "cell_type": "code",
   "execution_count": 20,
   "metadata": {},
   "outputs": [],
   "source": [
    "# set model parameters \n",
    "missing_value=None; cpu=-1; early_stopping_round=40; split_random_state=None\n",
    "kfolds = StratifiedKFold(6, random_state=1, shuffle = True)"
   ]
  },
  {
   "cell_type": "code",
   "execution_count": 21,
   "metadata": {
    "scrolled": true
   },
   "outputs": [
    {
     "name": "stdout",
     "output_type": "stream",
     "text": [
      "Randomized search..\n"
     ]
    },
    {
     "name": "stderr",
     "output_type": "stream",
     "text": [
      "C:\\Users\\Kumbhar\\OneDrive - American Axle & Manufacturing, Inc\\AAM\\globle_env\\lib\\site-packages\\sklearn\\model_selection\\_split.py:668: UserWarning: The least populated class in y has only 1 members, which is less than n_splits=6.\n",
      "  % (min_groups, self.n_splits)), UserWarning)\n"
     ]
    },
    {
     "name": "stdout",
     "output_type": "stream",
     "text": [
      "Randomized search time: 446.21399760246277\n",
      "Best score: -0.20920190838001407\n",
      "Best params: \n",
      "colsample_bytree: 0.6000000000000001\n",
      "learning_rate: 0.019000000000000003\n",
      "max_depth: 5\n",
      "min_child_weight: 10\n",
      "reg_alpha: 0.5\n",
      "reg_lambda: 5\n",
      "scale_pos_weight: 5\n",
      "subsample: 0.6499999999999999\n"
     ]
    }
   ],
   "source": [
    "## XGB model##\n",
    "param_grid = {'max_depth': list(range(1, 6)),\n",
    "              'learning_rate': np.arange(0.001, 0.02, 0.001),\n",
    "              'subsample': np.arange(0.4, 0.7,0.05),\n",
    "              'min_child_weight': np.arange(1, 25, 3),\n",
    "              'colsample_bytree': np.arange(0.5, 0.75, 0.05),\n",
    "              'scale_pos_weight' :np.arange(5, 40, 2), \n",
    "              \"reg_alpha\"   : [0.5,0.2,1],\n",
    "              \"reg_lambda\"  : [2,3,5]\n",
    "            }\n",
    "\n",
    "if X_train_2.shape[1] == 1:\n",
    "    param_grid['colsample_bytree'] = [1]\n",
    "    \n",
    "param_dist = {'nthread': cpu, 'n_estimators': 200}\n",
    "xgb_model = xgb.XGBRegressor(**param_dist)\n",
    "\n",
    "##random search XGB    \n",
    "clf = RandomizedSearchCV(estimator=xgb_model, param_distributions=param_grid, scoring='neg_mean_absolute_error', n_iter=50,\n",
    "                         random_state=40, cv=kfolds.split(X_train_2, y_train),error_score=0, return_train_score =True)\n",
    "print(\"Randomized search..\")\n",
    "search_time_start = time.time()\n",
    "clf.fit(X_train_2, np.ravel(y_train), verbose = 1)\n",
    "print(\"Randomized search time:\", time.time() - search_time_start)\n",
    "params = clf.best_params_\n",
    "\n",
    "dic=clf.cv_results_\n",
    "\n",
    "params_bst = params\n",
    "params_tbl = pd.DataFrame(columns=list(params_bst.keys()))  \n",
    "params_tbl.loc['0'] = [params_bst[k] for k in params_tbl.columns]\n",
    "\n",
    "print(\"Best score: {}\".format(clf.best_score_))\n",
    "print(\"Best params: \")\n",
    "for param_name in sorted(params_bst.keys()):\n",
    "    print('%s: %r' % (param_name, params_bst[param_name]))\n",
    "\n",
    "params.update(param_dist)\n",
    "xgb_model = xgb.XGBClassifier(**params)"
   ]
  },
  {
   "cell_type": "code",
   "execution_count": 22,
   "metadata": {},
   "outputs": [],
   "source": [
    "pd.Series(dic['mean_train_score']).to_csv(\"mean_train_rmse_prnr_reg.csv\")"
   ]
  },
  {
   "cell_type": "code",
   "execution_count": 23,
   "metadata": {},
   "outputs": [],
   "source": [
    "pd.Series(dic['mean_test_score']).to_csv(\"mean_test_rmse_prnr_reg.csv\")"
   ]
  },
  {
   "cell_type": "code",
   "execution_count": 24,
   "metadata": {},
   "outputs": [
    {
     "data": {
      "text/plain": [
       "{'subsample': 0.6499999999999999,\n",
       " 'scale_pos_weight': 5,\n",
       " 'reg_lambda': 5,\n",
       " 'reg_alpha': 0.5,\n",
       " 'min_child_weight': 10,\n",
       " 'max_depth': 5,\n",
       " 'learning_rate': 0.019000000000000003,\n",
       " 'colsample_bytree': 0.6000000000000001,\n",
       " 'nthread': -1,\n",
       " 'n_estimators': 200}"
      ]
     },
     "execution_count": 24,
     "metadata": {},
     "output_type": "execute_result"
    }
   ],
   "source": [
    "params"
   ]
  },
  {
   "cell_type": "code",
   "execution_count": 25,
   "metadata": {},
   "outputs": [],
   "source": [
    "# colsample_bytree: 0.7000000000000002\n",
    "# learning_rate: 0.016\n",
    "# max_depth: 5\n",
    "# min_child_weight: 10\n",
    "# scale_pos_weight: 5\n",
    "# subsample: 0.6pd.DataFrame(dic['params']).to_csv(\"params_mesdq.csv\")"
   ]
  },
  {
   "cell_type": "code",
   "execution_count": 26,
   "metadata": {},
   "outputs": [],
   "source": [
    "xgb_model = xgb.XGBRegressor(max_depth = 5,\n",
    "              learning_rate= 0.02,\n",
    "              subsample= 0.65,\n",
    "              min_child_weight= 10,\n",
    "              colsample_bytree= 0.6,\n",
    "              scale_pos_weight = 5,\n",
    "              nthread = -1, \n",
    "              n_estimators = 200, \n",
    "                reg_lambda = 5,\n",
    "                reg_alpha = 0.5\n",
    "             ) "
   ]
  },
  {
   "cell_type": "code",
   "execution_count": 27,
   "metadata": {
    "scrolled": true
   },
   "outputs": [],
   "source": [
    "# cross validation gini\n",
    "def xgboost(X_tr,X_ts,y_tr,y_ts):\n",
    "    evals=[(X_tr, np.ravel(y_tr)),(X_ts, np.ravel(y_ts))]\n",
    "\n",
    "    bst = xgb_model.fit(X_tr, np.ravel(y_tr), eval_metric=\"rmse\", eval_set=evals,\n",
    "                        early_stopping_rounds=early_stopping_round   ,  verbose=False)\n",
    "\n",
    "    if early_stopping_round is None:\n",
    "        ypred_train = bst.predict(X_tr)\n",
    "        ypred_test = bst.predict(X_ts)\n",
    "    else:\n",
    "        ypred_train = bst.predict(X_tr, ntree_limit=bst.best_ntree_limit)\n",
    "        ypred_test = bst.predict(X_ts, ntree_limit=bst.best_ntree_limit)\n",
    "\n",
    "    rmse_train = np.sqrt(metrics.mean_squared_error(y_train, ypred_train))\n",
    "    rmse_test = np.sqrt(metrics.mean_squared_error(y_valid, ypred_test))\n",
    "\n",
    "    return bst,rmse_train,rmse_test,ypred_train,ypred_test"
   ]
  },
  {
   "cell_type": "code",
   "execution_count": 28,
   "metadata": {},
   "outputs": [
    {
     "name": "stdout",
     "output_type": "stream",
     "text": [
      "RMSE TRAIN: 0.44524918625728804\n",
      "\n",
      "RMSE Validation: 0.545206042374597\n"
     ]
    },
    {
     "name": "stderr",
     "output_type": "stream",
     "text": [
      "C:\\Users\\Kumbhar\\OneDrive - American Axle & Manufacturing, Inc\\AAM\\globle_env\\lib\\site-packages\\xgboost\\core.py:108: UserWarning: ntree_limit is deprecated, use `iteration_range` or model slicing instead.\n",
      "  UserWarning\n"
     ]
    }
   ],
   "source": [
    "## run xgboost\n",
    "bst,rmse_train,rmse_test,ypred_train,ypred_test=xgboost(X_train_2, X_valid_2, y_train, y_valid)\n",
    "\n",
    "##Model performance on sample\n",
    "print(\"RMSE TRAIN:\",rmse_train )\n",
    "print(\"\\nRMSE Validation:\",rmse_test )\n"
   ]
  },
  {
   "cell_type": "code",
   "execution_count": 29,
   "metadata": {},
   "outputs": [
    {
     "data": {
      "text/plain": [
       "Index(['Qty Recd_sum_MOM_1', 'Qty Recd_max_OQT_1', 'PRNR_mean_OQT_1',\n",
       "       'Qty Recd_sum_OQT_1', 'Qty Recd_mean_OQT_1',\n",
       "       'PPM Qty Shipped_mean_OQT_7', 'PPM Qty Shipped_sum_OQT_4',\n",
       "       'PRNR_max_OQT_1', 'PPM Qty Shipped_mean_OQT_1'],\n",
       "      dtype='object')"
      ]
     },
     "execution_count": 29,
     "metadata": {},
     "output_type": "execute_result"
    }
   ],
   "source": [
    "X_train_2.columns"
   ]
  },
  {
   "cell_type": "code",
   "execution_count": 30,
   "metadata": {},
   "outputs": [
    {
     "name": "stdout",
     "output_type": "stream",
     "text": [
      "RMSE Test -0.19358282145008754\n"
     ]
    },
    {
     "name": "stderr",
     "output_type": "stream",
     "text": [
      "C:\\Users\\Kumbhar\\OneDrive - American Axle & Manufacturing, Inc\\AAM\\globle_env\\lib\\site-packages\\xgboost\\core.py:108: UserWarning: ntree_limit is deprecated, use `iteration_range` or model slicing instead.\n",
      "  UserWarning\n"
     ]
    }
   ],
   "source": [
    "#ypred_test = bst.predict_proba(X_test_2.drop(columns=['act','pred']), ntree_limit=bst.best_ntree_limit)[:, 1]\n",
    "ypred_test = bst.predict(X_test_2, ntree_limit=bst.best_ntree_limit)\n",
    "rmse_test = np.sqrt(metrics.mean_squared_error(y_test, ypred_test))\n",
    "print(\"RMSE Test\",rmse_test*2-1)"
   ]
  },
  {
   "cell_type": "code",
   "execution_count": 31,
   "metadata": {
    "scrolled": true
   },
   "outputs": [],
   "source": [
    "importance_tbl = fimportances(bst, X_train_2.columns)\n",
    "importance_tbl.to_csv(\"xgb_prnr_reg.csv\",index=0)"
   ]
  },
  {
   "cell_type": "code",
   "execution_count": 32,
   "metadata": {
    "scrolled": true
   },
   "outputs": [
    {
     "data": {
      "text/html": [
       "<div>\n",
       "<style scoped>\n",
       "    .dataframe tbody tr th:only-of-type {\n",
       "        vertical-align: middle;\n",
       "    }\n",
       "\n",
       "    .dataframe tbody tr th {\n",
       "        vertical-align: top;\n",
       "    }\n",
       "\n",
       "    .dataframe thead th {\n",
       "        text-align: right;\n",
       "    }\n",
       "</style>\n",
       "<table border=\"1\" class=\"dataframe\">\n",
       "  <thead>\n",
       "    <tr style=\"text-align: right;\">\n",
       "      <th></th>\n",
       "      <th>predictor</th>\n",
       "      <th>importance</th>\n",
       "    </tr>\n",
       "  </thead>\n",
       "  <tbody>\n",
       "    <tr>\n",
       "      <th>0</th>\n",
       "      <td>PRNR_max_OQT_1</td>\n",
       "      <td>0.370198</td>\n",
       "    </tr>\n",
       "    <tr>\n",
       "      <th>1</th>\n",
       "      <td>PRNR_mean_OQT_1</td>\n",
       "      <td>0.336845</td>\n",
       "    </tr>\n",
       "    <tr>\n",
       "      <th>2</th>\n",
       "      <td>Qty Recd_sum_MOM_1</td>\n",
       "      <td>0.060591</td>\n",
       "    </tr>\n",
       "    <tr>\n",
       "      <th>3</th>\n",
       "      <td>PPM Qty Shipped_sum_OQT_4</td>\n",
       "      <td>0.044280</td>\n",
       "    </tr>\n",
       "    <tr>\n",
       "      <th>4</th>\n",
       "      <td>PPM Qty Shipped_mean_OQT_1</td>\n",
       "      <td>0.043607</td>\n",
       "    </tr>\n",
       "    <tr>\n",
       "      <th>5</th>\n",
       "      <td>PPM Qty Shipped_mean_OQT_7</td>\n",
       "      <td>0.043452</td>\n",
       "    </tr>\n",
       "    <tr>\n",
       "      <th>6</th>\n",
       "      <td>Qty Recd_max_OQT_1</td>\n",
       "      <td>0.039875</td>\n",
       "    </tr>\n",
       "    <tr>\n",
       "      <th>7</th>\n",
       "      <td>Qty Recd_sum_OQT_1</td>\n",
       "      <td>0.034317</td>\n",
       "    </tr>\n",
       "    <tr>\n",
       "      <th>8</th>\n",
       "      <td>Qty Recd_mean_OQT_1</td>\n",
       "      <td>0.026835</td>\n",
       "    </tr>\n",
       "  </tbody>\n",
       "</table>\n",
       "</div>"
      ],
      "text/plain": [
       "                    predictor  importance\n",
       "0              PRNR_max_OQT_1    0.370198\n",
       "1             PRNR_mean_OQT_1    0.336845\n",
       "2          Qty Recd_sum_MOM_1    0.060591\n",
       "3   PPM Qty Shipped_sum_OQT_4    0.044280\n",
       "4  PPM Qty Shipped_mean_OQT_1    0.043607\n",
       "5  PPM Qty Shipped_mean_OQT_7    0.043452\n",
       "6          Qty Recd_max_OQT_1    0.039875\n",
       "7          Qty Recd_sum_OQT_1    0.034317\n",
       "8         Qty Recd_mean_OQT_1    0.026835"
      ]
     },
     "execution_count": 32,
     "metadata": {},
     "output_type": "execute_result"
    }
   ],
   "source": [
    "importance_tbl = fimportances(bst, X_train_2.columns)\n",
    "importance_tbl.head(50)"
   ]
  },
  {
   "cell_type": "code",
   "execution_count": 33,
   "metadata": {},
   "outputs": [
    {
     "name": "stderr",
     "output_type": "stream",
     "text": [
      "C:\\Users\\Kumbhar\\OneDrive - American Axle & Manufacturing, Inc\\AAM\\globle_env\\lib\\site-packages\\xgboost\\core.py:108: UserWarning: ntree_limit is deprecated, use `iteration_range` or model slicing instead.\n",
      "  UserWarning\n"
     ]
    }
   ],
   "source": [
    "## save the model \n",
    "pickle.dump(bst, open(\"xgb_prnr_reg\", \"wb\"))\n",
    "##Score the dataset\n",
    "df[\"PRED\"] =  bst.predict(df[selected_vars[0]], ntree_limit=bst.best_ntree_limit)\n",
    "\n",
    "df.to_csv(r\"xgb_prnr_pred_reg.csv\")"
   ]
  },
  {
   "cell_type": "code",
   "execution_count": 34,
   "metadata": {},
   "outputs": [],
   "source": [
    "# retrieve performance metrics\n",
    "results = bst.evals_result()\n",
    "epochs = len(results['validation_0']['rmse'])\n",
    "x_axis = range(0, epochs)"
   ]
  },
  {
   "cell_type": "code",
   "execution_count": 35,
   "metadata": {},
   "outputs": [
    {
     "data": {
      "text/plain": [
       "Text(0.5, 1.0, 'XGBoost AUC')"
      ]
     },
     "execution_count": 35,
     "metadata": {},
     "output_type": "execute_result"
    },
    {
     "data": {
      "image/png": "[encoded data removed]",
      "text/plain": [
       "<Figure size 432x288 with 1 Axes>"
      ]
     },
     "metadata": {
      "needs_background": "light"
     },
     "output_type": "display_data"
    }
   ],
   "source": [
    "# plot auc wrt estimators\n",
    "fig, ax = plt.subplots()\n",
    "ax.plot(x_axis, results['validation_0']['rmse'], label='train')\n",
    "ax.plot(x_axis, results['validation_1']['rmse'], label='test')\n",
    "\n",
    "ax.legend()\n",
    "plt.ylabel('XGB AUC')\n",
    "plt.title('XGBoost AUC')"
   ]
  },
  {
   "cell_type": "code",
   "execution_count": 36,
   "metadata": {},
   "outputs": [
    {
     "data": {
      "image/png": "[encoded data removed]",
      "text/plain": [
       "<Figure size 432x288 with 1 Axes>"
      ]
     },
     "metadata": {
      "needs_background": "light"
     },
     "output_type": "display_data"
    }
   ],
   "source": [
    "# Compute micro-average ROC curve and ROC area\n",
    "fpr, tpr, thresholds = roc_curve(df_test[\"PRNR_TARGET\"].ravel(), ypred_test.ravel())\n",
    "roc_auc = auc(fpr, tpr)\n",
    "\n",
    "plt.figure()\n",
    "lw = 1\n",
    "plt.plot(fpr, tpr, color='darkorange',         lw=lw, label='ROC curve (area = %0.2f)' % roc_auc)\n",
    "plt.plot([0, 1], [0, 1], color='navy', lw=lw, linestyle='--')\n",
    "plt.xlim([0.0, 1.0])\n",
    "plt.ylim([0.0, 1.05])\n",
    "plt.xlabel('False Positive Rate')\n",
    "plt.ylabel('True Positive Rate')\n",
    "plt.title('Receiver operating characteristic example')\n",
    "plt.legend(loc=\"lower right\")\n",
    "plt.show()"
   ]
  },
  {
   "cell_type": "code",
   "execution_count": 37,
   "metadata": {},
   "outputs": [
    {
     "data": {
      "text/plain": [
       "[Text(-100.0, 0, ''),\n",
       " Text(0.0, 0, ''),\n",
       " Text(100.0, 0, ''),\n",
       " Text(200.0, 0, ''),\n",
       " Text(300.0, 0, ''),\n",
       " Text(400.0, 0, ''),\n",
       " Text(500.0, 0, '')]"
      ]
     },
     "execution_count": 37,
     "metadata": {},
     "output_type": "execute_result"
    },
    {
     "data": {
      "image/png": "[encoded data removed]",
      "text/plain": [
       "<Figure size 432x288 with 1 Axes>"
      ]
     },
     "metadata": {
      "needs_background": "light"
     },
     "output_type": "display_data"
    }
   ],
   "source": [
    "i = np.arange(len(tpr)) # index for df\n",
    "roc = pd.DataFrame({'fpr' : pd.Series(fpr, index=i),'tpr' : pd.Series(tpr, index = i), '1-fpr' : pd.Series(1-fpr, index = i), 'tf' : pd.Series(tpr - (1-fpr), index = i), 'thresholds' : pd.Series(thresholds, index = i)})\n",
    "roc.iloc[(roc.tf-0).abs().argsort()[:1]]\n",
    "\n",
    "# Plot tpr vs 1-fpr\n",
    "fig, ax = plt.subplots()\n",
    "plt.plot(roc['tpr'])\n",
    "plt.plot(roc['1-fpr'], color = 'red')\n",
    "plt.xlabel('1-False Positive Rate')\n",
    "plt.ylabel('True Positive Rate')\n",
    "plt.title('Receiver operating characteristic')\n",
    "ax.set_xticklabels([])"
   ]
  },
  {
   "cell_type": "code",
   "execution_count": 38,
   "metadata": {},
   "outputs": [
    {
     "name": "stdout",
     "output_type": "stream",
     "text": [
      "\n",
      " Optimal Cut off : 0.54207754\n"
     ]
    }
   ],
   "source": [
    "optimal_idx = np.argmax(tpr - fpr)  ## check it once \n",
    "optimal_threshold = thresholds[optimal_idx]\n",
    "print(\"\\n Optimal Cut off :\",optimal_threshold)"
   ]
  },
  {
   "cell_type": "code",
   "execution_count": null,
   "metadata": {},
   "outputs": [],
   "source": []
  },
  {
   "cell_type": "code",
   "execution_count": null,
   "metadata": {},
   "outputs": [],
   "source": []
  }
 ],
 "metadata": {
  "kernelspec": {
   "display_name": "Python 3",
   "language": "python",
   "name": "python3"
  },
  "language_info": {
   "codemirror_mode": {
    "name": "ipython",
    "version": 3
   },
   "file_extension": ".py",
   "mimetype": "text/x-python",
   "name": "python",
   "nbconvert_exporter": "python",
   "pygments_lexer": "ipython3",
   "version": "3.6.8"
  }
 },
 "nbformat": 4,
 "nbformat_minor": 2
}
