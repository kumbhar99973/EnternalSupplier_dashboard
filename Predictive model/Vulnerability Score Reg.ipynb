{
 "cells": [
  {
   "cell_type": "markdown",
   "id": "07c75de9",
   "metadata": {},
   "source": [
    "# Please find below the high-level structuring of python scripts in the attached folder. \n",
    "\n",
    "## Feature Engineering Script: \n",
    "* Feature Engineering_PPM  --- PPM, PRNR, Premium Freight\n",
    "\n",
    "## Individual Model Scripts:\n",
    "* regression approach PPM-v3\n",
    "* regression approach prem freight \n",
    "* regression approach prnr\n",
    "* Vulnerability Score Reg ----contains the feature engineering piece of vulnerability score as well\n",
    "\n",
    "## Prod Scripts:\n",
    "* Prod Script_V1   --- PPM, PRNR, Premium Freight\n",
    "* Prod Script Vulnerability Score  ----- Vulnerability Score\n",
    "\n",
    "## We need to run the prod scripts in the 1st week of every month"
   ]
  },
  {
   "cell_type": "code",
   "execution_count": 1,
   "id": "ff6a6f25",
   "metadata": {},
   "outputs": [],
   "source": [
    "import pandas as pd\n",
    "import numpy as np\n",
    "import os\n",
    "from dateutil.relativedelta import relativedelta\n",
    "from datetime import date, datetime\n",
    "import xgboost as xgb\n",
    "import pickle\n",
    "import cx_Oracle\n",
    "os.chdir(r\"C:\\Users\\Kumbhar\\OneDrive - American Axle & Manufacturing, Inc\\AAM\\Supplier_Risk\")"
   ]
  },
  {
   "cell_type": "code",
   "execution_count": 2,
   "id": "372578b0",
   "metadata": {},
   "outputs": [],
   "source": [
    "import xgboost as xgb\n",
    "import numpy as np\n",
    "import pandas as pd\n",
    "import time\n",
    "import pickle\n",
    "import os\n",
    "from math import log\n",
    "import matplotlib.pyplot as plt\n",
    "\n",
    "import sklearn\n",
    "from sklearn.model_selection import train_test_split, GridSearchCV, RandomizedSearchCV, ParameterGrid,StratifiedKFold, cross_val_score\n",
    "\n",
    "from sklearn import metrics \n",
    "from sklearn.metrics import confusion_matrix, precision_recall_curve, average_precision_score, brier_score_loss, f1_score, log_loss,auc,roc_curve,auc\n",
    "\n",
    "from sklearn.linear_model import LogisticRegression, LogisticRegressionCV\n",
    "from sklearn.ensemble import RandomForestClassifier\n",
    "\n",
    "from sklearn.decomposition import PCA\n",
    "#from sklearn.utils.fixes import signature\n",
    "\n",
    "import warnings\n",
    "warnings.filterwarnings(\"ignore\", category=DeprecationWarning)\n",
    "os.chdir(r\"C:\\Users\\Kumbhar\\OneDrive - American Axle & Manufacturing, Inc\\AAM\\Supplier_Risk\")"
   ]
  },
  {
   "cell_type": "markdown",
   "id": "62429b2b",
   "metadata": {},
   "source": [
    "### Import Data Files"
   ]
  },
  {
   "cell_type": "code",
   "execution_count": 4,
   "id": "64e5c3f1",
   "metadata": {},
   "outputs": [],
   "source": [
    "tns_dsn = cx_Oracle.makedsn('aamlxbidbp001.aam.net', 1525, service_name='BIDWPRD')\n",
    "con_ORACLE = cx_Oracle.connect(user='PROD_AAM_RO', password='prodaamro', dsn=tns_dsn)\n",
    "\n",
    "df = pd.read_sql_query(\"\"\"select * from bi_dw.WC_SC_SUMMARY_V\n",
    "                       where month >= 202101\n",
    "                       \"\"\", con_ORACLE)"
   ]
  },
  {
   "cell_type": "code",
   "execution_count": 5,
   "id": "1380b707",
   "metadata": {},
   "outputs": [],
   "source": [
    "df_vb = pd.read_sql_query(\"\"\"select b.supplier_name as vendor_name, third_party_id,  vulnerability_score\n",
    "                            from \n",
    "                            (select third_party_id , max(score) vulnerability_score from rpa_kpmg_financial\n",
    "                            group by third_party_id\n",
    "                            ) a\n",
    "                            join \n",
    "                            bi_dw.wc_sc_supplier_d b \n",
    "                            on a.third_party_id = b.affiliate_code \n",
    "                       \"\"\", con_ORACLE)"
   ]
  },
  {
   "cell_type": "code",
   "execution_count": 6,
   "id": "1d8d4c4f",
   "metadata": {},
   "outputs": [],
   "source": [
    "df_vb.dropna(subset = [\"VULNERABILITY_SCORE\"], inplace = True)"
   ]
  },
  {
   "cell_type": "code",
   "execution_count": 7,
   "id": "e3ff4c8a",
   "metadata": {},
   "outputs": [],
   "source": [
    "df_vb[\"VULNERABILITY_SCORE\"] = df_vb[\"VULNERABILITY_SCORE\"].astype(float)"
   ]
  },
  {
   "cell_type": "code",
   "execution_count": null,
   "id": "af7b0fef",
   "metadata": {},
   "outputs": [],
   "source": []
  },
  {
   "cell_type": "code",
   "execution_count": 8,
   "id": "30973572",
   "metadata": {},
   "outputs": [],
   "source": [
    "# Download data from Orcale DB for prod\n",
    "# Logic to collate data and filter suppliers to be implemented in the SQL script itself\n",
    "# df = pd.read_csv(os.getcwd()+r\"\\Data Files\\Feature Engineering Base.csv\", encoding='latin-1')\n",
    "df1 = pd.read_csv(os.getcwd()+r\"\\data\\Mapping File Prod.csv\", encoding='latin-1')"
   ]
  },
  {
   "cell_type": "code",
   "execution_count": 9,
   "id": "2e1c5c38",
   "metadata": {},
   "outputs": [],
   "source": [
    "df = df.merge(df1, on = [\"VENDOR_NAME\",\"ORGANIZATION_CODE\"], how='left')"
   ]
  },
  {
   "cell_type": "code",
   "execution_count": 10,
   "id": "ef1cbc2d",
   "metadata": {},
   "outputs": [],
   "source": [
    "df = df[df[\"ORG_TYPE\"]!=\"Others2\"]\n",
    "df = df.groupby(['VENDOR_NAME', 'MONTH', 'TYPE']).sum().reset_index()"
   ]
  },
  {
   "cell_type": "code",
   "execution_count": 11,
   "id": "4bcefd0a",
   "metadata": {},
   "outputs": [],
   "source": [
    "df = df.pivot(index = ['VENDOR_NAME','MONTH'], columns=['TYPE'], values = 'VAL').reset_index()"
   ]
  },
  {
   "cell_type": "markdown",
   "id": "26b79bac",
   "metadata": {},
   "source": [
    "### Data Cleaning "
   ]
  },
  {
   "cell_type": "code",
   "execution_count": 12,
   "id": "b86eac81",
   "metadata": {},
   "outputs": [],
   "source": [
    "df[\"Qty Recd\"].fillna(0, inplace = True)"
   ]
  },
  {
   "cell_type": "code",
   "execution_count": 13,
   "id": "5fa55409",
   "metadata": {},
   "outputs": [],
   "source": [
    "df[\"QTY_RECD_FLAG\"] = np.where((df[\"Qty Ordered\"] != np.NaN) & (df[\"Qty Ordered\"] !=0), df[\"Qty Recd\"]/df[\"Qty Ordered\"], np.NaN)\n",
    "df[\"QTY_RECD_FLAG\"] = np.where(df[\"QTY_RECD_FLAG\"]>1, 1, df[\"QTY_RECD_FLAG\"])"
   ]
  },
  {
   "cell_type": "code",
   "execution_count": 14,
   "id": "49d3eab9",
   "metadata": {},
   "outputs": [],
   "source": [
    "df[\"PPM Flag\"] = np.where((df[\"PPM Qty Shipped\"] != np.NaN) & (df[\"PPM Qty Shipped\"] != 0), df[\"PPM Qty Rejected\"]/df[\"PPM Qty Shipped\"]*1000000, np.NaN)"
   ]
  },
  {
   "cell_type": "code",
   "execution_count": 15,
   "id": "eba44c31",
   "metadata": {},
   "outputs": [],
   "source": [
    "df[\"MONTH\"] = pd.to_datetime(df[\"MONTH\"], format = '%Y%m').dt.date"
   ]
  },
  {
   "cell_type": "markdown",
   "id": "d6ebe2c6",
   "metadata": {},
   "source": [
    "### Define Current Month"
   ]
  },
  {
   "cell_type": "code",
   "execution_count": 22,
   "id": "4e27449a",
   "metadata": {},
   "outputs": [
    {
     "data": {
      "text/plain": [
       "datetime.date(2023, 5, 1)"
      ]
     },
     "execution_count": 22,
     "metadata": {},
     "output_type": "execute_result"
    }
   ],
   "source": [
    "cur_month"
   ]
  },
  {
   "cell_type": "code",
   "execution_count": 18,
   "id": "61fff212",
   "metadata": {},
   "outputs": [],
   "source": [
    "cur_month = date(date.today().year, date.today().month, 1)\n",
    "\n",
    "# cur_month = date(2022,4,1)"
   ]
  },
  {
   "cell_type": "code",
   "execution_count": 19,
   "id": "c37b560a",
   "metadata": {},
   "outputs": [],
   "source": [
    "df = df[df[\"MONTH\"]>= cur_month - relativedelta(months=12)]"
   ]
  },
  {
   "cell_type": "markdown",
   "id": "e9418185",
   "metadata": {},
   "source": [
    "### QTY_RECD_FLAG to be aggregated w/o vendor name"
   ]
  },
  {
   "cell_type": "code",
   "execution_count": 20,
   "id": "983b7e00",
   "metadata": {},
   "outputs": [
    {
     "name": "stderr",
     "output_type": "stream",
     "text": [
      "C:\\Users\\Kumbhar\\OneDrive - American Axle & Manufacturing, Inc\\AAM\\globle_env\\lib\\site-packages\\ipykernel_launcher.py:2: SettingWithCopyWarning: \n",
      "A value is trying to be set on a copy of a slice from a DataFrame\n",
      "\n",
      "See the caveats in the documentation: https://pandas.pydata.org/pandas-docs/stable/user_guide/indexing.html#returning-a-view-versus-a-copy\n",
      "  \n"
     ]
    }
   ],
   "source": [
    "target_df = df[[\"VENDOR_NAME\"]]\n",
    "target_df.drop_duplicates(inplace = True)"
   ]
  },
  {
   "cell_type": "code",
   "execution_count": 21,
   "id": "b0e15841",
   "metadata": {},
   "outputs": [
    {
     "name": "stderr",
     "output_type": "stream",
     "text": [
      "C:\\Users\\Kumbhar\\OneDrive - American Axle & Manufacturing, Inc\\AAM\\globle_env\\lib\\site-packages\\ipykernel_launcher.py:7: SettingWithCopyWarning: \n",
      "A value is trying to be set on a copy of a slice from a DataFrame\n",
      "\n",
      "See the caveats in the documentation: https://pandas.pydata.org/pandas-docs/stable/user_guide/indexing.html#returning-a-view-versus-a-copy\n",
      "  import sys\n"
     ]
    }
   ],
   "source": [
    "final_target_df = pd.DataFrame()\n",
    "\n",
    "\n",
    "month = cur_month\n",
    "\n",
    "target_df = df[[\"VENDOR_NAME\"]]\n",
    "target_df.drop_duplicates(inplace = True)\n",
    "\n",
    "\n",
    "#Month on Month features\n",
    "for z in np.arange(1,13,1):\n",
    "    tmp = df[df[\"MONTH\"]==month - relativedelta(months=z)].groupby(['VENDOR_NAME']).agg({ \n",
    "                \"QTY_RECD_FLAG\" : ['mean'],\n",
    "                \"Qty Ordered\":['sum'], \n",
    "                \"Qty Recd\":['sum'],\n",
    "                \"PRNR\" : ['sum'],\n",
    "                \"PREM FREIGHT\" : ['sum'],\n",
    "                \"Cost Recovery\" : ['sum'],\n",
    "                \"PPM Qty Rejected\": ['sum'],\n",
    "                \"PPM Qty Shipped\":['sum']\n",
    "                })\n",
    "    tmp.columns = [s + \"_MOM_\"  + str(z) for s in [\"_\".join(x) for x in tmp.columns.ravel()]]\n",
    "    tmp.reset_index(inplace = True)\n",
    "    target_df = target_df.merge(tmp, how = 'left', on = 'VENDOR_NAME')\n",
    "\n",
    "\n",
    "#Quarterly features\n",
    "for z in np.arange(1,13,3):\n",
    "    tmp = df[(df[\"MONTH\"]>=month - relativedelta(months=z+2))&(df[\"MONTH\"]<=month - relativedelta(months=z))].groupby(['VENDOR_NAME']).agg({ \n",
    "                \"QTY_RECD_FLAG\" : ['max','min','std','mean'],\n",
    "                \"Qty Ordered\":['max','min','std','mean', 'sum'], \n",
    "                \"Qty Recd\":['max','min','std','mean','sum'],\n",
    "                \"PRNR\" : ['max','std','mean','sum'],\n",
    "                \"PREM FREIGHT\" : ['max','std','mean','sum'],\n",
    "                \"Cost Recovery\" : ['max','std','mean','sum'],\n",
    "                \"PPM Flag\" : ['max','min','std','mean'], \n",
    "                \"PPM Qty Rejected\": ['max','min','std','mean', 'sum'],\n",
    "                \"PPM Qty Shipped\":['max','min','std','mean', 'sum']\n",
    "                })\n",
    "    tmp.columns = [s + \"_OQT_\"  + str(z) for s in [\"_\".join(x) for x in tmp.columns.ravel()]]\n",
    "    tmp.reset_index(inplace = True)\n",
    "    \n",
    "    for z in [x for x in tmp.columns if \"PPM Qty Shipped_sum\" in x]:\n",
    "        tmp[z.replace(\"PPM Qty Shipped_sum\",\"PPM_Agg_Flag\")] = np.where((tmp[z]!= np.NaN) & (tmp[z]!= 0), np.round(tmp[z.replace(\"Shipped\",\"Rejected\")]/tmp[z]*1000000), np.NaN)\n",
    "        \n",
    "    for z in [x for x in tmp.columns if \"Qty Ordered_sum\" in x]:\n",
    "        tmp[z.replace(\"Qty Ordered_sum\",\"Qty Recd_percent_Agg\")] = np.where((tmp[z]!= np.NaN) & (tmp[z]!= 0), tmp[z.replace(\"Ordered\",\"Recd\")]/tmp[z]*100, np.NaN) \n",
    "\n",
    "\n",
    "    target_df = target_df.merge(tmp, how = 'left', on = 'VENDOR_NAME')\n",
    "\n",
    "\n",
    "final_target_df = pd.concat([final_target_df, target_df])"
   ]
  },
  {
   "cell_type": "code",
   "execution_count": null,
   "id": "aa7ad3fc",
   "metadata": {},
   "outputs": [],
   "source": []
  },
  {
   "cell_type": "code",
   "execution_count": null,
   "id": "777de618",
   "metadata": {},
   "outputs": [],
   "source": []
  },
  {
   "cell_type": "markdown",
   "id": "d6796b27",
   "metadata": {},
   "source": [
    "# Merge with Vulnerability DF to map target score"
   ]
  },
  {
   "cell_type": "code",
   "execution_count": 23,
   "id": "573e11fc",
   "metadata": {},
   "outputs": [],
   "source": [
    "final_target_df = final_target_df.merge(df_vb, how = 'inner', on = 'VENDOR_NAME')"
   ]
  },
  {
   "cell_type": "code",
   "execution_count": 24,
   "id": "1f79b6a3",
   "metadata": {},
   "outputs": [
    {
     "data": {
      "text/html": [
       "<div>\n",
       "<style scoped>\n",
       "    .dataframe tbody tr th:only-of-type {\n",
       "        vertical-align: middle;\n",
       "    }\n",
       "\n",
       "    .dataframe tbody tr th {\n",
       "        vertical-align: top;\n",
       "    }\n",
       "\n",
       "    .dataframe thead th {\n",
       "        text-align: right;\n",
       "    }\n",
       "</style>\n",
       "<table border=\"1\" class=\"dataframe\">\n",
       "  <thead>\n",
       "    <tr style=\"text-align: right;\">\n",
       "      <th></th>\n",
       "      <th>VENDOR_NAME</th>\n",
       "      <th>QTY_RECD_FLAG_mean_MOM_1</th>\n",
       "      <th>Qty Ordered_sum_MOM_1</th>\n",
       "      <th>Qty Recd_sum_MOM_1</th>\n",
       "      <th>PRNR_sum_MOM_1</th>\n",
       "      <th>PREM FREIGHT_sum_MOM_1</th>\n",
       "      <th>Cost Recovery_sum_MOM_1</th>\n",
       "      <th>PPM Qty Rejected_sum_MOM_1</th>\n",
       "      <th>PPM Qty Shipped_sum_MOM_1</th>\n",
       "      <th>QTY_RECD_FLAG_mean_MOM_2</th>\n",
       "      <th>...</th>\n",
       "      <th>PPM Qty Rejected_sum_OQT_10</th>\n",
       "      <th>PPM Qty Shipped_max_OQT_10</th>\n",
       "      <th>PPM Qty Shipped_min_OQT_10</th>\n",
       "      <th>PPM Qty Shipped_std_OQT_10</th>\n",
       "      <th>PPM Qty Shipped_mean_OQT_10</th>\n",
       "      <th>PPM Qty Shipped_sum_OQT_10</th>\n",
       "      <th>PPM_Agg_Flag_OQT_10</th>\n",
       "      <th>Qty Recd_percent_Agg_OQT_10</th>\n",
       "      <th>THIRD_PARTY_ID</th>\n",
       "      <th>VULNERABILITY_SCORE</th>\n",
       "    </tr>\n",
       "  </thead>\n",
       "  <tbody>\n",
       "    <tr>\n",
       "      <th>0</th>\n",
       "      <td>AALBERTS T S/ IMPREGLON</td>\n",
       "      <td>1.000000</td>\n",
       "      <td>1080.0</td>\n",
       "      <td>1080.0</td>\n",
       "      <td>0.0</td>\n",
       "      <td>0.0</td>\n",
       "      <td>0.0</td>\n",
       "      <td>0.0</td>\n",
       "      <td>1080.0</td>\n",
       "      <td>NaN</td>\n",
       "      <td>...</td>\n",
       "      <td>NaN</td>\n",
       "      <td>NaN</td>\n",
       "      <td>NaN</td>\n",
       "      <td>NaN</td>\n",
       "      <td>NaN</td>\n",
       "      <td>NaN</td>\n",
       "      <td>NaN</td>\n",
       "      <td>NaN</td>\n",
       "      <td>1022</td>\n",
       "      <td>25.62</td>\n",
       "    </tr>\n",
       "    <tr>\n",
       "      <th>1</th>\n",
       "      <td>AAM AUTO COMPONENT (INDIA) PRIVATE LIMITED</td>\n",
       "      <td>0.484184</td>\n",
       "      <td>41193.0</td>\n",
       "      <td>19945.0</td>\n",
       "      <td>0.0</td>\n",
       "      <td>0.0</td>\n",
       "      <td>0.0</td>\n",
       "      <td>0.0</td>\n",
       "      <td>46446.0</td>\n",
       "      <td>0.394985</td>\n",
       "      <td>...</td>\n",
       "      <td>0.0</td>\n",
       "      <td>5958.0</td>\n",
       "      <td>3580.0</td>\n",
       "      <td>1215.834830</td>\n",
       "      <td>4.915667e+03</td>\n",
       "      <td>14747.0</td>\n",
       "      <td>0.0</td>\n",
       "      <td>445.150225</td>\n",
       "      <td>1</td>\n",
       "      <td>53.47</td>\n",
       "    </tr>\n",
       "    <tr>\n",
       "      <th>2</th>\n",
       "      <td>AAM DO BRASIL LTDA</td>\n",
       "      <td>0.000000</td>\n",
       "      <td>280.0</td>\n",
       "      <td>0.0</td>\n",
       "      <td>0.0</td>\n",
       "      <td>0.0</td>\n",
       "      <td>0.0</td>\n",
       "      <td>0.0</td>\n",
       "      <td>0.0</td>\n",
       "      <td>0.000000</td>\n",
       "      <td>...</td>\n",
       "      <td>0.0</td>\n",
       "      <td>18200.0</td>\n",
       "      <td>6000.0</td>\n",
       "      <td>6296.030495</td>\n",
       "      <td>1.120000e+04</td>\n",
       "      <td>33600.0</td>\n",
       "      <td>0.0</td>\n",
       "      <td>95.586854</td>\n",
       "      <td>1</td>\n",
       "      <td>53.47</td>\n",
       "    </tr>\n",
       "    <tr>\n",
       "      <th>3</th>\n",
       "      <td>AAM GERMANY GMBH</td>\n",
       "      <td>NaN</td>\n",
       "      <td>NaN</td>\n",
       "      <td>NaN</td>\n",
       "      <td>NaN</td>\n",
       "      <td>NaN</td>\n",
       "      <td>NaN</td>\n",
       "      <td>NaN</td>\n",
       "      <td>NaN</td>\n",
       "      <td>0.000000</td>\n",
       "      <td>...</td>\n",
       "      <td>0.0</td>\n",
       "      <td>4086.0</td>\n",
       "      <td>4086.0</td>\n",
       "      <td>NaN</td>\n",
       "      <td>4.086000e+03</td>\n",
       "      <td>4086.0</td>\n",
       "      <td>0.0</td>\n",
       "      <td>100.000000</td>\n",
       "      <td>1</td>\n",
       "      <td>53.47</td>\n",
       "    </tr>\n",
       "    <tr>\n",
       "      <th>4</th>\n",
       "      <td>AAM INTERNATIONAL S A R L</td>\n",
       "      <td>1.000000</td>\n",
       "      <td>1213578.0</td>\n",
       "      <td>1359922.0</td>\n",
       "      <td>0.0</td>\n",
       "      <td>0.0</td>\n",
       "      <td>0.0</td>\n",
       "      <td>4.0</td>\n",
       "      <td>1368880.0</td>\n",
       "      <td>1.000000</td>\n",
       "      <td>...</td>\n",
       "      <td>150.0</td>\n",
       "      <td>1471802.0</td>\n",
       "      <td>1372300.0</td>\n",
       "      <td>52158.659121</td>\n",
       "      <td>1.413007e+06</td>\n",
       "      <td>4239022.0</td>\n",
       "      <td>35.0</td>\n",
       "      <td>103.616659</td>\n",
       "      <td>1</td>\n",
       "      <td>53.47</td>\n",
       "    </tr>\n",
       "    <tr>\n",
       "      <th>...</th>\n",
       "      <td>...</td>\n",
       "      <td>...</td>\n",
       "      <td>...</td>\n",
       "      <td>...</td>\n",
       "      <td>...</td>\n",
       "      <td>...</td>\n",
       "      <td>...</td>\n",
       "      <td>...</td>\n",
       "      <td>...</td>\n",
       "      <td>...</td>\n",
       "      <td>...</td>\n",
       "      <td>...</td>\n",
       "      <td>...</td>\n",
       "      <td>...</td>\n",
       "      <td>...</td>\n",
       "      <td>...</td>\n",
       "      <td>...</td>\n",
       "      <td>...</td>\n",
       "      <td>...</td>\n",
       "      <td>...</td>\n",
       "      <td>...</td>\n",
       "    </tr>\n",
       "    <tr>\n",
       "      <th>572</th>\n",
       "      <td>ZHEJIANG SHUANGHUAN DRIVELINE CO LTD</td>\n",
       "      <td>0.927224</td>\n",
       "      <td>48120.0</td>\n",
       "      <td>44618.0</td>\n",
       "      <td>0.0</td>\n",
       "      <td>0.0</td>\n",
       "      <td>0.0</td>\n",
       "      <td>0.0</td>\n",
       "      <td>47985.0</td>\n",
       "      <td>0.941717</td>\n",
       "      <td>...</td>\n",
       "      <td>6.0</td>\n",
       "      <td>70494.0</td>\n",
       "      <td>47289.0</td>\n",
       "      <td>11690.621041</td>\n",
       "      <td>5.971867e+04</td>\n",
       "      <td>179156.0</td>\n",
       "      <td>33.0</td>\n",
       "      <td>98.601019</td>\n",
       "      <td>1026</td>\n",
       "      <td>22.55</td>\n",
       "    </tr>\n",
       "    <tr>\n",
       "      <th>573</th>\n",
       "      <td>ZHONGDING USA INC</td>\n",
       "      <td>1.000000</td>\n",
       "      <td>54000.0</td>\n",
       "      <td>69900.0</td>\n",
       "      <td>0.0</td>\n",
       "      <td>0.0</td>\n",
       "      <td>0.0</td>\n",
       "      <td>0.0</td>\n",
       "      <td>69900.0</td>\n",
       "      <td>0.899213</td>\n",
       "      <td>...</td>\n",
       "      <td>0.0</td>\n",
       "      <td>69900.0</td>\n",
       "      <td>57500.0</td>\n",
       "      <td>6453.164598</td>\n",
       "      <td>6.473333e+04</td>\n",
       "      <td>194200.0</td>\n",
       "      <td>0.0</td>\n",
       "      <td>103.407881</td>\n",
       "      <td>1192</td>\n",
       "      <td>29.80</td>\n",
       "    </tr>\n",
       "    <tr>\n",
       "      <th>574</th>\n",
       "      <td>ZOUPING TIANSHENG METAL TECHNOLOGY CO LTD</td>\n",
       "      <td>0.936138</td>\n",
       "      <td>15972.0</td>\n",
       "      <td>14952.0</td>\n",
       "      <td>0.0</td>\n",
       "      <td>0.0</td>\n",
       "      <td>0.0</td>\n",
       "      <td>0.0</td>\n",
       "      <td>15972.0</td>\n",
       "      <td>0.959767</td>\n",
       "      <td>...</td>\n",
       "      <td>0.0</td>\n",
       "      <td>34212.0</td>\n",
       "      <td>20832.0</td>\n",
       "      <td>7193.200122</td>\n",
       "      <td>2.904800e+04</td>\n",
       "      <td>87144.0</td>\n",
       "      <td>0.0</td>\n",
       "      <td>101.691419</td>\n",
       "      <td>82</td>\n",
       "      <td>38.05</td>\n",
       "    </tr>\n",
       "    <tr>\n",
       "      <th>575</th>\n",
       "      <td>ZWZ BEARING USA</td>\n",
       "      <td>0.974194</td>\n",
       "      <td>178560.0</td>\n",
       "      <td>173952.0</td>\n",
       "      <td>0.0</td>\n",
       "      <td>0.0</td>\n",
       "      <td>0.0</td>\n",
       "      <td>0.0</td>\n",
       "      <td>176256.0</td>\n",
       "      <td>1.000000</td>\n",
       "      <td>...</td>\n",
       "      <td>0.0</td>\n",
       "      <td>185040.0</td>\n",
       "      <td>109008.0</td>\n",
       "      <td>42704.680399</td>\n",
       "      <td>1.582560e+05</td>\n",
       "      <td>474768.0</td>\n",
       "      <td>0.0</td>\n",
       "      <td>100.000000</td>\n",
       "      <td>75</td>\n",
       "      <td>95.00</td>\n",
       "    </tr>\n",
       "    <tr>\n",
       "      <th>576</th>\n",
       "      <td>ZWZ Bearing Europe Gmbh</td>\n",
       "      <td>NaN</td>\n",
       "      <td>NaN</td>\n",
       "      <td>NaN</td>\n",
       "      <td>NaN</td>\n",
       "      <td>NaN</td>\n",
       "      <td>NaN</td>\n",
       "      <td>NaN</td>\n",
       "      <td>NaN</td>\n",
       "      <td>NaN</td>\n",
       "      <td>...</td>\n",
       "      <td>0.0</td>\n",
       "      <td>5376.0</td>\n",
       "      <td>3456.0</td>\n",
       "      <td>1015.968503</td>\n",
       "      <td>4.608000e+03</td>\n",
       "      <td>13824.0</td>\n",
       "      <td>0.0</td>\n",
       "      <td>100.000000</td>\n",
       "      <td>75</td>\n",
       "      <td>95.00</td>\n",
       "    </tr>\n",
       "  </tbody>\n",
       "</table>\n",
       "<p>577 rows × 267 columns</p>\n",
       "</div>"
      ],
      "text/plain": [
       "                                    VENDOR_NAME  QTY_RECD_FLAG_mean_MOM_1  \\\n",
       "0                       AALBERTS T S/ IMPREGLON                  1.000000   \n",
       "1    AAM AUTO COMPONENT (INDIA) PRIVATE LIMITED                  0.484184   \n",
       "2                            AAM DO BRASIL LTDA                  0.000000   \n",
       "3                              AAM GERMANY GMBH                       NaN   \n",
       "4                     AAM INTERNATIONAL S A R L                  1.000000   \n",
       "..                                          ...                       ...   \n",
       "572        ZHEJIANG SHUANGHUAN DRIVELINE CO LTD                  0.927224   \n",
       "573                           ZHONGDING USA INC                  1.000000   \n",
       "574   ZOUPING TIANSHENG METAL TECHNOLOGY CO LTD                  0.936138   \n",
       "575                             ZWZ BEARING USA                  0.974194   \n",
       "576                     ZWZ Bearing Europe Gmbh                       NaN   \n",
       "\n",
       "     Qty Ordered_sum_MOM_1  Qty Recd_sum_MOM_1  PRNR_sum_MOM_1  \\\n",
       "0                   1080.0              1080.0             0.0   \n",
       "1                  41193.0             19945.0             0.0   \n",
       "2                    280.0                 0.0             0.0   \n",
       "3                      NaN                 NaN             NaN   \n",
       "4                1213578.0           1359922.0             0.0   \n",
       "..                     ...                 ...             ...   \n",
       "572                48120.0             44618.0             0.0   \n",
       "573                54000.0             69900.0             0.0   \n",
       "574                15972.0             14952.0             0.0   \n",
       "575               178560.0            173952.0             0.0   \n",
       "576                    NaN                 NaN             NaN   \n",
       "\n",
       "     PREM FREIGHT_sum_MOM_1  Cost Recovery_sum_MOM_1  \\\n",
       "0                       0.0                      0.0   \n",
       "1                       0.0                      0.0   \n",
       "2                       0.0                      0.0   \n",
       "3                       NaN                      NaN   \n",
       "4                       0.0                      0.0   \n",
       "..                      ...                      ...   \n",
       "572                     0.0                      0.0   \n",
       "573                     0.0                      0.0   \n",
       "574                     0.0                      0.0   \n",
       "575                     0.0                      0.0   \n",
       "576                     NaN                      NaN   \n",
       "\n",
       "     PPM Qty Rejected_sum_MOM_1  PPM Qty Shipped_sum_MOM_1  \\\n",
       "0                           0.0                     1080.0   \n",
       "1                           0.0                    46446.0   \n",
       "2                           0.0                        0.0   \n",
       "3                           NaN                        NaN   \n",
       "4                           4.0                  1368880.0   \n",
       "..                          ...                        ...   \n",
       "572                         0.0                    47985.0   \n",
       "573                         0.0                    69900.0   \n",
       "574                         0.0                    15972.0   \n",
       "575                         0.0                   176256.0   \n",
       "576                         NaN                        NaN   \n",
       "\n",
       "     QTY_RECD_FLAG_mean_MOM_2  ...  PPM Qty Rejected_sum_OQT_10  \\\n",
       "0                         NaN  ...                          NaN   \n",
       "1                    0.394985  ...                          0.0   \n",
       "2                    0.000000  ...                          0.0   \n",
       "3                    0.000000  ...                          0.0   \n",
       "4                    1.000000  ...                        150.0   \n",
       "..                        ...  ...                          ...   \n",
       "572                  0.941717  ...                          6.0   \n",
       "573                  0.899213  ...                          0.0   \n",
       "574                  0.959767  ...                          0.0   \n",
       "575                  1.000000  ...                          0.0   \n",
       "576                       NaN  ...                          0.0   \n",
       "\n",
       "     PPM Qty Shipped_max_OQT_10  PPM Qty Shipped_min_OQT_10  \\\n",
       "0                           NaN                         NaN   \n",
       "1                        5958.0                      3580.0   \n",
       "2                       18200.0                      6000.0   \n",
       "3                        4086.0                      4086.0   \n",
       "4                     1471802.0                   1372300.0   \n",
       "..                          ...                         ...   \n",
       "572                     70494.0                     47289.0   \n",
       "573                     69900.0                     57500.0   \n",
       "574                     34212.0                     20832.0   \n",
       "575                    185040.0                    109008.0   \n",
       "576                      5376.0                      3456.0   \n",
       "\n",
       "     PPM Qty Shipped_std_OQT_10  PPM Qty Shipped_mean_OQT_10  \\\n",
       "0                           NaN                          NaN   \n",
       "1                   1215.834830                 4.915667e+03   \n",
       "2                   6296.030495                 1.120000e+04   \n",
       "3                           NaN                 4.086000e+03   \n",
       "4                  52158.659121                 1.413007e+06   \n",
       "..                          ...                          ...   \n",
       "572                11690.621041                 5.971867e+04   \n",
       "573                 6453.164598                 6.473333e+04   \n",
       "574                 7193.200122                 2.904800e+04   \n",
       "575                42704.680399                 1.582560e+05   \n",
       "576                 1015.968503                 4.608000e+03   \n",
       "\n",
       "     PPM Qty Shipped_sum_OQT_10  PPM_Agg_Flag_OQT_10  \\\n",
       "0                           NaN                  NaN   \n",
       "1                       14747.0                  0.0   \n",
       "2                       33600.0                  0.0   \n",
       "3                        4086.0                  0.0   \n",
       "4                     4239022.0                 35.0   \n",
       "..                          ...                  ...   \n",
       "572                    179156.0                 33.0   \n",
       "573                    194200.0                  0.0   \n",
       "574                     87144.0                  0.0   \n",
       "575                    474768.0                  0.0   \n",
       "576                     13824.0                  0.0   \n",
       "\n",
       "     Qty Recd_percent_Agg_OQT_10  THIRD_PARTY_ID  VULNERABILITY_SCORE  \n",
       "0                            NaN            1022                25.62  \n",
       "1                     445.150225               1                53.47  \n",
       "2                      95.586854               1                53.47  \n",
       "3                     100.000000               1                53.47  \n",
       "4                     103.616659               1                53.47  \n",
       "..                           ...             ...                  ...  \n",
       "572                    98.601019            1026                22.55  \n",
       "573                   103.407881            1192                29.80  \n",
       "574                   101.691419              82                38.05  \n",
       "575                   100.000000              75                95.00  \n",
       "576                   100.000000              75                95.00  \n",
       "\n",
       "[577 rows x 267 columns]"
      ]
     },
     "execution_count": 24,
     "metadata": {},
     "output_type": "execute_result"
    }
   ],
   "source": [
    "final_target_df"
   ]
  },
  {
   "cell_type": "code",
   "execution_count": 25,
   "id": "41a78203",
   "metadata": {},
   "outputs": [
    {
     "data": {
      "text/plain": [
       "0      25.62\n",
       "1      53.47\n",
       "2      53.47\n",
       "3      53.47\n",
       "4      53.47\n",
       "       ...  \n",
       "572    22.55\n",
       "573    29.80\n",
       "574    38.05\n",
       "575    95.00\n",
       "576    95.00\n",
       "Name: VULNERABILITY_SCORE, Length: 577, dtype: float64"
      ]
     },
     "execution_count": 25,
     "metadata": {},
     "output_type": "execute_result"
    }
   ],
   "source": [
    "final_target_df.VULNERABILITY_SCORE"
   ]
  },
  {
   "cell_type": "markdown",
   "id": "b2b3b1cc",
   "metadata": {},
   "source": [
    "# Train Model"
   ]
  },
  {
   "cell_type": "code",
   "execution_count": 26,
   "id": "91561562",
   "metadata": {},
   "outputs": [],
   "source": [
    "target = \"VULNERABILITY_SCORE\""
   ]
  },
  {
   "cell_type": "code",
   "execution_count": 27,
   "id": "7b099531",
   "metadata": {},
   "outputs": [],
   "source": [
    "seed = 1\n",
    "\n",
    "df_train, df_test = train_test_split(final_target_df, test_size= 0.01, random_state=seed)\n",
    "df_train, df_valid = train_test_split(df_train, test_size= 0.2, random_state=seed)"
   ]
  },
  {
   "cell_type": "code",
   "execution_count": 28,
   "id": "9605cdbe",
   "metadata": {},
   "outputs": [],
   "source": [
    "X_train=df_train.drop([\"VENDOR_NAME\", \"THIRD_PARTY_ID\", target] ,axis=1)\n",
    "y_train=df_train[target]\n",
    "\n",
    "X_valid=df_valid.drop([\"VENDOR_NAME\", \"THIRD_PARTY_ID\", target] ,axis=1)\n",
    "y_valid=df_valid[target]\n",
    "\n",
    "X_test=df_test.drop([\"VENDOR_NAME\", \"THIRD_PARTY_ID\", target] ,axis=1)\n",
    "y_test=df_test[target]"
   ]
  },
  {
   "cell_type": "code",
   "execution_count": 29,
   "id": "f6b517c8",
   "metadata": {},
   "outputs": [
    {
     "name": "stdout",
     "output_type": "stream",
     "text": [
      "\n",
      "Event rate in train set : 4,136.26%\n",
      "\n",
      " Train set shape: (456, 264)\n",
      "\n",
      "Event rate in test set : 2,846.00%\n",
      "\n",
      " Test set shape: (6, 264)\n",
      "\n",
      "Event rate in validation set : 4,149.78%\n",
      "\n",
      " validation set shape: (115, 264)\n"
     ]
    }
   ],
   "source": [
    "seed = 25522\n",
    "\n",
    "##event rate\n",
    "print(\"\\nEvent rate in train set :\", '{:,.2%}'.format(sum(y_train) / len(y_train)))\n",
    "print(\"\\n Train set shape:\",X_train.shape)\n",
    "print(\"\\nEvent rate in test set :\", '{:,.2%}'.format(sum(y_test) / len(y_test)))\n",
    "print(\"\\n Test set shape:\",X_test.shape)\n",
    "print(\"\\nEvent rate in validation set :\", '{:,.2%}'.format(sum(y_valid) / len(y_valid)))\n",
    "print(\"\\n validation set shape:\",X_valid.shape)"
   ]
  },
  {
   "cell_type": "code",
   "execution_count": 30,
   "id": "303e216a",
   "metadata": {},
   "outputs": [],
   "source": [
    "## Variable importance\n",
    "def fimportances(xc, predictors):\n",
    "    importances = pd.DataFrame({'predictor': predictors, 'importance': xc.feature_importances_})\n",
    "    importances = importances[importances['importance'] > 0]\n",
    "    importances.sort_values(by='importance', ascending=False, inplace=True)\n",
    "    importances.reset_index(inplace=True, drop=True)\n",
    "    importances = importances[['predictor', 'importance']]\n",
    "    return importances"
   ]
  },
  {
   "cell_type": "code",
   "execution_count": 31,
   "id": "89adebea",
   "metadata": {},
   "outputs": [],
   "source": [
    "xgb_model = xgb.XGBRegressor(max_depth = 3,\n",
    "              learning_rate = 0.01,\n",
    "              subsample= 0.6,\n",
    "              min_child_weight= 10,\n",
    "              colsample_bytree= 0.6,\n",
    "              scale_pos_weight =25,\n",
    "              nthread = -1, \n",
    "              n_estimators = 200              \n",
    "              )\n",
    "\n",
    "evals=[(X_train, np.ravel(y_train)),(X_valid, np.ravel(y_valid))]\n",
    "\n",
    "bst = xgb_model.fit(X_train, np.ravel(y_train), eval_metric=\"rmse\", eval_set=evals, early_stopping_rounds=40,  verbose=False)"
   ]
  },
  {
   "cell_type": "code",
   "execution_count": 32,
   "id": "5ecf40c0",
   "metadata": {},
   "outputs": [],
   "source": [
    "imp = fimportances(bst,X_train.columns)"
   ]
  },
  {
   "cell_type": "code",
   "execution_count": 33,
   "id": "74452b3f",
   "metadata": {
    "scrolled": true
   },
   "outputs": [
    {
     "name": "stdout",
     "output_type": "stream",
     "text": [
      "Columns Remaining : 166 , rmse_train: 19.060592,rmse_test: 21.417261 \n",
      "Columns Remaining : 152 , rmse_train: 19.058771,rmse_test: 21.569503 \n",
      "Columns Remaining : 142 , rmse_train: 19.074101,rmse_test: 21.545302 \n",
      "Columns Remaining : 131 , rmse_train: 19.114704,rmse_test: 21.701942 \n",
      "Columns Remaining : 125 , rmse_train: 19.033219,rmse_test: 21.534737 \n",
      "Columns Remaining : 122 , rmse_train: 19.061221,rmse_test: 21.522679 \n",
      "Columns Remaining : 120 , rmse_train: 19.043493,rmse_test: 21.611762 \n",
      "Columns Remaining : 117 , rmse_train: 19.036005,rmse_test: 21.509496 \n",
      "Columns Remaining : 115 , rmse_train: 19.033222,rmse_test: 21.541889 \n",
      "Columns Remaining : 113 , rmse_train: 19.037310,rmse_test: 21.595670 \n",
      "Columns Remaining : 111 , rmse_train: 19.062841,rmse_test: 21.626906 \n",
      "Columns Remaining : 109 , rmse_train: 19.117348,rmse_test: 21.493102 \n",
      "Columns Remaining : 106 , rmse_train: 19.052954,rmse_test: 21.549963 \n",
      "Columns Remaining : 104 , rmse_train: 19.092757,rmse_test: 21.637878 \n",
      "Columns Remaining : 102 , rmse_train: 19.047593,rmse_test: 21.599851 \n",
      "Columns Remaining : 99 , rmse_train: 19.064432,rmse_test: 21.615658 \n",
      "Columns Remaining : 96 , rmse_train: 19.161668,rmse_test: 21.583769 \n",
      "Columns Remaining : 94 , rmse_train: 19.068757,rmse_test: 21.666609 \n",
      "Columns Remaining : 92 , rmse_train: 19.130258,rmse_test: 21.638122 \n",
      "Columns Remaining : 90 , rmse_train: 19.098162,rmse_test: 21.528499 \n",
      "Columns Remaining : 88 , rmse_train: 19.157012,rmse_test: 21.601198 \n",
      "Columns Remaining : 86 , rmse_train: 19.150842,rmse_test: 21.586188 \n",
      "Columns Remaining : 84 , rmse_train: 19.091996,rmse_test: 21.618907 \n",
      "Columns Remaining : 82 , rmse_train: 19.108436,rmse_test: 21.630621 \n",
      "Columns Remaining : 80 , rmse_train: 19.101657,rmse_test: 21.590023 \n",
      "Columns Remaining : 78 , rmse_train: 19.086448,rmse_test: 21.683444 \n",
      "Columns Remaining : 76 , rmse_train: 19.118488,rmse_test: 21.532607 \n",
      "Columns Remaining : 74 , rmse_train: 19.175747,rmse_test: 21.476136 \n",
      "Columns Remaining : 72 , rmse_train: 19.211177,rmse_test: 21.683913 \n",
      "Columns Remaining : 70 , rmse_train: 19.181238,rmse_test: 21.445649 \n",
      "Columns Remaining : 68 , rmse_train: 19.157673,rmse_test: 21.529439 \n",
      "Columns Remaining : 66 , rmse_train: 19.133987,rmse_test: 21.561313 \n",
      "Columns Remaining : 64 , rmse_train: 19.120679,rmse_test: 21.527570 \n",
      "Columns Remaining : 62 , rmse_train: 19.127193,rmse_test: 21.592529 \n",
      "Columns Remaining : 60 , rmse_train: 19.187333,rmse_test: 21.462774 \n",
      "Columns Remaining : 58 , rmse_train: 19.192332,rmse_test: 21.669610 \n",
      "Columns Remaining : 56 , rmse_train: 19.211989,rmse_test: 21.630897 \n",
      "Columns Remaining : 54 , rmse_train: 19.201697,rmse_test: 21.549214 \n",
      "Columns Remaining : 52 , rmse_train: 19.214091,rmse_test: 21.559452 \n",
      "Columns Remaining : 50 , rmse_train: 19.212044,rmse_test: 21.410749 \n",
      "Columns Remaining : 48 , rmse_train: 19.225466,rmse_test: 21.463647 \n",
      "Columns Remaining : 46 , rmse_train: 19.274105,rmse_test: 21.615795 \n",
      "Columns Remaining : 44 , rmse_train: 19.305771,rmse_test: 21.619404 \n",
      "Columns Remaining : 42 , rmse_train: 19.434883,rmse_test: 21.502288 \n",
      "Columns Remaining : 40 , rmse_train: 19.364297,rmse_test: 21.492558 \n",
      "Columns Remaining : 38 , rmse_train: 19.403112,rmse_test: 21.549650 \n",
      "Columns Remaining : 36 , rmse_train: 19.411009,rmse_test: 21.580441 \n",
      "Columns Remaining : 34 , rmse_train: 19.562711,rmse_test: 21.599042 \n",
      "Columns Remaining : 32 , rmse_train: 19.562075,rmse_test: 21.655421 \n",
      "Columns Remaining : 30 , rmse_train: 19.602093,rmse_test: 21.694754 \n",
      "Columns Remaining : 28 , rmse_train: 19.641270,rmse_test: 21.731093 \n",
      "Columns Remaining : 26 , rmse_train: 19.677558,rmse_test: 21.770892 \n",
      "Columns Remaining : 24 , rmse_train: 19.709716,rmse_test: 21.693054 \n",
      "Columns Remaining : 22 , rmse_train: 19.753207,rmse_test: 21.687716 \n",
      "Columns Remaining : 20 , rmse_train: 19.784077,rmse_test: 21.830207 \n",
      "Columns Remaining : 18 , rmse_train: 19.819352,rmse_test: 21.698636 \n",
      "Columns Remaining : 16 , rmse_train: 19.829164,rmse_test: 21.602895 \n",
      "Columns Remaining : 14 , rmse_train: 19.891106,rmse_test: 21.666192 \n",
      "Columns Remaining : 12 , rmse_train: 19.977259,rmse_test: 21.845789 \n",
      "Columns Remaining : 10 , rmse_train: 20.094708,rmse_test: 21.830762 \n",
      "Columns Remaining : 8 , rmse_train: 20.336294,rmse_test: 21.869420 \n",
      "Columns Remaining : 6 , rmse_train: 20.375088,rmse_test: 21.719894 \n",
      "Columns Remaining : 4 , rmse_train: 20.632726,rmse_test: 21.812043 \n",
      "Columns Remaining : 2 , rmse_train: 21.213702,rmse_test: 21.649271 \n"
     ]
    }
   ],
   "source": [
    "bst1 = bst\n",
    "X_train_1 = X_train\n",
    "X_valid_1 = X_valid\n",
    "select_X_train = X_train_1\n",
    "\n",
    "dic_imp = {\"n\":[imp.shape[0]],\"Rmse Train\":[0],\"Rmse Test\":[0],\"Predictors\":[list(imp['predictor'])]}\n",
    "\n",
    "while(select_X_train.shape[1] > 3):\n",
    "    select_X_train = X_train_1[list(imp['predictor'])[:-2]]\n",
    "    select_X_valid = X_valid_1[list(imp['predictor'])[:-2]]\n",
    "    xgb_model = xgb.XGBRegressor(max_depth = 3,\n",
    "              learning_rate= 0.01,\n",
    "              subsample= 0.6,\n",
    "              min_child_weight= 10,\n",
    "              colsample_bytree= 0.6,\n",
    "              scale_pos_weight =25,\n",
    "              nthread = -1, \n",
    "              n_estimators = 200              \n",
    "              )\n",
    "\n",
    "    evals=[(select_X_train, np.ravel(y_train)),(select_X_valid, np.ravel(y_valid))]\n",
    "\n",
    "    bst = xgb_model.fit(select_X_train, np.ravel(y_train), eval_metric=\"rmse\", eval_set=evals,\n",
    "                        early_stopping_rounds=40   ,  verbose=False)\n",
    "    \n",
    "    ypred_train = bst.predict(select_X_train)\n",
    "    ypred_test  = bst.predict(select_X_valid)\n",
    "    \n",
    "    rmse_train = np.sqrt(metrics.mean_squared_error(y_train, ypred_train))\n",
    "    rmse_test = np.sqrt(metrics.mean_squared_error(y_valid, ypred_test))\n",
    "\n",
    "    \n",
    "    print(\"Columns Remaining : %d , rmse_train: %f,rmse_test: %f \"%(select_X_train.shape[1],rmse_train,rmse_test))\n",
    "    \n",
    "    dic_imp['n'].append(imp.shape[0])\n",
    "    dic_imp['Rmse Train'].append(rmse_train)\n",
    "    dic_imp['Rmse Test'].append(rmse_test)\n",
    "    dic_imp['Predictors'].append(list(imp['predictor']))\n",
    "    \n",
    "    imp = fimportances(bst,select_X_train.columns)"
   ]
  },
  {
   "cell_type": "code",
   "execution_count": 34,
   "id": "167db814",
   "metadata": {},
   "outputs": [],
   "source": [
    "df_imp =pd.DataFrame(dic_imp)"
   ]
  },
  {
   "cell_type": "code",
   "execution_count": 35,
   "id": "b5b759e7",
   "metadata": {},
   "outputs": [
    {
     "data": {
      "text/html": [
       "<div>\n",
       "<style scoped>\n",
       "    .dataframe tbody tr th:only-of-type {\n",
       "        vertical-align: middle;\n",
       "    }\n",
       "\n",
       "    .dataframe tbody tr th {\n",
       "        vertical-align: top;\n",
       "    }\n",
       "\n",
       "    .dataframe thead th {\n",
       "        text-align: right;\n",
       "    }\n",
       "</style>\n",
       "<table border=\"1\" class=\"dataframe\">\n",
       "  <thead>\n",
       "    <tr style=\"text-align: right;\">\n",
       "      <th></th>\n",
       "      <th>n</th>\n",
       "      <th>Rmse Train</th>\n",
       "      <th>Rmse Test</th>\n",
       "      <th>Predictors</th>\n",
       "    </tr>\n",
       "  </thead>\n",
       "  <tbody>\n",
       "    <tr>\n",
       "      <th>0</th>\n",
       "      <td>168</td>\n",
       "      <td>0.000000</td>\n",
       "      <td>0.000000</td>\n",
       "      <td>[Qty Ordered_mean_OQT_1, Qty Recd_mean_OQT_4, ...</td>\n",
       "    </tr>\n",
       "    <tr>\n",
       "      <th>1</th>\n",
       "      <td>168</td>\n",
       "      <td>19.060592</td>\n",
       "      <td>21.417261</td>\n",
       "      <td>[Qty Ordered_mean_OQT_1, Qty Recd_mean_OQT_4, ...</td>\n",
       "    </tr>\n",
       "    <tr>\n",
       "      <th>2</th>\n",
       "      <td>154</td>\n",
       "      <td>19.058771</td>\n",
       "      <td>21.569503</td>\n",
       "      <td>[PPM Flag_max_OQT_7, PPM Qty Shipped_sum_MOM_8...</td>\n",
       "    </tr>\n",
       "    <tr>\n",
       "      <th>3</th>\n",
       "      <td>144</td>\n",
       "      <td>19.074101</td>\n",
       "      <td>21.545302</td>\n",
       "      <td>[PPM Flag_mean_OQT_4, Qty Ordered_min_OQT_7, Q...</td>\n",
       "    </tr>\n",
       "    <tr>\n",
       "      <th>4</th>\n",
       "      <td>133</td>\n",
       "      <td>19.114704</td>\n",
       "      <td>21.701942</td>\n",
       "      <td>[Qty Ordered_mean_OQT_7, PPM Flag_max_OQT_7, P...</td>\n",
       "    </tr>\n",
       "    <tr>\n",
       "      <th>...</th>\n",
       "      <td>...</td>\n",
       "      <td>...</td>\n",
       "      <td>...</td>\n",
       "      <td>...</td>\n",
       "    </tr>\n",
       "    <tr>\n",
       "      <th>60</th>\n",
       "      <td>12</td>\n",
       "      <td>20.094708</td>\n",
       "      <td>21.830762</td>\n",
       "      <td>[PRNR_mean_OQT_10, Qty Recd_sum_MOM_9, Qty Ord...</td>\n",
       "    </tr>\n",
       "    <tr>\n",
       "      <th>61</th>\n",
       "      <td>10</td>\n",
       "      <td>20.336294</td>\n",
       "      <td>21.869420</td>\n",
       "      <td>[PRNR_sum_MOM_12, Qty Ordered_std_OQT_10, PPM ...</td>\n",
       "    </tr>\n",
       "    <tr>\n",
       "      <th>62</th>\n",
       "      <td>8</td>\n",
       "      <td>20.375088</td>\n",
       "      <td>21.719894</td>\n",
       "      <td>[Qty Ordered_std_OQT_10, Qty Ordered_mean_OQT_...</td>\n",
       "    </tr>\n",
       "    <tr>\n",
       "      <th>63</th>\n",
       "      <td>6</td>\n",
       "      <td>20.632726</td>\n",
       "      <td>21.812043</td>\n",
       "      <td>[Qty Ordered_mean_OQT_4, PPM Qty Shipped_sum_M...</td>\n",
       "    </tr>\n",
       "    <tr>\n",
       "      <th>64</th>\n",
       "      <td>4</td>\n",
       "      <td>21.213702</td>\n",
       "      <td>21.649271</td>\n",
       "      <td>[Qty Ordered_mean_OQT_4, Qty Recd_sum_MOM_9, P...</td>\n",
       "    </tr>\n",
       "  </tbody>\n",
       "</table>\n",
       "<p>65 rows × 4 columns</p>\n",
       "</div>"
      ],
      "text/plain": [
       "      n  Rmse Train  Rmse Test  \\\n",
       "0   168    0.000000   0.000000   \n",
       "1   168   19.060592  21.417261   \n",
       "2   154   19.058771  21.569503   \n",
       "3   144   19.074101  21.545302   \n",
       "4   133   19.114704  21.701942   \n",
       "..  ...         ...        ...   \n",
       "60   12   20.094708  21.830762   \n",
       "61   10   20.336294  21.869420   \n",
       "62    8   20.375088  21.719894   \n",
       "63    6   20.632726  21.812043   \n",
       "64    4   21.213702  21.649271   \n",
       "\n",
       "                                           Predictors  \n",
       "0   [Qty Ordered_mean_OQT_1, Qty Recd_mean_OQT_4, ...  \n",
       "1   [Qty Ordered_mean_OQT_1, Qty Recd_mean_OQT_4, ...  \n",
       "2   [PPM Flag_max_OQT_7, PPM Qty Shipped_sum_MOM_8...  \n",
       "3   [PPM Flag_mean_OQT_4, Qty Ordered_min_OQT_7, Q...  \n",
       "4   [Qty Ordered_mean_OQT_7, PPM Flag_max_OQT_7, P...  \n",
       "..                                                ...  \n",
       "60  [PRNR_mean_OQT_10, Qty Recd_sum_MOM_9, Qty Ord...  \n",
       "61  [PRNR_sum_MOM_12, Qty Ordered_std_OQT_10, PPM ...  \n",
       "62  [Qty Ordered_std_OQT_10, Qty Ordered_mean_OQT_...  \n",
       "63  [Qty Ordered_mean_OQT_4, PPM Qty Shipped_sum_M...  \n",
       "64  [Qty Ordered_mean_OQT_4, Qty Recd_sum_MOM_9, P...  \n",
       "\n",
       "[65 rows x 4 columns]"
      ]
     },
     "execution_count": 35,
     "metadata": {},
     "output_type": "execute_result"
    }
   ],
   "source": [
    "df_imp"
   ]
  },
  {
   "cell_type": "code",
   "execution_count": 38,
   "id": "a871ff48",
   "metadata": {},
   "outputs": [],
   "source": [
    "selected_vars = list(df_imp[df_imp['n']==18][\"Predictors\"])"
   ]
  },
  {
   "cell_type": "code",
   "execution_count": 39,
   "id": "845af857",
   "metadata": {},
   "outputs": [
    {
     "data": {
      "text/plain": [
       "[['PPM Qty Shipped_sum_MOM_8',\n",
       "  'Qty Ordered_mean_OQT_4',\n",
       "  'PPM Flag_max_OQT_7',\n",
       "  'Qty Recd_min_OQT_7',\n",
       "  'PRNR_mean_OQT_10',\n",
       "  'Qty Ordered_std_OQT_10',\n",
       "  'Qty Ordered_max_OQT_4',\n",
       "  'PPM Flag_mean_OQT_7',\n",
       "  'Qty Ordered_sum_MOM_2',\n",
       "  'PRNR_sum_MOM_12',\n",
       "  'PPM Qty Rejected_sum_MOM_4',\n",
       "  'Qty Recd_sum_MOM_9',\n",
       "  'PPM Qty Shipped_std_OQT_1',\n",
       "  'Qty Recd_percent_Agg_OQT_4',\n",
       "  'Qty Ordered_min_OQT_4',\n",
       "  'PPM Qty Shipped_sum_MOM_9',\n",
       "  'Qty Recd_sum_MOM_12',\n",
       "  'PPM Flag_max_OQT_4']]"
      ]
     },
     "execution_count": 39,
     "metadata": {},
     "output_type": "execute_result"
    }
   ],
   "source": [
    "selected_vars"
   ]
  },
  {
   "cell_type": "code",
   "execution_count": 40,
   "id": "bcdb2007",
   "metadata": {},
   "outputs": [],
   "source": [
    "filename = 'data/Vulnerability_selected_cols.sav'\n",
    "pickle.dump(selected_vars[0], open(filename, 'wb'))"
   ]
  },
  {
   "cell_type": "code",
   "execution_count": 41,
   "id": "1f093d44",
   "metadata": {},
   "outputs": [
    {
     "name": "stdout",
     "output_type": "stream",
     "text": [
      "\n",
      " Train shape: (456, 18) \n",
      " Test shape: (6, 18) \n",
      " Validation shape: (115, 18)\n"
     ]
    }
   ],
   "source": [
    "X_train_2=X_train[selected_vars[0]]\n",
    "X_test_2=X_test[selected_vars[0]]\n",
    "X_valid_2=X_valid[selected_vars[0]]\n",
    "\n",
    "\n",
    "print(\"\\n Train shape:\",X_train_2.shape,\"\\n Test shape:\",X_test_2.shape,\"\\n Validation shape:\",X_valid_2.shape)"
   ]
  },
  {
   "cell_type": "code",
   "execution_count": 42,
   "id": "d45defd1",
   "metadata": {},
   "outputs": [],
   "source": [
    "# set model parameters \n",
    "missing_value=None; cpu=-1; early_stopping_round=40; split_random_state=None\n",
    "kfolds = StratifiedKFold(6, random_state=1, shuffle = True)"
   ]
  },
  {
   "cell_type": "code",
   "execution_count": 43,
   "id": "b02d89f0",
   "metadata": {
    "scrolled": true
   },
   "outputs": [
    {
     "name": "stdout",
     "output_type": "stream",
     "text": [
      "Randomized search..\n",
      "Randomized search time: 33.790640354156494\n",
      "Best score: -17.425129665073595\n",
      "Best params: \n",
      "colsample_bytree: 0.55\n",
      "learning_rate: 0.019000000000000003\n",
      "max_depth: 3\n",
      "min_child_weight: 7\n",
      "reg_alpha: 1\n",
      "reg_lambda: 5\n",
      "scale_pos_weight: 29\n",
      "subsample: 0.55\n"
     ]
    }
   ],
   "source": [
    "## XGB model##\n",
    "param_grid = {'max_depth': list(range(1, 6)),\n",
    "              'learning_rate': np.arange(0.001, 0.02, 0.001),\n",
    "              'subsample': np.arange(0.4, 0.7,0.05),\n",
    "              'min_child_weight': np.arange(1, 25, 3),\n",
    "              'colsample_bytree': np.arange(0.5, 0.75, 0.05),\n",
    "              'scale_pos_weight' :np.arange(5, 40, 2), \n",
    "              \"reg_alpha\"   : [0.5,0.2,1],\n",
    "              \"reg_lambda\"  : [2,3,5]\n",
    "            }\n",
    "\n",
    "if X_train_2.shape[1] == 1:\n",
    "    param_grid['colsample_bytree'] = [1]\n",
    "    \n",
    "param_dist = {'nthread': cpu, 'n_estimators': 200}\n",
    "xgb_model = xgb.XGBRegressor(**param_dist)\n",
    "\n",
    "##random search XGB    \n",
    "clf = RandomizedSearchCV(estimator=xgb_model, param_distributions=param_grid, scoring='neg_mean_absolute_error', n_iter=50,\n",
    "                         random_state=40, cv=6,error_score=0, return_train_score =True)\n",
    "print(\"Randomized search..\")\n",
    "search_time_start = time.time()\n",
    "clf.fit(X_train_2, np.ravel(y_train), verbose = 1)\n",
    "print(\"Randomized search time:\", time.time() - search_time_start)\n",
    "params = clf.best_params_\n",
    "\n",
    "dic=clf.cv_results_\n",
    "\n",
    "params_bst = params\n",
    "params_tbl = pd.DataFrame(columns=list(params_bst.keys()))  \n",
    "params_tbl.loc['0'] = [params_bst[k] for k in params_tbl.columns]\n",
    "\n",
    "print(\"Best score: {}\".format(clf.best_score_))\n",
    "print(\"Best params: \")\n",
    "for param_name in sorted(params_bst.keys()):\n",
    "    print('%s: %r' % (param_name, params_bst[param_name]))\n",
    "\n",
    "params.update(param_dist)\n",
    "xgb_model = xgb.XGBClassifier(**params)"
   ]
  },
  {
   "cell_type": "code",
   "execution_count": 44,
   "id": "d002feec",
   "metadata": {},
   "outputs": [],
   "source": [
    "pd.Series(dic['mean_train_score']).to_csv(\"mean_train_rmse_vulnerability_reg.csv\")"
   ]
  },
  {
   "cell_type": "code",
   "execution_count": 45,
   "id": "5c191b9f",
   "metadata": {},
   "outputs": [],
   "source": [
    "pd.Series(dic['mean_test_score']).to_csv(\"mean_test_rmse_vulnerability_reg.csv\")"
   ]
  },
  {
   "cell_type": "code",
   "execution_count": 46,
   "id": "3069ca66",
   "metadata": {},
   "outputs": [
    {
     "data": {
      "text/plain": [
       "{'subsample': 0.55,\n",
       " 'scale_pos_weight': 29,\n",
       " 'reg_lambda': 5,\n",
       " 'reg_alpha': 1,\n",
       " 'min_child_weight': 7,\n",
       " 'max_depth': 3,\n",
       " 'learning_rate': 0.019000000000000003,\n",
       " 'colsample_bytree': 0.55,\n",
       " 'nthread': -1,\n",
       " 'n_estimators': 200}"
      ]
     },
     "execution_count": 46,
     "metadata": {},
     "output_type": "execute_result"
    }
   ],
   "source": [
    "params"
   ]
  },
  {
   "cell_type": "code",
   "execution_count": 47,
   "id": "54d91884",
   "metadata": {},
   "outputs": [],
   "source": [
    "# colsample_bytree: 0.7000000000000002\n",
    "# learning_rate: 0.016\n",
    "# max_depth: 5\n",
    "# min_child_weight: 10\n",
    "# scale_pos_weight: 5\n",
    "# subsample: 0.6pd.DataFrame(dic['params']).to_csv(\"params_mesdq.csv\")"
   ]
  },
  {
   "cell_type": "code",
   "execution_count": 48,
   "id": "08d33878",
   "metadata": {},
   "outputs": [],
   "source": [
    "xgb_model = xgb.XGBRegressor(max_depth = 3,\n",
    "              learning_rate= 0.02,\n",
    "              subsample= 0.55,\n",
    "              min_child_weight= 7,\n",
    "              colsample_bytree= 0.55,\n",
    "              scale_pos_weight = 29,\n",
    "              nthread = -1, \n",
    "              n_estimators = 200, \n",
    "                reg_lambda = 5,\n",
    "                reg_alpha = 1\n",
    "             ) "
   ]
  },
  {
   "cell_type": "code",
   "execution_count": 49,
   "id": "3fc5bb2a",
   "metadata": {
    "scrolled": true
   },
   "outputs": [],
   "source": [
    "# cross validation gini\n",
    "def xgboost(X_tr,X_ts,y_tr,y_ts):\n",
    "    evals=[(X_tr, np.ravel(y_tr)),(X_ts, np.ravel(y_ts))]\n",
    "\n",
    "    bst = xgb_model.fit(X_tr, np.ravel(y_tr), eval_metric=\"rmse\", eval_set=evals,\n",
    "                        early_stopping_rounds=early_stopping_round   ,  verbose=False)\n",
    "\n",
    "    if early_stopping_round is None:\n",
    "        ypred_train = bst.predict(X_tr)\n",
    "        ypred_test = bst.predict(X_ts)\n",
    "    else:\n",
    "        ypred_train = bst.predict(X_tr, ntree_limit=bst.best_ntree_limit)\n",
    "        ypred_test = bst.predict(X_ts, ntree_limit=bst.best_ntree_limit)\n",
    "\n",
    "    rmse_train = np.sqrt(metrics.mean_squared_error(y_train, ypred_train))\n",
    "    rmse_test = np.sqrt(metrics.mean_squared_error(y_valid, ypred_test))\n",
    "\n",
    "    return bst,rmse_train,rmse_test,ypred_train,ypred_test"
   ]
  },
  {
   "cell_type": "code",
   "execution_count": 50,
   "id": "ef4b0dc5",
   "metadata": {},
   "outputs": [
    {
     "name": "stdout",
     "output_type": "stream",
     "text": [
      "RMSE TRAIN: 17.918489468248044\n",
      "\n",
      "RMSE Validation: 21.242138911467123\n"
     ]
    },
    {
     "name": "stderr",
     "output_type": "stream",
     "text": [
      "C:\\Users\\Kumbhar\\OneDrive - American Axle & Manufacturing, Inc\\AAM\\globle_env\\lib\\site-packages\\xgboost\\core.py:108: UserWarning: ntree_limit is deprecated, use `iteration_range` or model slicing instead.\n",
      "  UserWarning\n"
     ]
    }
   ],
   "source": [
    "## run xgboost\n",
    "bst,rmse_train,rmse_test,ypred_train,ypred_test=xgboost(X_train_2, X_valid_2, y_train, y_valid)\n",
    "\n",
    "##Model performance on sample\n",
    "print(\"RMSE TRAIN:\",rmse_train )\n",
    "print(\"\\nRMSE Validation:\",rmse_test )\n"
   ]
  },
  {
   "cell_type": "code",
   "execution_count": 51,
   "id": "10b8dfdc",
   "metadata": {},
   "outputs": [
    {
     "data": {
      "text/plain": [
       "Index(['PPM Qty Shipped_sum_MOM_8', 'Qty Ordered_mean_OQT_4',\n",
       "       'PPM Flag_max_OQT_7', 'Qty Recd_min_OQT_7', 'PRNR_mean_OQT_10',\n",
       "       'Qty Ordered_std_OQT_10', 'Qty Ordered_max_OQT_4',\n",
       "       'PPM Flag_mean_OQT_7', 'Qty Ordered_sum_MOM_2', 'PRNR_sum_MOM_12',\n",
       "       'PPM Qty Rejected_sum_MOM_4', 'Qty Recd_sum_MOM_9',\n",
       "       'PPM Qty Shipped_std_OQT_1', 'Qty Recd_percent_Agg_OQT_4',\n",
       "       'Qty Ordered_min_OQT_4', 'PPM Qty Shipped_sum_MOM_9',\n",
       "       'Qty Recd_sum_MOM_12', 'PPM Flag_max_OQT_4'],\n",
       "      dtype='object')"
      ]
     },
     "execution_count": 51,
     "metadata": {},
     "output_type": "execute_result"
    }
   ],
   "source": [
    "X_train_2.columns"
   ]
  },
  {
   "cell_type": "code",
   "execution_count": 52,
   "id": "3a2a5e33",
   "metadata": {},
   "outputs": [
    {
     "name": "stdout",
     "output_type": "stream",
     "text": [
      "RMSE Test 42.22971396409784\n"
     ]
    },
    {
     "name": "stderr",
     "output_type": "stream",
     "text": [
      "C:\\Users\\Kumbhar\\OneDrive - American Axle & Manufacturing, Inc\\AAM\\globle_env\\lib\\site-packages\\xgboost\\core.py:108: UserWarning: ntree_limit is deprecated, use `iteration_range` or model slicing instead.\n",
      "  UserWarning\n"
     ]
    }
   ],
   "source": [
    "#ypred_test = bst.predict_proba(X_test_2.drop(columns=['act','pred']), ntree_limit=bst.best_ntree_limit)[:, 1]\n",
    "ypred_test = bst.predict(X_test_2, ntree_limit=bst.best_ntree_limit)\n",
    "rmse_test = np.sqrt(metrics.mean_squared_error(y_test, ypred_test))\n",
    "print(\"RMSE Test\",rmse_test*2-1)"
   ]
  },
  {
   "cell_type": "code",
   "execution_count": 53,
   "id": "5138659e",
   "metadata": {
    "scrolled": true
   },
   "outputs": [],
   "source": [
    "importance_tbl = fimportances(bst, X_train_2.columns)\n",
    "importance_tbl.to_csv(\"xgb_vulnerability_reg.csv\",index=0)"
   ]
  },
  {
   "cell_type": "code",
   "execution_count": 54,
   "id": "5962dc33",
   "metadata": {
    "scrolled": true
   },
   "outputs": [
    {
     "data": {
      "text/html": [
       "<div>\n",
       "<style scoped>\n",
       "    .dataframe tbody tr th:only-of-type {\n",
       "        vertical-align: middle;\n",
       "    }\n",
       "\n",
       "    .dataframe tbody tr th {\n",
       "        vertical-align: top;\n",
       "    }\n",
       "\n",
       "    .dataframe thead th {\n",
       "        text-align: right;\n",
       "    }\n",
       "</style>\n",
       "<table border=\"1\" class=\"dataframe\">\n",
       "  <thead>\n",
       "    <tr style=\"text-align: right;\">\n",
       "      <th></th>\n",
       "      <th>predictor</th>\n",
       "      <th>importance</th>\n",
       "    </tr>\n",
       "  </thead>\n",
       "  <tbody>\n",
       "    <tr>\n",
       "      <th>0</th>\n",
       "      <td>Qty Ordered_max_OQT_4</td>\n",
       "      <td>0.065752</td>\n",
       "    </tr>\n",
       "    <tr>\n",
       "      <th>1</th>\n",
       "      <td>Qty Recd_min_OQT_7</td>\n",
       "      <td>0.065313</td>\n",
       "    </tr>\n",
       "    <tr>\n",
       "      <th>2</th>\n",
       "      <td>PPM Qty Rejected_sum_MOM_4</td>\n",
       "      <td>0.061951</td>\n",
       "    </tr>\n",
       "    <tr>\n",
       "      <th>3</th>\n",
       "      <td>Qty Ordered_mean_OQT_4</td>\n",
       "      <td>0.058612</td>\n",
       "    </tr>\n",
       "    <tr>\n",
       "      <th>4</th>\n",
       "      <td>Qty Recd_sum_MOM_9</td>\n",
       "      <td>0.058387</td>\n",
       "    </tr>\n",
       "    <tr>\n",
       "      <th>5</th>\n",
       "      <td>Qty Ordered_std_OQT_10</td>\n",
       "      <td>0.057933</td>\n",
       "    </tr>\n",
       "    <tr>\n",
       "      <th>6</th>\n",
       "      <td>PRNR_sum_MOM_12</td>\n",
       "      <td>0.056759</td>\n",
       "    </tr>\n",
       "    <tr>\n",
       "      <th>7</th>\n",
       "      <td>Qty Recd_percent_Agg_OQT_4</td>\n",
       "      <td>0.056267</td>\n",
       "    </tr>\n",
       "    <tr>\n",
       "      <th>8</th>\n",
       "      <td>PPM Qty Shipped_std_OQT_1</td>\n",
       "      <td>0.055860</td>\n",
       "    </tr>\n",
       "    <tr>\n",
       "      <th>9</th>\n",
       "      <td>Qty Ordered_min_OQT_4</td>\n",
       "      <td>0.055664</td>\n",
       "    </tr>\n",
       "    <tr>\n",
       "      <th>10</th>\n",
       "      <td>PPM Flag_max_OQT_4</td>\n",
       "      <td>0.054748</td>\n",
       "    </tr>\n",
       "    <tr>\n",
       "      <th>11</th>\n",
       "      <td>PPM Qty Shipped_sum_MOM_8</td>\n",
       "      <td>0.053700</td>\n",
       "    </tr>\n",
       "    <tr>\n",
       "      <th>12</th>\n",
       "      <td>PPM Flag_mean_OQT_7</td>\n",
       "      <td>0.052748</td>\n",
       "    </tr>\n",
       "    <tr>\n",
       "      <th>13</th>\n",
       "      <td>PPM Qty Shipped_sum_MOM_9</td>\n",
       "      <td>0.050528</td>\n",
       "    </tr>\n",
       "    <tr>\n",
       "      <th>14</th>\n",
       "      <td>PPM Flag_max_OQT_7</td>\n",
       "      <td>0.050361</td>\n",
       "    </tr>\n",
       "    <tr>\n",
       "      <th>15</th>\n",
       "      <td>Qty Recd_sum_MOM_12</td>\n",
       "      <td>0.049828</td>\n",
       "    </tr>\n",
       "    <tr>\n",
       "      <th>16</th>\n",
       "      <td>Qty Ordered_sum_MOM_2</td>\n",
       "      <td>0.049303</td>\n",
       "    </tr>\n",
       "    <tr>\n",
       "      <th>17</th>\n",
       "      <td>PRNR_mean_OQT_10</td>\n",
       "      <td>0.046284</td>\n",
       "    </tr>\n",
       "  </tbody>\n",
       "</table>\n",
       "</div>"
      ],
      "text/plain": [
       "                     predictor  importance\n",
       "0        Qty Ordered_max_OQT_4    0.065752\n",
       "1           Qty Recd_min_OQT_7    0.065313\n",
       "2   PPM Qty Rejected_sum_MOM_4    0.061951\n",
       "3       Qty Ordered_mean_OQT_4    0.058612\n",
       "4           Qty Recd_sum_MOM_9    0.058387\n",
       "5       Qty Ordered_std_OQT_10    0.057933\n",
       "6              PRNR_sum_MOM_12    0.056759\n",
       "7   Qty Recd_percent_Agg_OQT_4    0.056267\n",
       "8    PPM Qty Shipped_std_OQT_1    0.055860\n",
       "9        Qty Ordered_min_OQT_4    0.055664\n",
       "10          PPM Flag_max_OQT_4    0.054748\n",
       "11   PPM Qty Shipped_sum_MOM_8    0.053700\n",
       "12         PPM Flag_mean_OQT_7    0.052748\n",
       "13   PPM Qty Shipped_sum_MOM_9    0.050528\n",
       "14          PPM Flag_max_OQT_7    0.050361\n",
       "15         Qty Recd_sum_MOM_12    0.049828\n",
       "16       Qty Ordered_sum_MOM_2    0.049303\n",
       "17            PRNR_mean_OQT_10    0.046284"
      ]
     },
     "execution_count": 54,
     "metadata": {},
     "output_type": "execute_result"
    }
   ],
   "source": [
    "importance_tbl = fimportances(bst, X_train_2.columns)\n",
    "importance_tbl.head(50)"
   ]
  },
  {
   "cell_type": "code",
   "execution_count": 55,
   "id": "7c300bbd",
   "metadata": {},
   "outputs": [
    {
     "name": "stderr",
     "output_type": "stream",
     "text": [
      "C:\\Users\\Kumbhar\\OneDrive - American Axle & Manufacturing, Inc\\AAM\\globle_env\\lib\\site-packages\\xgboost\\core.py:108: UserWarning: ntree_limit is deprecated, use `iteration_range` or model slicing instead.\n",
      "  UserWarning\n"
     ]
    }
   ],
   "source": [
    "## save the model \n",
    "pickle.dump(bst, open(\"xgb_vulnerability_reg\", \"wb\"))\n",
    "##Score the dataset\n",
    "final_target_df[\"PRED\"] =  bst.predict(final_target_df[selected_vars[0]], ntree_limit=bst.best_ntree_limit)\n",
    "\n",
    "final_target_df.to_csv(r\"xgb_vulnerability_pred_reg.csv\")"
   ]
  },
  {
   "cell_type": "code",
   "execution_count": 56,
   "id": "6f8b0f63",
   "metadata": {},
   "outputs": [],
   "source": [
    "# retrieve performance metrics\n",
    "results = bst.evals_result()\n",
    "epochs = len(results['validation_0']['rmse'])\n",
    "x_axis = range(0, epochs)"
   ]
  },
  {
   "cell_type": "code",
   "execution_count": 57,
   "id": "d3b1832e",
   "metadata": {},
   "outputs": [
    {
     "data": {
      "text/plain": [
       "Text(0.5, 1.0, 'XGBoost AUC')"
      ]
     },
     "execution_count": 57,
     "metadata": {},
     "output_type": "execute_result"
    },
    {
     "data": {
      "image/png": "[encoded data removed]",
      "text/plain": [
       "<Figure size 432x288 with 1 Axes>"
      ]
     },
     "metadata": {
      "needs_background": "light"
     },
     "output_type": "display_data"
    }
   ],
   "source": [
    "# plot auc wrt estimators\n",
    "fig, ax = plt.subplots()\n",
    "ax.plot(x_axis, results['validation_0']['rmse'], label='train')\n",
    "ax.plot(x_axis, results['validation_1']['rmse'], label='test')\n",
    "\n",
    "ax.legend()\n",
    "plt.ylabel('XGB AUC')\n",
    "plt.title('XGBoost AUC')"
   ]
  },
  {
   "cell_type": "code",
   "execution_count": null,
   "id": "7c3ee25b",
   "metadata": {},
   "outputs": [],
   "source": []
  },
  {
   "cell_type": "code",
   "execution_count": null,
   "id": "ad553f20",
   "metadata": {},
   "outputs": [],
   "source": []
  },
  {
   "cell_type": "code",
   "execution_count": null,
   "id": "58c7067e",
   "metadata": {},
   "outputs": [],
   "source": []
  }
 ],
 "metadata": {
  "kernelspec": {
   "display_name": "Python 3 (ipykernel)",
   "language": "python",
   "name": "python3"
  },
  "language_info": {
   "codemirror_mode": {
    "name": "ipython",
    "version": 3
   },
   "file_extension": ".py",
   "mimetype": "text/x-python",
   "name": "python",
   "nbconvert_exporter": "python",
   "pygments_lexer": "ipython3",
   "version": "3.11.4"
  }
 },
 "nbformat": 4,
 "nbformat_minor": 5
}
