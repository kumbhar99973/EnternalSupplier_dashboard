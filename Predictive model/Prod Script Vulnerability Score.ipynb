{
 "cells": [
  {
   "cell_type": "code",
   "execution_count": 1,
   "id": "ff6a6f25",
   "metadata": {},
   "outputs": [],
   "source": [
    "import pandas as pd\n",
    "import numpy as np\n",
    "import os\n",
    "from dateutil.relativedelta import relativedelta\n",
    "from datetime import date, datetime\n",
    "import xgboost as xgb\n",
    "import pickle\n",
    "import cx_Oracle\n",
    "os.chdir(r\"C:\\Users\\Kumbhar\\OneDrive - American Axle & Manufacturing, Inc\\AAM\\Supplier_Risk\")"
   ]
  },
  {
   "cell_type": "code",
   "execution_count": 2,
   "id": "28705b30",
   "metadata": {},
   "outputs": [],
   "source": [
    "import xgboost as xgb\n",
    "import numpy as np\n",
    "import pandas as pd\n",
    "import time\n",
    "import pickle\n",
    "import os\n",
    "from math import log\n",
    "import matplotlib.pyplot as plt\n",
    "\n",
    "import sklearn\n",
    "from sklearn.model_selection import train_test_split, GridSearchCV, RandomizedSearchCV, ParameterGrid,StratifiedKFold, cross_val_score\n",
    "\n",
    "from sklearn import metrics \n",
    "from sklearn.metrics import confusion_matrix, precision_recall_curve, average_precision_score, brier_score_loss, f1_score, log_loss,auc,roc_curve,auc\n",
    "\n",
    "from sklearn.linear_model import LogisticRegression, LogisticRegressionCV\n",
    "from sklearn.ensemble import RandomForestClassifier\n",
    "\n",
    "from sklearn.decomposition import PCA\n",
    "#from sklearn.utils.fixes import signature\n",
    "\n",
    "import warnings\n",
    "warnings.filterwarnings(\"ignore\", category=DeprecationWarning)\n",
    "os.chdir(r\"C:\\Users\\Kumbhar\\OneDrive - American Axle & Manufacturing, Inc\\AAM\\Supplier_Risk\")"
   ]
  },
  {
   "cell_type": "markdown",
   "id": "62429b2b",
   "metadata": {},
   "source": [
    "### Import Data Files"
   ]
  },
  {
   "cell_type": "code",
   "execution_count": 3,
   "id": "64e5c3f1",
   "metadata": {},
   "outputs": [],
   "source": [
    "tns_dsn = cx_Oracle.makedsn('aamlxbidbp001.aam.net', 1525, service_name='BIDWPRD')\n",
    "con_ORACLE = cx_Oracle.connect(user='PROD_AAM_RO', password='prodaamro', dsn=tns_dsn)\n",
    "\n",
    "df = pd.read_sql_query(\"\"\"select * from bi_dw.WC_SC_SUMMARY_V\n",
    "                       where month >= 202101\n",
    "                       \"\"\", con_ORACLE)"
   ]
  },
  {
   "cell_type": "code",
   "execution_count": 4,
   "id": "1380b707",
   "metadata": {},
   "outputs": [],
   "source": [
    "df_vb = pd.read_sql_query(\"\"\"select b.supplier_name as vendor_name, third_party_id,  vulnerability_score\n",
    "                            from \n",
    "                            (select third_party_id , max(score) vulnerability_score from rpa_kpmg_financial\n",
    "                            group by third_party_id\n",
    "                            ) a\n",
    "                            join \n",
    "                            bi_dw.wc_sc_supplier_d b \n",
    "                            on a.third_party_id = b.affiliate_code \n",
    "                       \"\"\", con_ORACLE)"
   ]
  },
  {
   "cell_type": "code",
   "execution_count": 5,
   "id": "ca2d3176",
   "metadata": {},
   "outputs": [],
   "source": [
    "df_vb.dropna(subset = [\"VULNERABILITY_SCORE\"], inplace = True)"
   ]
  },
  {
   "cell_type": "code",
   "execution_count": 6,
   "id": "7fc0fe99",
   "metadata": {},
   "outputs": [],
   "source": [
    "df_vb[\"VULNERABILITY_SCORE\"] = df_vb[\"VULNERABILITY_SCORE\"].astype(float)"
   ]
  },
  {
   "cell_type": "code",
   "execution_count": null,
   "id": "2c223544",
   "metadata": {},
   "outputs": [],
   "source": []
  },
  {
   "cell_type": "code",
   "execution_count": 7,
   "id": "30973572",
   "metadata": {},
   "outputs": [],
   "source": [
    "# Download data from Orcale DB for prod\n",
    "# Logic to collate data and filter suppliers to be implemented in the SQL script itself\n",
    "# df = pd.read_csv(os.getcwd()+r\"\\Data Files\\Feature Engineering Base.csv\", encoding='latin-1')\n",
    "df1 = pd.read_csv(os.getcwd()+r\"\\data\\Mapping File Prod.csv\", encoding='latin-1')"
   ]
  },
  {
   "cell_type": "code",
   "execution_count": 8,
   "id": "2e1c5c38",
   "metadata": {},
   "outputs": [],
   "source": [
    "df = df.merge(df1, on = [\"VENDOR_NAME\",\"ORGANIZATION_CODE\"], how='left')"
   ]
  },
  {
   "cell_type": "code",
   "execution_count": 9,
   "id": "ef1cbc2d",
   "metadata": {},
   "outputs": [],
   "source": [
    "df = df[df[\"ORG_TYPE\"]!=\"Others2\"]\n",
    "df = df.groupby(['VENDOR_NAME', 'MONTH', 'TYPE']).sum().reset_index()"
   ]
  },
  {
   "cell_type": "code",
   "execution_count": 10,
   "id": "4bcefd0a",
   "metadata": {},
   "outputs": [],
   "source": [
    "df = df.pivot(index = ['VENDOR_NAME','MONTH'], columns=['TYPE'], values = 'VAL').reset_index()"
   ]
  },
  {
   "cell_type": "markdown",
   "id": "26b79bac",
   "metadata": {},
   "source": [
    "### Data Cleaning "
   ]
  },
  {
   "cell_type": "code",
   "execution_count": 11,
   "id": "b86eac81",
   "metadata": {},
   "outputs": [],
   "source": [
    "df[\"Qty Recd\"].fillna(0, inplace = True)"
   ]
  },
  {
   "cell_type": "code",
   "execution_count": 12,
   "id": "5fa55409",
   "metadata": {},
   "outputs": [],
   "source": [
    "df[\"QTY_RECD_FLAG\"] = np.where((df[\"Qty Ordered\"] != np.NaN) & (df[\"Qty Ordered\"] !=0), df[\"Qty Recd\"]/df[\"Qty Ordered\"], np.NaN)\n",
    "df[\"QTY_RECD_FLAG\"] = np.where(df[\"QTY_RECD_FLAG\"]>1, 1, df[\"QTY_RECD_FLAG\"])"
   ]
  },
  {
   "cell_type": "code",
   "execution_count": 13,
   "id": "49d3eab9",
   "metadata": {},
   "outputs": [],
   "source": [
    "df[\"PPM Flag\"] = np.where((df[\"PPM Qty Shipped\"] != np.NaN) & (df[\"PPM Qty Shipped\"] != 0), df[\"PPM Qty Rejected\"]/df[\"PPM Qty Shipped\"]*1000000, np.NaN)"
   ]
  },
  {
   "cell_type": "code",
   "execution_count": 14,
   "id": "eba44c31",
   "metadata": {},
   "outputs": [],
   "source": [
    "df[\"MONTH\"] = pd.to_datetime(df[\"MONTH\"], format = '%Y%m').dt.date"
   ]
  },
  {
   "cell_type": "markdown",
   "id": "d6ebe2c6",
   "metadata": {},
   "source": [
    "### Define Current Month"
   ]
  },
  {
   "cell_type": "code",
   "execution_count": 15,
   "id": "61fff212",
   "metadata": {},
   "outputs": [],
   "source": [
    "cur_month = date(date.today().year, date.today().month, 1)\n",
    "\n",
    "# cur_month = date(2022,4,1)"
   ]
  },
  {
   "cell_type": "code",
   "execution_count": 16,
   "id": "c37b560a",
   "metadata": {},
   "outputs": [],
   "source": [
    "df = df[df[\"MONTH\"]>= cur_month - relativedelta(months=12)]"
   ]
  },
  {
   "cell_type": "markdown",
   "id": "e9418185",
   "metadata": {},
   "source": [
    "### QTY_RECD_FLAG to be aggregated w/o vendor name"
   ]
  },
  {
   "cell_type": "code",
   "execution_count": 17,
   "id": "983b7e00",
   "metadata": {},
   "outputs": [
    {
     "name": "stderr",
     "output_type": "stream",
     "text": [
      "C:\\Users\\Kumbhar\\OneDrive - American Axle & Manufacturing, Inc\\AAM\\globle_env\\lib\\site-packages\\ipykernel_launcher.py:2: SettingWithCopyWarning: \n",
      "A value is trying to be set on a copy of a slice from a DataFrame\n",
      "\n",
      "See the caveats in the documentation: https://pandas.pydata.org/pandas-docs/stable/user_guide/indexing.html#returning-a-view-versus-a-copy\n",
      "  \n"
     ]
    }
   ],
   "source": [
    "target_df = df[[\"VENDOR_NAME\"]]\n",
    "target_df.drop_duplicates(inplace = True)"
   ]
  },
  {
   "cell_type": "code",
   "execution_count": 18,
   "id": "b0e15841",
   "metadata": {},
   "outputs": [
    {
     "name": "stderr",
     "output_type": "stream",
     "text": [
      "C:\\Users\\Kumbhar\\OneDrive - American Axle & Manufacturing, Inc\\AAM\\globle_env\\lib\\site-packages\\ipykernel_launcher.py:7: SettingWithCopyWarning: \n",
      "A value is trying to be set on a copy of a slice from a DataFrame\n",
      "\n",
      "See the caveats in the documentation: https://pandas.pydata.org/pandas-docs/stable/user_guide/indexing.html#returning-a-view-versus-a-copy\n",
      "  import sys\n"
     ]
    }
   ],
   "source": [
    "final_target_df = pd.DataFrame()\n",
    "\n",
    "\n",
    "month = cur_month\n",
    "\n",
    "target_df = df[[\"VENDOR_NAME\"]]\n",
    "target_df.drop_duplicates(inplace = True)\n",
    "\n",
    "\n",
    "#Month on Month features\n",
    "for z in np.arange(1,13,1):\n",
    "    tmp = df[df[\"MONTH\"]==month - relativedelta(months=z)].groupby(['VENDOR_NAME']).agg({ \n",
    "                \"QTY_RECD_FLAG\" : ['mean'],\n",
    "                \"Qty Ordered\":['sum'], \n",
    "                \"Qty Recd\":['sum'],\n",
    "                \"PRNR\" : ['sum'],\n",
    "                \"PREM FREIGHT\" : ['sum'],\n",
    "                \"Cost Recovery\" : ['sum'],\n",
    "                \"PPM Qty Rejected\": ['sum'],\n",
    "                \"PPM Qty Shipped\":['sum']\n",
    "                })\n",
    "    tmp.columns = [s + \"_MOM_\"  + str(z) for s in [\"_\".join(x) for x in tmp.columns.ravel()]]\n",
    "    tmp.reset_index(inplace = True)\n",
    "    target_df = target_df.merge(tmp, how = 'left', on = 'VENDOR_NAME')\n",
    "\n",
    "\n",
    "#Quarterly features\n",
    "for z in np.arange(1,13,3):\n",
    "    tmp = df[(df[\"MONTH\"]>=month - relativedelta(months=z+2))&(df[\"MONTH\"]<=month - relativedelta(months=z))].groupby(['VENDOR_NAME']).agg({ \n",
    "                \"QTY_RECD_FLAG\" : ['max','min','std','mean'],\n",
    "                \"Qty Ordered\":['max','min','std','mean', 'sum'], \n",
    "                \"Qty Recd\":['max','min','std','mean','sum'],\n",
    "                \"PRNR\" : ['max','std','mean','sum'],\n",
    "                \"PREM FREIGHT\" : ['max','std','mean','sum'],\n",
    "                \"Cost Recovery\" : ['max','std','mean','sum'],\n",
    "                \"PPM Flag\" : ['max','min','std','mean'], \n",
    "                \"PPM Qty Rejected\": ['max','min','std','mean', 'sum'],\n",
    "                \"PPM Qty Shipped\":['max','min','std','mean', 'sum']\n",
    "                })\n",
    "    tmp.columns = [s + \"_OQT_\"  + str(z) for s in [\"_\".join(x) for x in tmp.columns.ravel()]]\n",
    "    tmp.reset_index(inplace = True)\n",
    "    \n",
    "    for z in [x for x in tmp.columns if \"PPM Qty Shipped_sum\" in x]:\n",
    "        tmp[z.replace(\"PPM Qty Shipped_sum\",\"PPM_Agg_Flag\")] = np.where((tmp[z]!= np.NaN) & (tmp[z]!= 0), np.round(tmp[z.replace(\"Shipped\",\"Rejected\")]/tmp[z]*1000000), np.NaN)\n",
    "        \n",
    "    for z in [x for x in tmp.columns if \"Qty Ordered_sum\" in x]:\n",
    "        tmp[z.replace(\"Qty Ordered_sum\",\"Qty Recd_percent_Agg\")] = np.where((tmp[z]!= np.NaN) & (tmp[z]!= 0), tmp[z.replace(\"Ordered\",\"Recd\")]/tmp[z]*100, np.NaN) \n",
    "\n",
    "\n",
    "    target_df = target_df.merge(tmp, how = 'left', on = 'VENDOR_NAME')\n",
    "\n",
    "\n",
    "final_target_df = pd.concat([final_target_df, target_df])"
   ]
  },
  {
   "cell_type": "code",
   "execution_count": null,
   "id": "8b1b067c",
   "metadata": {},
   "outputs": [],
   "source": []
  },
  {
   "cell_type": "code",
   "execution_count": null,
   "id": "52922c99",
   "metadata": {},
   "outputs": [],
   "source": []
  },
  {
   "cell_type": "markdown",
   "id": "265634b8",
   "metadata": {},
   "source": [
    "# Merge with Vulnerability DF to map target score"
   ]
  },
  {
   "cell_type": "code",
   "execution_count": 19,
   "id": "8c1d00da",
   "metadata": {},
   "outputs": [],
   "source": [
    "final_target_df = final_target_df.merge(df_vb, how = 'inner', on = 'VENDOR_NAME')"
   ]
  },
  {
   "cell_type": "code",
   "execution_count": 20,
   "id": "0e6843ef",
   "metadata": {},
   "outputs": [],
   "source": [
    "# selected_vars_vulnerability = ['Qty Recd_sum_OQT_7', 'Qty Recd_mean_OQT_7', 'PRNR_sum_MOM_7','Qty Ordered_sum_OQT_7', \n",
    "#                                'Qty Ordered_sum_MOM_8','PPM Qty Shipped_std_OQT_4', 'QTY_RECD_FLAG_mean_MOM_2',\n",
    "#        'QTY_RECD_FLAG_mean_OQT_4', 'Qty Recd_min_OQT_4', 'Qty Recd_max_OQT_7','PPM Qty Shipped_std_OQT_1', 'PPM Qty Shipped_sum_MOM_5',\n",
    "#        'PPM Flag_mean_OQT_1', 'QTY_RECD_FLAG_mean_MOM_10','QTY_RECD_FLAG_mean_MOM_4', 'QTY_RECD_FLAG_mean_OQT_1',\n",
    "#        'Qty Ordered_mean_OQT_7', 'Cost Recovery_mean_OQT_1','PPM Qty Shipped_sum_MOM_8']"
   ]
  },
  {
   "cell_type": "code",
   "execution_count": null,
   "id": "b3d7a428",
   "metadata": {},
   "outputs": [],
   "source": []
  },
  {
   "cell_type": "code",
   "execution_count": 21,
   "id": "ffb90312",
   "metadata": {},
   "outputs": [],
   "source": [
    "selected_vars_vulnerability = ['PPM Flag_std_OQT_1',\n",
    "  'PPM Qty Shipped_min_OQT_10',\n",
    "  'PPM Flag_mean_OQT_1',\n",
    "  'PPM Qty Shipped_sum_MOM_5',\n",
    "  'PPM Qty Shipped_sum_OQT_4',\n",
    "  'PRNR_std_OQT_10',\n",
    "  'PPM Qty Shipped_max_OQT_4',\n",
    "  'PPM Qty Shipped_std_OQT_1',\n",
    "  'Qty Recd_sum_MOM_4',\n",
    "  'Qty Ordered_std_OQT_4',\n",
    "  'Qty Recd_percent_Agg_OQT_1',\n",
    "  'Qty Ordered_std_OQT_10',\n",
    "  'PPM Flag_max_OQT_1',\n",
    "  'Qty Recd_min_OQT_4',\n",
    "  'Qty Recd_mean_OQT_7',\n",
    "  'QTY_RECD_FLAG_mean_MOM_12',\n",
    "  'Qty Recd_std_OQT_7',\n",
    "  'PPM Qty Shipped_std_OQT_7',\n",
    "  'Qty Ordered_sum_OQT_7']"
   ]
  },
  {
   "cell_type": "code",
   "execution_count": 22,
   "id": "c8b83e6e",
   "metadata": {},
   "outputs": [],
   "source": [
    "bst = pickle.load(open(\"xgb_vulnerability_reg\", \"rb\"))"
   ]
  },
  {
   "cell_type": "code",
   "execution_count": 23,
   "id": "33b30ac2",
   "metadata": {},
   "outputs": [
    {
     "name": "stderr",
     "output_type": "stream",
     "text": [
      "C:\\Users\\Kumbhar\\OneDrive - American Axle & Manufacturing, Inc\\AAM\\globle_env\\lib\\site-packages\\xgboost\\core.py:108: UserWarning: ntree_limit is deprecated, use `iteration_range` or model slicing instead.\n",
      "  UserWarning\n"
     ]
    }
   ],
   "source": [
    "final_target_df[\"PRED_VULNERABILITY_SCORE\"] =  bst.predict(final_target_df[selected_vars_vulnerability], ntree_limit=bst.best_ntree_limit)"
   ]
  },
  {
   "cell_type": "code",
   "execution_count": 24,
   "id": "d837d8c8",
   "metadata": {},
   "outputs": [],
   "source": [
    "weight = 0.2"
   ]
  },
  {
   "cell_type": "code",
   "execution_count": 25,
   "id": "eda195e0",
   "metadata": {},
   "outputs": [],
   "source": [
    "final_target_df[\"PRED_VULNERABILITY_SCORE_FINAL\"] = ((1-weight)*final_target_df[\"VULNERABILITY_SCORE\"])+(weight * final_target_df[\"PRED_VULNERABILITY_SCORE\"])"
   ]
  },
  {
   "cell_type": "code",
   "execution_count": 26,
   "id": "f4622de9",
   "metadata": {},
   "outputs": [],
   "source": [
    "final_target_df[\"PRED_VULNERABILITY\"] = final_target_df[\"PRED_VULNERABILITY_SCORE_FINAL\"].round(5)"
   ]
  },
  {
   "cell_type": "code",
   "execution_count": 27,
   "id": "7a65b2f2",
   "metadata": {},
   "outputs": [],
   "source": [
    "final_target_df[\"FLAG_VULNERABILITY\"] =  np.where(final_target_df[\"PRED_VULNERABILITY_SCORE_FINAL\"]>=55,3,np.where(final_target_df[\"PRED_VULNERABILITY_SCORE_FINAL\"]>=35,2,np.where(final_target_df[\"PRED_VULNERABILITY_SCORE_FINAL\"]>=10,1,0)))"
   ]
  },
  {
   "cell_type": "code",
   "execution_count": 28,
   "id": "ee29d057",
   "metadata": {},
   "outputs": [],
   "source": [
    "final_target_df[\"MONTH\"] = cur_month"
   ]
  },
  {
   "cell_type": "code",
   "execution_count": 29,
   "id": "6ba78289",
   "metadata": {},
   "outputs": [
    {
     "data": {
      "text/html": [
       "<div>\n",
       "<style scoped>\n",
       "    .dataframe tbody tr th:only-of-type {\n",
       "        vertical-align: middle;\n",
       "    }\n",
       "\n",
       "    .dataframe tbody tr th {\n",
       "        vertical-align: top;\n",
       "    }\n",
       "\n",
       "    .dataframe thead th {\n",
       "        text-align: right;\n",
       "    }\n",
       "</style>\n",
       "<table border=\"1\" class=\"dataframe\">\n",
       "  <thead>\n",
       "    <tr style=\"text-align: right;\">\n",
       "      <th></th>\n",
       "      <th>VENDOR_NAME</th>\n",
       "      <th>QTY_RECD_FLAG_mean_MOM_1</th>\n",
       "      <th>Qty Ordered_sum_MOM_1</th>\n",
       "      <th>Qty Recd_sum_MOM_1</th>\n",
       "      <th>PRNR_sum_MOM_1</th>\n",
       "      <th>PREM FREIGHT_sum_MOM_1</th>\n",
       "      <th>Cost Recovery_sum_MOM_1</th>\n",
       "      <th>PPM Qty Rejected_sum_MOM_1</th>\n",
       "      <th>PPM Qty Shipped_sum_MOM_1</th>\n",
       "      <th>QTY_RECD_FLAG_mean_MOM_2</th>\n",
       "      <th>...</th>\n",
       "      <th>PPM Qty Shipped_sum_OQT_10</th>\n",
       "      <th>PPM_Agg_Flag_OQT_10</th>\n",
       "      <th>Qty Recd_percent_Agg_OQT_10</th>\n",
       "      <th>THIRD_PARTY_ID</th>\n",
       "      <th>VULNERABILITY_SCORE</th>\n",
       "      <th>PRED_VULNERABILITY_SCORE</th>\n",
       "      <th>PRED_VULNERABILITY_SCORE_FINAL</th>\n",
       "      <th>PRED_VULNERABILITY</th>\n",
       "      <th>FLAG_VULNERABILITY</th>\n",
       "      <th>MONTH</th>\n",
       "    </tr>\n",
       "  </thead>\n",
       "  <tbody>\n",
       "    <tr>\n",
       "      <th>0</th>\n",
       "      <td>AALBERTS T S/ IMPREGLON</td>\n",
       "      <td>1.000000</td>\n",
       "      <td>1605.0</td>\n",
       "      <td>1605.0</td>\n",
       "      <td>0.0</td>\n",
       "      <td>0.0</td>\n",
       "      <td>0.0</td>\n",
       "      <td>0.0</td>\n",
       "      <td>1605.0</td>\n",
       "      <td>1.000000</td>\n",
       "      <td>...</td>\n",
       "      <td>2886.0</td>\n",
       "      <td>0.0</td>\n",
       "      <td>100.000000</td>\n",
       "      <td>1022</td>\n",
       "      <td>25.62</td>\n",
       "      <td>26.304279</td>\n",
       "      <td>25.756856</td>\n",
       "      <td>25.75686</td>\n",
       "      <td>1</td>\n",
       "      <td>2023-02-01</td>\n",
       "    </tr>\n",
       "    <tr>\n",
       "      <th>1</th>\n",
       "      <td>AAM AUTO COMPONENT (INDIA) PRIVATE LIMITED</td>\n",
       "      <td>0.343099</td>\n",
       "      <td>26386.0</td>\n",
       "      <td>9053.0</td>\n",
       "      <td>0.0</td>\n",
       "      <td>0.0</td>\n",
       "      <td>0.0</td>\n",
       "      <td>0.0</td>\n",
       "      <td>35728.0</td>\n",
       "      <td>0.136105</td>\n",
       "      <td>...</td>\n",
       "      <td>7271.0</td>\n",
       "      <td>0.0</td>\n",
       "      <td>351.632731</td>\n",
       "      <td>1</td>\n",
       "      <td>53.47</td>\n",
       "      <td>36.636005</td>\n",
       "      <td>50.103201</td>\n",
       "      <td>50.10320</td>\n",
       "      <td>2</td>\n",
       "      <td>2023-02-01</td>\n",
       "    </tr>\n",
       "    <tr>\n",
       "      <th>2</th>\n",
       "      <td>AAM CHANGSHU</td>\n",
       "      <td>NaN</td>\n",
       "      <td>NaN</td>\n",
       "      <td>NaN</td>\n",
       "      <td>NaN</td>\n",
       "      <td>NaN</td>\n",
       "      <td>NaN</td>\n",
       "      <td>NaN</td>\n",
       "      <td>NaN</td>\n",
       "      <td>NaN</td>\n",
       "      <td>...</td>\n",
       "      <td>-32892.0</td>\n",
       "      <td>-0.0</td>\n",
       "      <td>NaN</td>\n",
       "      <td>1</td>\n",
       "      <td>53.47</td>\n",
       "      <td>39.401672</td>\n",
       "      <td>50.656334</td>\n",
       "      <td>50.65633</td>\n",
       "      <td>2</td>\n",
       "      <td>2023-02-01</td>\n",
       "    </tr>\n",
       "    <tr>\n",
       "      <th>3</th>\n",
       "      <td>AAM DO BRASIL LTDA</td>\n",
       "      <td>0.000000</td>\n",
       "      <td>720.0</td>\n",
       "      <td>0.0</td>\n",
       "      <td>0.0</td>\n",
       "      <td>0.0</td>\n",
       "      <td>0.0</td>\n",
       "      <td>0.0</td>\n",
       "      <td>0.0</td>\n",
       "      <td>0.000000</td>\n",
       "      <td>...</td>\n",
       "      <td>49582.0</td>\n",
       "      <td>0.0</td>\n",
       "      <td>92.446201</td>\n",
       "      <td>1</td>\n",
       "      <td>53.47</td>\n",
       "      <td>37.587837</td>\n",
       "      <td>50.293568</td>\n",
       "      <td>50.29357</td>\n",
       "      <td>2</td>\n",
       "      <td>2023-02-01</td>\n",
       "    </tr>\n",
       "    <tr>\n",
       "      <th>4</th>\n",
       "      <td>AAM GERMANY GMBH</td>\n",
       "      <td>NaN</td>\n",
       "      <td>NaN</td>\n",
       "      <td>NaN</td>\n",
       "      <td>NaN</td>\n",
       "      <td>NaN</td>\n",
       "      <td>NaN</td>\n",
       "      <td>NaN</td>\n",
       "      <td>NaN</td>\n",
       "      <td>NaN</td>\n",
       "      <td>...</td>\n",
       "      <td>0.0</td>\n",
       "      <td>NaN</td>\n",
       "      <td>NaN</td>\n",
       "      <td>1</td>\n",
       "      <td>53.47</td>\n",
       "      <td>48.297245</td>\n",
       "      <td>52.435450</td>\n",
       "      <td>52.43545</td>\n",
       "      <td>2</td>\n",
       "      <td>2023-02-01</td>\n",
       "    </tr>\n",
       "    <tr>\n",
       "      <th>...</th>\n",
       "      <td>...</td>\n",
       "      <td>...</td>\n",
       "      <td>...</td>\n",
       "      <td>...</td>\n",
       "      <td>...</td>\n",
       "      <td>...</td>\n",
       "      <td>...</td>\n",
       "      <td>...</td>\n",
       "      <td>...</td>\n",
       "      <td>...</td>\n",
       "      <td>...</td>\n",
       "      <td>...</td>\n",
       "      <td>...</td>\n",
       "      <td>...</td>\n",
       "      <td>...</td>\n",
       "      <td>...</td>\n",
       "      <td>...</td>\n",
       "      <td>...</td>\n",
       "      <td>...</td>\n",
       "      <td>...</td>\n",
       "      <td>...</td>\n",
       "    </tr>\n",
       "    <tr>\n",
       "      <th>570</th>\n",
       "      <td>ZHEJIANG SHUANGHUAN DRIVELINE CO LTD</td>\n",
       "      <td>0.979866</td>\n",
       "      <td>10728.0</td>\n",
       "      <td>10512.0</td>\n",
       "      <td>4.0</td>\n",
       "      <td>0.0</td>\n",
       "      <td>0.0</td>\n",
       "      <td>24.0</td>\n",
       "      <td>15494.0</td>\n",
       "      <td>0.921097</td>\n",
       "      <td>...</td>\n",
       "      <td>133755.0</td>\n",
       "      <td>135.0</td>\n",
       "      <td>109.395213</td>\n",
       "      <td>1026</td>\n",
       "      <td>24.15</td>\n",
       "      <td>39.720200</td>\n",
       "      <td>27.264040</td>\n",
       "      <td>27.26404</td>\n",
       "      <td>1</td>\n",
       "      <td>2023-02-01</td>\n",
       "    </tr>\n",
       "    <tr>\n",
       "      <th>571</th>\n",
       "      <td>ZHONGDING USA INC</td>\n",
       "      <td>0.707597</td>\n",
       "      <td>23601.0</td>\n",
       "      <td>16700.0</td>\n",
       "      <td>0.0</td>\n",
       "      <td>0.0</td>\n",
       "      <td>0.0</td>\n",
       "      <td>0.0</td>\n",
       "      <td>16700.0</td>\n",
       "      <td>1.000000</td>\n",
       "      <td>...</td>\n",
       "      <td>216200.0</td>\n",
       "      <td>0.0</td>\n",
       "      <td>100.000000</td>\n",
       "      <td>1192</td>\n",
       "      <td>29.80</td>\n",
       "      <td>37.916039</td>\n",
       "      <td>31.423208</td>\n",
       "      <td>31.42321</td>\n",
       "      <td>1</td>\n",
       "      <td>2023-02-01</td>\n",
       "    </tr>\n",
       "    <tr>\n",
       "      <th>572</th>\n",
       "      <td>ZOUPING TIANSHENG METAL TECHNOLOGY CO LTD</td>\n",
       "      <td>1.000000</td>\n",
       "      <td>17022.0</td>\n",
       "      <td>17766.0</td>\n",
       "      <td>0.0</td>\n",
       "      <td>0.0</td>\n",
       "      <td>0.0</td>\n",
       "      <td>0.0</td>\n",
       "      <td>16542.0</td>\n",
       "      <td>0.888879</td>\n",
       "      <td>...</td>\n",
       "      <td>75832.0</td>\n",
       "      <td>0.0</td>\n",
       "      <td>93.629000</td>\n",
       "      <td>82</td>\n",
       "      <td>38.05</td>\n",
       "      <td>38.606323</td>\n",
       "      <td>38.161265</td>\n",
       "      <td>38.16126</td>\n",
       "      <td>2</td>\n",
       "      <td>2023-02-01</td>\n",
       "    </tr>\n",
       "    <tr>\n",
       "      <th>573</th>\n",
       "      <td>ZWZ BEARING USA</td>\n",
       "      <td>1.000000</td>\n",
       "      <td>199584.0</td>\n",
       "      <td>219888.0</td>\n",
       "      <td>0.0</td>\n",
       "      <td>0.0</td>\n",
       "      <td>0.0</td>\n",
       "      <td>0.0</td>\n",
       "      <td>211248.0</td>\n",
       "      <td>0.958230</td>\n",
       "      <td>...</td>\n",
       "      <td>563438.0</td>\n",
       "      <td>0.0</td>\n",
       "      <td>100.426012</td>\n",
       "      <td>75</td>\n",
       "      <td>95.00</td>\n",
       "      <td>39.705933</td>\n",
       "      <td>83.941186</td>\n",
       "      <td>83.94119</td>\n",
       "      <td>3</td>\n",
       "      <td>2023-02-01</td>\n",
       "    </tr>\n",
       "    <tr>\n",
       "      <th>574</th>\n",
       "      <td>ZWZ Bearing Europe Gmbh</td>\n",
       "      <td>NaN</td>\n",
       "      <td>NaN</td>\n",
       "      <td>NaN</td>\n",
       "      <td>NaN</td>\n",
       "      <td>NaN</td>\n",
       "      <td>NaN</td>\n",
       "      <td>NaN</td>\n",
       "      <td>NaN</td>\n",
       "      <td>NaN</td>\n",
       "      <td>...</td>\n",
       "      <td>3456.0</td>\n",
       "      <td>0.0</td>\n",
       "      <td>100.000000</td>\n",
       "      <td>75</td>\n",
       "      <td>95.00</td>\n",
       "      <td>40.648064</td>\n",
       "      <td>84.129613</td>\n",
       "      <td>84.12961</td>\n",
       "      <td>3</td>\n",
       "      <td>2023-02-01</td>\n",
       "    </tr>\n",
       "  </tbody>\n",
       "</table>\n",
       "<p>575 rows × 272 columns</p>\n",
       "</div>"
      ],
      "text/plain": [
       "                                    VENDOR_NAME  QTY_RECD_FLAG_mean_MOM_1  \\\n",
       "0                       AALBERTS T S/ IMPREGLON                  1.000000   \n",
       "1    AAM AUTO COMPONENT (INDIA) PRIVATE LIMITED                  0.343099   \n",
       "2                                  AAM CHANGSHU                       NaN   \n",
       "3                            AAM DO BRASIL LTDA                  0.000000   \n",
       "4                              AAM GERMANY GMBH                       NaN   \n",
       "..                                          ...                       ...   \n",
       "570        ZHEJIANG SHUANGHUAN DRIVELINE CO LTD                  0.979866   \n",
       "571                           ZHONGDING USA INC                  0.707597   \n",
       "572   ZOUPING TIANSHENG METAL TECHNOLOGY CO LTD                  1.000000   \n",
       "573                             ZWZ BEARING USA                  1.000000   \n",
       "574                     ZWZ Bearing Europe Gmbh                       NaN   \n",
       "\n",
       "     Qty Ordered_sum_MOM_1  Qty Recd_sum_MOM_1  PRNR_sum_MOM_1  \\\n",
       "0                   1605.0              1605.0             0.0   \n",
       "1                  26386.0              9053.0             0.0   \n",
       "2                      NaN                 NaN             NaN   \n",
       "3                    720.0                 0.0             0.0   \n",
       "4                      NaN                 NaN             NaN   \n",
       "..                     ...                 ...             ...   \n",
       "570                10728.0             10512.0             4.0   \n",
       "571                23601.0             16700.0             0.0   \n",
       "572                17022.0             17766.0             0.0   \n",
       "573               199584.0            219888.0             0.0   \n",
       "574                    NaN                 NaN             NaN   \n",
       "\n",
       "     PREM FREIGHT_sum_MOM_1  Cost Recovery_sum_MOM_1  \\\n",
       "0                       0.0                      0.0   \n",
       "1                       0.0                      0.0   \n",
       "2                       NaN                      NaN   \n",
       "3                       0.0                      0.0   \n",
       "4                       NaN                      NaN   \n",
       "..                      ...                      ...   \n",
       "570                     0.0                      0.0   \n",
       "571                     0.0                      0.0   \n",
       "572                     0.0                      0.0   \n",
       "573                     0.0                      0.0   \n",
       "574                     NaN                      NaN   \n",
       "\n",
       "     PPM Qty Rejected_sum_MOM_1  PPM Qty Shipped_sum_MOM_1  \\\n",
       "0                           0.0                     1605.0   \n",
       "1                           0.0                    35728.0   \n",
       "2                           NaN                        NaN   \n",
       "3                           0.0                        0.0   \n",
       "4                           NaN                        NaN   \n",
       "..                          ...                        ...   \n",
       "570                        24.0                    15494.0   \n",
       "571                         0.0                    16700.0   \n",
       "572                         0.0                    16542.0   \n",
       "573                         0.0                   211248.0   \n",
       "574                         NaN                        NaN   \n",
       "\n",
       "     QTY_RECD_FLAG_mean_MOM_2  ...  PPM Qty Shipped_sum_OQT_10  \\\n",
       "0                    1.000000  ...                      2886.0   \n",
       "1                    0.136105  ...                      7271.0   \n",
       "2                         NaN  ...                    -32892.0   \n",
       "3                    0.000000  ...                     49582.0   \n",
       "4                         NaN  ...                         0.0   \n",
       "..                        ...  ...                         ...   \n",
       "570                  0.921097  ...                    133755.0   \n",
       "571                  1.000000  ...                    216200.0   \n",
       "572                  0.888879  ...                     75832.0   \n",
       "573                  0.958230  ...                    563438.0   \n",
       "574                       NaN  ...                      3456.0   \n",
       "\n",
       "     PPM_Agg_Flag_OQT_10  Qty Recd_percent_Agg_OQT_10  THIRD_PARTY_ID  \\\n",
       "0                    0.0                   100.000000            1022   \n",
       "1                    0.0                   351.632731               1   \n",
       "2                   -0.0                          NaN               1   \n",
       "3                    0.0                    92.446201               1   \n",
       "4                    NaN                          NaN               1   \n",
       "..                   ...                          ...             ...   \n",
       "570                135.0                   109.395213            1026   \n",
       "571                  0.0                   100.000000            1192   \n",
       "572                  0.0                    93.629000              82   \n",
       "573                  0.0                   100.426012              75   \n",
       "574                  0.0                   100.000000              75   \n",
       "\n",
       "     VULNERABILITY_SCORE  PRED_VULNERABILITY_SCORE  \\\n",
       "0                  25.62                 26.304279   \n",
       "1                  53.47                 36.636005   \n",
       "2                  53.47                 39.401672   \n",
       "3                  53.47                 37.587837   \n",
       "4                  53.47                 48.297245   \n",
       "..                   ...                       ...   \n",
       "570                24.15                 39.720200   \n",
       "571                29.80                 37.916039   \n",
       "572                38.05                 38.606323   \n",
       "573                95.00                 39.705933   \n",
       "574                95.00                 40.648064   \n",
       "\n",
       "     PRED_VULNERABILITY_SCORE_FINAL  PRED_VULNERABILITY  FLAG_VULNERABILITY  \\\n",
       "0                         25.756856            25.75686                   1   \n",
       "1                         50.103201            50.10320                   2   \n",
       "2                         50.656334            50.65633                   2   \n",
       "3                         50.293568            50.29357                   2   \n",
       "4                         52.435450            52.43545                   2   \n",
       "..                              ...                 ...                 ...   \n",
       "570                       27.264040            27.26404                   1   \n",
       "571                       31.423208            31.42321                   1   \n",
       "572                       38.161265            38.16126                   2   \n",
       "573                       83.941186            83.94119                   3   \n",
       "574                       84.129613            84.12961                   3   \n",
       "\n",
       "          MONTH  \n",
       "0    2023-02-01  \n",
       "1    2023-02-01  \n",
       "2    2023-02-01  \n",
       "3    2023-02-01  \n",
       "4    2023-02-01  \n",
       "..          ...  \n",
       "570  2023-02-01  \n",
       "571  2023-02-01  \n",
       "572  2023-02-01  \n",
       "573  2023-02-01  \n",
       "574  2023-02-01  \n",
       "\n",
       "[575 rows x 272 columns]"
      ]
     },
     "execution_count": 29,
     "metadata": {},
     "output_type": "execute_result"
    }
   ],
   "source": [
    "final_target_df"
   ]
  },
  {
   "cell_type": "markdown",
   "id": "8bf836a2",
   "metadata": {},
   "source": [
    "# Output "
   ]
  },
  {
   "cell_type": "markdown",
   "id": "f823a916",
   "metadata": {},
   "source": [
    "### Save Output to CSV "
   ]
  },
  {
   "cell_type": "code",
   "execution_count": 30,
   "id": "c670dd01",
   "metadata": {},
   "outputs": [],
   "source": [
    "final_target_df[[\"VENDOR_NAME\",\"MONTH\",\"PRED_VULNERABILITY\", \"FLAG_VULNERABILITY\"]].to_csv(os.getcwd()+r\"\\data\\output_file_prod_vulnerability.csv\", index=False)"
   ]
  },
  {
   "cell_type": "markdown",
   "id": "cf2f9891",
   "metadata": {},
   "source": [
    "### Delete older entries from SQL"
   ]
  },
  {
   "cell_type": "code",
   "execution_count": 31,
   "id": "9efd655c",
   "metadata": {},
   "outputs": [
    {
     "data": {
      "text/plain": [
       "<function Connection.close>"
      ]
     },
     "execution_count": 31,
     "metadata": {},
     "output_type": "execute_result"
    }
   ],
   "source": [
    "sql = (\"delete from bi_dw.wc_sc_pred_s_vul where MONTH = TO_DATE('\"+str(cur_month)+\"', 'YYYY-MM-DD' )\")\n",
    "\n",
    "cursor = con_ORACLE.cursor()\n",
    "\n",
    "cursor.execute(sql)\n",
    "\n",
    "con_ORACLE.commit()\n",
    "cursor.close\n",
    "con_ORACLE.close  "
   ]
  },
  {
   "cell_type": "markdown",
   "id": "6169a516",
   "metadata": {},
   "source": [
    "### Save Output to Oracle"
   ]
  },
  {
   "cell_type": "code",
   "execution_count": 32,
   "id": "3294bc7c",
   "metadata": {},
   "outputs": [
    {
     "name": "stderr",
     "output_type": "stream",
     "text": [
      "C:\\Users\\Kumbhar\\OneDrive - American Axle & Manufacturing, Inc\\AAM\\globle_env\\lib\\site-packages\\ipykernel_launcher.py:7: SettingWithCopyWarning: \n",
      "A value is trying to be set on a copy of a slice from a DataFrame\n",
      "\n",
      "See the caveats in the documentation: https://pandas.pydata.org/pandas-docs/stable/user_guide/indexing.html#returning-a-view-versus-a-copy\n",
      "  import sys\n"
     ]
    },
    {
     "data": {
      "text/plain": [
       "<function Connection.close>"
      ]
     },
     "execution_count": 32,
     "metadata": {},
     "output_type": "execute_result"
    }
   ],
   "source": [
    "sql = ('insert into bi_dw.wc_sc_pred_s_vul(VENDOR_NAME,MONTH,PRED_VULNERABILITY,FLAG_VULNERABILITY)'\n",
    "        'values(:VENDOR_NAME,:MONTH,:PRED_VULNERABILITY,:FLAG_VULNERABILITY)')\n",
    "\n",
    "cursor = con_ORACLE.cursor()\n",
    "\n",
    "upload_df = final_target_df[[\"VENDOR_NAME\",\"MONTH\",\"PRED_VULNERABILITY\", \"FLAG_VULNERABILITY\"]]\n",
    "upload_df.dropna(subset = [\"VENDOR_NAME\"], inplace = True)\n",
    "\n",
    "df_list = upload_df.values.tolist()\n",
    "\n",
    "cursor.executemany(sql, df_list)\n",
    "\n",
    "con_ORACLE.commit()\n",
    "cursor.close\n",
    "con_ORACLE.close       "
   ]
  },
  {
   "cell_type": "markdown",
   "id": "d756c634",
   "metadata": {},
   "source": [
    "# Check Database "
   ]
  },
  {
   "cell_type": "code",
   "execution_count": 33,
   "id": "a3e0c4c4",
   "metadata": {
    "scrolled": true
   },
   "outputs": [
    {
     "data": {
      "text/html": [
       "<div>\n",
       "<style scoped>\n",
       "    .dataframe tbody tr th:only-of-type {\n",
       "        vertical-align: middle;\n",
       "    }\n",
       "\n",
       "    .dataframe tbody tr th {\n",
       "        vertical-align: top;\n",
       "    }\n",
       "\n",
       "    .dataframe thead th {\n",
       "        text-align: right;\n",
       "    }\n",
       "</style>\n",
       "<table border=\"1\" class=\"dataframe\">\n",
       "  <thead>\n",
       "    <tr style=\"text-align: right;\">\n",
       "      <th></th>\n",
       "      <th>VENDOR_NAME</th>\n",
       "      <th>MONTH</th>\n",
       "      <th>PRED_VULNERABILITY</th>\n",
       "      <th>FLAG_VULNERABILITY</th>\n",
       "    </tr>\n",
       "  </thead>\n",
       "  <tbody>\n",
       "    <tr>\n",
       "      <th>0</th>\n",
       "      <td>NEK CO., LTD.</td>\n",
       "      <td>2023-02-01</td>\n",
       "      <td>27.32787</td>\n",
       "      <td>1</td>\n",
       "    </tr>\n",
       "    <tr>\n",
       "      <th>1</th>\n",
       "      <td>NELCAST LIMITED</td>\n",
       "      <td>2023-02-01</td>\n",
       "      <td>60.33757</td>\n",
       "      <td>3</td>\n",
       "    </tr>\n",
       "    <tr>\n",
       "      <th>2</th>\n",
       "      <td>NEMAK MEXICO SA</td>\n",
       "      <td>2023-02-01</td>\n",
       "      <td>31.22183</td>\n",
       "      <td>1</td>\n",
       "    </tr>\n",
       "    <tr>\n",
       "      <th>3</th>\n",
       "      <td>NEMAK USA INC</td>\n",
       "      <td>2023-02-01</td>\n",
       "      <td>32.93725</td>\n",
       "      <td>1</td>\n",
       "    </tr>\n",
       "    <tr>\n",
       "      <th>4</th>\n",
       "      <td>NEOSYM INDUSTRY LTD</td>\n",
       "      <td>2023-02-01</td>\n",
       "      <td>33.09897</td>\n",
       "      <td>1</td>\n",
       "    </tr>\n",
       "  </tbody>\n",
       "</table>\n",
       "</div>"
      ],
      "text/plain": [
       "           VENDOR_NAME      MONTH  PRED_VULNERABILITY  FLAG_VULNERABILITY\n",
       "0        NEK CO., LTD. 2023-02-01            27.32787                   1\n",
       "1      NELCAST LIMITED 2023-02-01            60.33757                   3\n",
       "2      NEMAK MEXICO SA 2023-02-01            31.22183                   1\n",
       "3        NEMAK USA INC 2023-02-01            32.93725                   1\n",
       "4  NEOSYM INDUSTRY LTD 2023-02-01            33.09897                   1"
      ]
     },
     "execution_count": 33,
     "metadata": {},
     "output_type": "execute_result"
    }
   ],
   "source": [
    "backup_v1=pd.read_sql_query(\"select * from bi_dw.wc_sc_pred_s_vul order by month desc\", con_ORACLE)\n",
    "# backup.to_csv(os.getcwd()+r\"\\Data Files\\backup_prod.csv\", index=False)\n",
    "backup_v1.head()"
   ]
  },
  {
   "cell_type": "code",
   "execution_count": 34,
   "id": "aca5e1f8",
   "metadata": {},
   "outputs": [
    {
     "data": {
      "text/plain": [
       "2022-11-01    619\n",
       "2022-10-01    588\n",
       "2022-12-01    584\n",
       "2023-01-01    584\n",
       "2022-07-01    578\n",
       "2023-02-01    575\n",
       "2022-09-01    563\n",
       "2022-08-01    558\n",
       "2022-01-01    402\n",
       "2021-07-01    402\n",
       "2021-08-01    402\n",
       "2021-09-01    402\n",
       "2022-03-01    402\n",
       "2021-12-01    402\n",
       "2022-04-01    402\n",
       "2021-10-01    402\n",
       "2021-11-01    402\n",
       "2021-06-01    402\n",
       "2022-02-01    402\n",
       "2022-05-01    401\n",
       "2022-06-01    401\n",
       "Name: MONTH, dtype: int64"
      ]
     },
     "execution_count": 34,
     "metadata": {},
     "output_type": "execute_result"
    }
   ],
   "source": [
    "backup_v1.MONTH.value_counts()"
   ]
  },
  {
   "cell_type": "code",
   "execution_count": null,
   "id": "34eee81e",
   "metadata": {},
   "outputs": [],
   "source": [
    "backup_v1.to_csv(os.getcwd()+r\"\\data\\validate_vul.csv\", index=False)"
   ]
  },
  {
   "cell_type": "code",
   "execution_count": null,
   "id": "2f32424e",
   "metadata": {},
   "outputs": [],
   "source": [
    "con_ORACLE.commit()\n",
    "cursor.close\n",
    "con_ORACLE.close    "
   ]
  },
  {
   "cell_type": "code",
   "execution_count": null,
   "id": "2c9b5bc0",
   "metadata": {},
   "outputs": [],
   "source": []
  }
 ],
 "metadata": {
  "kernelspec": {
   "display_name": "Python 3 (ipykernel)",
   "language": "python",
   "name": "python3"
  },
  "language_info": {
   "codemirror_mode": {
    "name": "ipython",
    "version": 3
   },
   "file_extension": ".py",
   "mimetype": "text/x-python",
   "name": "python",
   "nbconvert_exporter": "python",
   "pygments_lexer": "ipython3",
   "version": "3.11.4"
  }
 },
 "nbformat": 4,
 "nbformat_minor": 5
}
