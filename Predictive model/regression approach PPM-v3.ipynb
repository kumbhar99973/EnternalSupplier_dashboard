{
 "cells": [
  {
   "cell_type": "markdown",
   "metadata": {},
   "source": [
    "# Please find below the high-level structuring of python scripts in the attached folder. \n",
    "\n",
    "## Feature Engineering Script: \n",
    "* Feature Engineering_PPM  --- PPM, PRNR, Premium Freight\n",
    "\n",
    "## Individual Model Scripts:\n",
    "* regression approach PPM-v3\n",
    "* regression approach prem freight \n",
    "* regression approach prnr\n",
    "* Vulnerability Score Reg ----contains the feature engineering piece of vulnerability score as well\n",
    "\n",
    "## Prod Scripts:\n",
    "* Prod Script_V1   --- PPM, PRNR, Premium Freight\n",
    "* Prod Script Vulnerability Score  ----- Vulnerability Score\n",
    "\n",
    "## We need to run the prod scripts in the 1st week of every month"
   ]
  },
  {
   "cell_type": "code",
   "execution_count": 1,
   "metadata": {},
   "outputs": [],
   "source": [
    "import xgboost as xgb\n",
    "import numpy as np\n",
    "import pandas as pd\n",
    "import time\n",
    "import pickle\n",
    "import os\n",
    "from math import log\n",
    "import matplotlib.pyplot as plt\n",
    "\n",
    "import sklearn\n",
    "from sklearn.model_selection import train_test_split, GridSearchCV, RandomizedSearchCV, ParameterGrid,StratifiedKFold, cross_val_score\n",
    "\n",
    "from sklearn import metrics \n",
    "from sklearn.metrics import confusion_matrix, precision_recall_curve, average_precision_score, brier_score_loss, f1_score, log_loss,auc,roc_curve,auc\n",
    "\n",
    "from sklearn.linear_model import LogisticRegression, LogisticRegressionCV\n",
    "from sklearn.ensemble import RandomForestClassifier\n",
    "\n",
    "from sklearn.decomposition import PCA\n",
    "#from sklearn.utils.fixes import signature\n",
    "\n",
    "import warnings\n",
    "warnings.filterwarnings(\"ignore\", category=DeprecationWarning)\n",
    "os.chdir(r\"C:\\Users\\Kumbhar\\OneDrive - American Axle & Manufacturing, Inc\\AAM\\Supplier_Risk\")"
   ]
  },
  {
   "cell_type": "markdown",
   "metadata": {},
   "source": [
    "### Read datasets"
   ]
  },
  {
   "cell_type": "code",
   "execution_count": 2,
   "metadata": {},
   "outputs": [],
   "source": [
    "df=pd.read_csv(os.getcwd()+r\"\\data\\features_file.csv\")"
   ]
  },
  {
   "cell_type": "code",
   "execution_count": 3,
   "metadata": {},
   "outputs": [],
   "source": [
    "df.dropna(subset = [\"PPM Flag\"], inplace = True)"
   ]
  },
  {
   "cell_type": "code",
   "execution_count": 4,
   "metadata": {},
   "outputs": [
    {
     "name": "stderr",
     "output_type": "stream",
     "text": [
      "C:\\Users\\Kumbhar\\OneDrive - American Axle & Manufacturing, Inc\\AAM\\globle_env\\lib\\site-packages\\pandas\\core\\series.py:726: RuntimeWarning: divide by zero encountered in log10\n",
      "  result = getattr(ufunc, method)(*inputs, **kwargs)\n",
      "C:\\Users\\Kumbhar\\OneDrive - American Axle & Manufacturing, Inc\\AAM\\globle_env\\lib\\site-packages\\pandas\\core\\series.py:726: RuntimeWarning: invalid value encountered in log10\n",
      "  result = getattr(ufunc, method)(*inputs, **kwargs)\n"
     ]
    }
   ],
   "source": [
    "df[\"PPM_TARGET\"] = np.where(df[\"PPM Flag\"]>1,np.log10(df[\"PPM Flag\"]),0)\n",
    "df[\"PRNR_TARGET\"] = np.where(df[\"PRNR\"]>=3,1,0)\n",
    "df[\"PREM_FREIGHT_TARGET\"] = np.where(df[\"PREM FREIGHT\"]>=3,1,0)"
   ]
  },
  {
   "cell_type": "code",
   "execution_count": 5,
   "metadata": {},
   "outputs": [],
   "source": [
    "df[\"MONTH\"] = pd.to_datetime(df[\"MONTH\"], format = \"%Y-%m-%d\")"
   ]
  },
  {
   "cell_type": "code",
   "execution_count": 6,
   "metadata": {},
   "outputs": [
    {
     "data": {
      "text/html": [
       "<div>\n",
       "<style scoped>\n",
       "    .dataframe tbody tr th:only-of-type {\n",
       "        vertical-align: middle;\n",
       "    }\n",
       "\n",
       "    .dataframe tbody tr th {\n",
       "        vertical-align: top;\n",
       "    }\n",
       "\n",
       "    .dataframe thead th {\n",
       "        text-align: right;\n",
       "    }\n",
       "</style>\n",
       "<table border=\"1\" class=\"dataframe\">\n",
       "  <thead>\n",
       "    <tr style=\"text-align: right;\">\n",
       "      <th></th>\n",
       "      <th>VENDOR_NAME</th>\n",
       "      <th>MONTH</th>\n",
       "      <th>PRNR</th>\n",
       "      <th>PREM FREIGHT</th>\n",
       "      <th>PPM Flag</th>\n",
       "      <th>QTY_RECD_FLAG_mean_MOM_1</th>\n",
       "      <th>Qty Ordered_sum_MOM_1</th>\n",
       "      <th>Qty Recd_sum_MOM_1</th>\n",
       "      <th>PRNR_sum_MOM_1</th>\n",
       "      <th>PREM FREIGHT_sum_MOM_1</th>\n",
       "      <th>...</th>\n",
       "      <th>PPM Qty Shipped_max_OQT_10</th>\n",
       "      <th>PPM Qty Shipped_min_OQT_10</th>\n",
       "      <th>PPM Qty Shipped_std_OQT_10</th>\n",
       "      <th>PPM Qty Shipped_mean_OQT_10</th>\n",
       "      <th>PPM Qty Shipped_sum_OQT_10</th>\n",
       "      <th>PPM_Agg_Flag_OQT_10</th>\n",
       "      <th>Qty Recd_percent_Agg_OQT_10</th>\n",
       "      <th>PPM_TARGET</th>\n",
       "      <th>PRNR_TARGET</th>\n",
       "      <th>PREM_FREIGHT_TARGET</th>\n",
       "    </tr>\n",
       "  </thead>\n",
       "  <tbody>\n",
       "    <tr>\n",
       "      <th>4</th>\n",
       "      <td>A &amp; F GROBSERIEN GMBH</td>\n",
       "      <td>2022-01-01</td>\n",
       "      <td>NaN</td>\n",
       "      <td>NaN</td>\n",
       "      <td>0.0</td>\n",
       "      <td>1.0</td>\n",
       "      <td>14364.0</td>\n",
       "      <td>28164.0</td>\n",
       "      <td>0.0</td>\n",
       "      <td>0.0</td>\n",
       "      <td>...</td>\n",
       "      <td>NaN</td>\n",
       "      <td>NaN</td>\n",
       "      <td>NaN</td>\n",
       "      <td>NaN</td>\n",
       "      <td>0.0</td>\n",
       "      <td>NaN</td>\n",
       "      <td>98.726223</td>\n",
       "      <td>0.0</td>\n",
       "      <td>0</td>\n",
       "      <td>0</td>\n",
       "    </tr>\n",
       "    <tr>\n",
       "      <th>9</th>\n",
       "      <td>AALBERTS T S/ IMPREGLON</td>\n",
       "      <td>2022-01-01</td>\n",
       "      <td>NaN</td>\n",
       "      <td>NaN</td>\n",
       "      <td>0.0</td>\n",
       "      <td>1.0</td>\n",
       "      <td>1728.0</td>\n",
       "      <td>1728.0</td>\n",
       "      <td>0.0</td>\n",
       "      <td>0.0</td>\n",
       "      <td>...</td>\n",
       "      <td>4311.0</td>\n",
       "      <td>1620.0</td>\n",
       "      <td>1348.726931</td>\n",
       "      <td>2911.666667</td>\n",
       "      <td>8735.0</td>\n",
       "      <td>0.0</td>\n",
       "      <td>144.571334</td>\n",
       "      <td>0.0</td>\n",
       "      <td>0</td>\n",
       "      <td>0</td>\n",
       "    </tr>\n",
       "    <tr>\n",
       "      <th>10</th>\n",
       "      <td>AAM AUTO COMPONENT (INDIA) PRIVATE LIMITED</td>\n",
       "      <td>2022-01-01</td>\n",
       "      <td>NaN</td>\n",
       "      <td>NaN</td>\n",
       "      <td>0.0</td>\n",
       "      <td>1.0</td>\n",
       "      <td>727.0</td>\n",
       "      <td>2168.0</td>\n",
       "      <td>0.0</td>\n",
       "      <td>0.0</td>\n",
       "      <td>...</td>\n",
       "      <td>154.0</td>\n",
       "      <td>154.0</td>\n",
       "      <td>NaN</td>\n",
       "      <td>154.000000</td>\n",
       "      <td>154.0</td>\n",
       "      <td>0.0</td>\n",
       "      <td>214.736842</td>\n",
       "      <td>0.0</td>\n",
       "      <td>0</td>\n",
       "      <td>0</td>\n",
       "    </tr>\n",
       "    <tr>\n",
       "      <th>11</th>\n",
       "      <td>AAM CHANGSHU</td>\n",
       "      <td>2022-01-01</td>\n",
       "      <td>NaN</td>\n",
       "      <td>NaN</td>\n",
       "      <td>0.0</td>\n",
       "      <td>0.0</td>\n",
       "      <td>5000.0</td>\n",
       "      <td>0.0</td>\n",
       "      <td>0.0</td>\n",
       "      <td>0.0</td>\n",
       "      <td>...</td>\n",
       "      <td>120749.0</td>\n",
       "      <td>65983.0</td>\n",
       "      <td>27795.363588</td>\n",
       "      <td>90612.000000</td>\n",
       "      <td>271836.0</td>\n",
       "      <td>4.0</td>\n",
       "      <td>113.348058</td>\n",
       "      <td>0.0</td>\n",
       "      <td>0</td>\n",
       "      <td>0</td>\n",
       "    </tr>\n",
       "    <tr>\n",
       "      <th>12</th>\n",
       "      <td>AAM DO BRASIL LTDA</td>\n",
       "      <td>2022-01-01</td>\n",
       "      <td>NaN</td>\n",
       "      <td>NaN</td>\n",
       "      <td>0.0</td>\n",
       "      <td>1.0</td>\n",
       "      <td>19600.0</td>\n",
       "      <td>29000.0</td>\n",
       "      <td>0.0</td>\n",
       "      <td>0.0</td>\n",
       "      <td>...</td>\n",
       "      <td>31280.0</td>\n",
       "      <td>15445.0</td>\n",
       "      <td>8608.371410</td>\n",
       "      <td>21411.666667</td>\n",
       "      <td>64235.0</td>\n",
       "      <td>0.0</td>\n",
       "      <td>102.996922</td>\n",
       "      <td>0.0</td>\n",
       "      <td>0</td>\n",
       "      <td>0</td>\n",
       "    </tr>\n",
       "  </tbody>\n",
       "</table>\n",
       "<p>5 rows × 272 columns</p>\n",
       "</div>"
      ],
      "text/plain": [
       "                                   VENDOR_NAME      MONTH  PRNR  PREM FREIGHT  \\\n",
       "4                        A & F GROBSERIEN GMBH 2022-01-01   NaN           NaN   \n",
       "9                      AALBERTS T S/ IMPREGLON 2022-01-01   NaN           NaN   \n",
       "10  AAM AUTO COMPONENT (INDIA) PRIVATE LIMITED 2022-01-01   NaN           NaN   \n",
       "11                                AAM CHANGSHU 2022-01-01   NaN           NaN   \n",
       "12                          AAM DO BRASIL LTDA 2022-01-01   NaN           NaN   \n",
       "\n",
       "    PPM Flag  QTY_RECD_FLAG_mean_MOM_1  Qty Ordered_sum_MOM_1  \\\n",
       "4        0.0                       1.0                14364.0   \n",
       "9        0.0                       1.0                 1728.0   \n",
       "10       0.0                       1.0                  727.0   \n",
       "11       0.0                       0.0                 5000.0   \n",
       "12       0.0                       1.0                19600.0   \n",
       "\n",
       "    Qty Recd_sum_MOM_1  PRNR_sum_MOM_1  PREM FREIGHT_sum_MOM_1  ...  \\\n",
       "4              28164.0             0.0                     0.0  ...   \n",
       "9               1728.0             0.0                     0.0  ...   \n",
       "10              2168.0             0.0                     0.0  ...   \n",
       "11                 0.0             0.0                     0.0  ...   \n",
       "12             29000.0             0.0                     0.0  ...   \n",
       "\n",
       "    PPM Qty Shipped_max_OQT_10  PPM Qty Shipped_min_OQT_10  \\\n",
       "4                          NaN                         NaN   \n",
       "9                       4311.0                      1620.0   \n",
       "10                       154.0                       154.0   \n",
       "11                    120749.0                     65983.0   \n",
       "12                     31280.0                     15445.0   \n",
       "\n",
       "    PPM Qty Shipped_std_OQT_10  PPM Qty Shipped_mean_OQT_10  \\\n",
       "4                          NaN                          NaN   \n",
       "9                  1348.726931                  2911.666667   \n",
       "10                         NaN                   154.000000   \n",
       "11                27795.363588                 90612.000000   \n",
       "12                 8608.371410                 21411.666667   \n",
       "\n",
       "    PPM Qty Shipped_sum_OQT_10  PPM_Agg_Flag_OQT_10  \\\n",
       "4                          0.0                  NaN   \n",
       "9                       8735.0                  0.0   \n",
       "10                       154.0                  0.0   \n",
       "11                    271836.0                  4.0   \n",
       "12                     64235.0                  0.0   \n",
       "\n",
       "    Qty Recd_percent_Agg_OQT_10  PPM_TARGET  PRNR_TARGET  PREM_FREIGHT_TARGET  \n",
       "4                     98.726223         0.0            0                    0  \n",
       "9                    144.571334         0.0            0                    0  \n",
       "10                   214.736842         0.0            0                    0  \n",
       "11                   113.348058         0.0            0                    0  \n",
       "12                   102.996922         0.0            0                    0  \n",
       "\n",
       "[5 rows x 272 columns]"
      ]
     },
     "execution_count": 6,
     "metadata": {},
     "output_type": "execute_result"
    }
   ],
   "source": [
    "df.head()"
   ]
  },
  {
   "cell_type": "markdown",
   "metadata": {},
   "source": [
    "## Target = PRNR"
   ]
  },
  {
   "cell_type": "code",
   "execution_count": 7,
   "metadata": {},
   "outputs": [],
   "source": [
    "target = \"PPM_TARGET\""
   ]
  },
  {
   "cell_type": "code",
   "execution_count": 8,
   "metadata": {},
   "outputs": [
    {
     "name": "stderr",
     "output_type": "stream",
     "text": [
      "C:\\Users\\Kumbhar\\OneDrive - American Axle & Manufacturing, Inc\\AAM\\globle_env\\lib\\site-packages\\ipykernel_launcher.py:1: FutureWarning: The pandas.datetime class is deprecated and will be removed from pandas in a future version. Import from datetime instead.\n",
      "  \"\"\"Entry point for launching an IPython kernel.\n",
      "C:\\Users\\Kumbhar\\OneDrive - American Axle & Manufacturing, Inc\\AAM\\globle_env\\lib\\site-packages\\ipykernel_launcher.py:2: FutureWarning: The pandas.datetime class is deprecated and will be removed from pandas in a future version. Import from datetime instead.\n",
      "  \n",
      "C:\\Users\\Kumbhar\\OneDrive - American Axle & Manufacturing, Inc\\AAM\\globle_env\\lib\\site-packages\\ipykernel_launcher.py:3: FutureWarning: The pandas.datetime class is deprecated and will be removed from pandas in a future version. Import from datetime instead.\n",
      "  This is separate from the ipykernel package so we can avoid doing imports until\n"
     ]
    }
   ],
   "source": [
    "df_train = df[(df[\"MONTH\"]<pd.datetime(2021,6,1))]\n",
    "df_valid = df[(df[\"MONTH\"]<pd.datetime(2021,9,1)) & (df[\"MONTH\"]>=pd.datetime(2021,6,1))]\n",
    "df_test = df[(df[\"MONTH\"]>=pd.datetime(2021,9,1))]"
   ]
  },
  {
   "cell_type": "code",
   "execution_count": 9,
   "metadata": {},
   "outputs": [],
   "source": [
    "X_train=df_train.drop([\"VENDOR_NAME\",\"MONTH\",\"PRNR\",\"PREM FREIGHT\",\"PRNR_TARGET\", \"PREM_FREIGHT_TARGET\", \"PPM_TARGET\", \"PPM Flag\"] ,axis=1)\n",
    "y_train=df_train[target]\n",
    "\n",
    "X_valid=df_valid.drop([\"VENDOR_NAME\",\"MONTH\",\"PRNR\",\"PREM FREIGHT\",\"PRNR_TARGET\", \"PREM_FREIGHT_TARGET\", \"PPM_TARGET\", \"PPM Flag\"] ,axis=1)\n",
    "y_valid=df_valid[target]\n",
    "\n",
    "X_test=df_test.drop([\"VENDOR_NAME\",\"MONTH\",\"PRNR\",\"PREM FREIGHT\",\"PRNR_TARGET\", \"PREM_FREIGHT_TARGET\", \"PPM_TARGET\", \"PPM Flag\"] ,axis=1)\n",
    "y_test=df_test[target]"
   ]
  },
  {
   "cell_type": "code",
   "execution_count": 10,
   "metadata": {},
   "outputs": [
    {
     "name": "stdout",
     "output_type": "stream",
     "text": [
      "\n",
      "Event rate in train set : 21.53%\n",
      "\n",
      " Train set shape: (14976, 264)\n",
      "\n",
      "Event rate in test set : 23.58%\n",
      "\n",
      " Test set shape: (3674, 264)\n",
      "\n",
      "Event rate in validation set : 23.61%\n",
      "\n",
      " validation set shape: (2132, 264)\n"
     ]
    }
   ],
   "source": [
    "seed = 25522\n",
    "\n",
    "##event rate\n",
    "print(\"\\nEvent rate in train set :\", '{:,.2%}'.format(sum(y_train) / len(y_train)))\n",
    "print(\"\\n Train set shape:\",X_train.shape)\n",
    "print(\"\\nEvent rate in test set :\", '{:,.2%}'.format(sum(y_test) / len(y_test)))\n",
    "print(\"\\n Test set shape:\",X_test.shape)\n",
    "print(\"\\nEvent rate in validation set :\", '{:,.2%}'.format(sum(y_valid) / len(y_valid)))\n",
    "print(\"\\n validation set shape:\",X_valid.shape)"
   ]
  },
  {
   "cell_type": "code",
   "execution_count": 11,
   "metadata": {},
   "outputs": [],
   "source": [
    "## Variable importance\n",
    "def fimportances(xc, predictors):\n",
    "    importances = pd.DataFrame({'predictor': predictors, 'importance': xc.feature_importances_})\n",
    "    importances = importances[importances['importance'] > 0]\n",
    "    importances.sort_values(by='importance', ascending=False, inplace=True)\n",
    "    importances.reset_index(inplace=True, drop=True)\n",
    "    importances = importances[['predictor', 'importance']]\n",
    "    return importances"
   ]
  },
  {
   "cell_type": "code",
   "execution_count": 12,
   "metadata": {},
   "outputs": [],
   "source": [
    "xgb_model = xgb.XGBRegressor(max_depth = 3,\n",
    "              learning_rate = 0.01,\n",
    "              subsample= 0.6,\n",
    "              min_child_weight= 10,\n",
    "              colsample_bytree= 0.6,\n",
    "              scale_pos_weight =25,\n",
    "              nthread = -1, \n",
    "              n_estimators = 200              \n",
    "              )\n",
    "\n",
    "evals=[(X_valid, np.ravel(y_valid))]\n",
    "\n",
    "bst = xgb_model.fit(X_train, np.ravel(y_train), eval_metric=\"rmse\", eval_set=evals, early_stopping_rounds=40,  verbose=False)"
   ]
  },
  {
   "cell_type": "code",
   "execution_count": 13,
   "metadata": {},
   "outputs": [],
   "source": [
    "imp = fimportances(bst,X_train.columns)"
   ]
  },
  {
   "cell_type": "code",
   "execution_count": 14,
   "metadata": {
    "scrolled": true
   },
   "outputs": [
    {
     "name": "stdout",
     "output_type": "stream",
     "text": [
      "Columns Remaining : 189 , rmse_train: 0.695872,rmse_test: 0.746492 \n",
      "Columns Remaining : 166 , rmse_train: 0.696402,rmse_test: 0.745163 \n",
      "Columns Remaining : 157 , rmse_train: 0.696236,rmse_test: 0.746570 \n",
      "Columns Remaining : 150 , rmse_train: 0.696087,rmse_test: 0.744927 \n",
      "Columns Remaining : 144 , rmse_train: 0.696335,rmse_test: 0.746039 \n",
      "Columns Remaining : 136 , rmse_train: 0.696291,rmse_test: 0.746149 \n",
      "Columns Remaining : 134 , rmse_train: 0.696338,rmse_test: 0.745768 \n",
      "Columns Remaining : 128 , rmse_train: 0.696289,rmse_test: 0.745655 \n",
      "Columns Remaining : 124 , rmse_train: 0.696430,rmse_test: 0.745605 \n",
      "Columns Remaining : 121 , rmse_train: 0.696181,rmse_test: 0.745437 \n",
      "Columns Remaining : 118 , rmse_train: 0.696257,rmse_test: 0.745650 \n",
      "Columns Remaining : 116 , rmse_train: 0.696011,rmse_test: 0.745764 \n",
      "Columns Remaining : 114 , rmse_train: 0.696367,rmse_test: 0.745184 \n",
      "Columns Remaining : 111 , rmse_train: 0.696431,rmse_test: 0.745382 \n",
      "Columns Remaining : 109 , rmse_train: 0.696768,rmse_test: 0.745307 \n",
      "Columns Remaining : 107 , rmse_train: 0.696479,rmse_test: 0.745617 \n",
      "Columns Remaining : 105 , rmse_train: 0.696368,rmse_test: 0.744657 \n",
      "Columns Remaining : 103 , rmse_train: 0.696300,rmse_test: 0.745059 \n",
      "Columns Remaining : 101 , rmse_train: 0.696594,rmse_test: 0.745611 \n",
      "Columns Remaining : 99 , rmse_train: 0.696630,rmse_test: 0.745935 \n",
      "Columns Remaining : 97 , rmse_train: 0.696462,rmse_test: 0.746374 \n",
      "Columns Remaining : 95 , rmse_train: 0.696464,rmse_test: 0.745857 \n",
      "Columns Remaining : 93 , rmse_train: 0.696660,rmse_test: 0.745873 \n",
      "Columns Remaining : 91 , rmse_train: 0.696524,rmse_test: 0.746294 \n",
      "Columns Remaining : 89 , rmse_train: 0.696486,rmse_test: 0.745393 \n",
      "Columns Remaining : 87 , rmse_train: 0.696695,rmse_test: 0.745797 \n",
      "Columns Remaining : 85 , rmse_train: 0.696606,rmse_test: 0.745016 \n",
      "Columns Remaining : 83 , rmse_train: 0.696890,rmse_test: 0.745140 \n",
      "Columns Remaining : 81 , rmse_train: 0.696933,rmse_test: 0.744610 \n",
      "Columns Remaining : 79 , rmse_train: 0.697120,rmse_test: 0.746129 \n",
      "Columns Remaining : 77 , rmse_train: 0.696941,rmse_test: 0.746718 \n",
      "Columns Remaining : 75 , rmse_train: 0.696787,rmse_test: 0.745867 \n",
      "Columns Remaining : 72 , rmse_train: 0.697044,rmse_test: 0.745932 \n",
      "Columns Remaining : 70 , rmse_train: 0.697043,rmse_test: 0.746886 \n",
      "Columns Remaining : 68 , rmse_train: 0.696989,rmse_test: 0.746471 \n",
      "Columns Remaining : 66 , rmse_train: 0.696840,rmse_test: 0.746567 \n",
      "Columns Remaining : 64 , rmse_train: 0.697073,rmse_test: 0.745117 \n",
      "Columns Remaining : 62 , rmse_train: 0.697180,rmse_test: 0.746572 \n",
      "Columns Remaining : 60 , rmse_train: 0.697113,rmse_test: 0.746049 \n",
      "Columns Remaining : 58 , rmse_train: 0.697590,rmse_test: 0.747302 \n",
      "Columns Remaining : 56 , rmse_train: 0.697543,rmse_test: 0.746657 \n",
      "Columns Remaining : 54 , rmse_train: 0.697538,rmse_test: 0.747102 \n",
      "Columns Remaining : 52 , rmse_train: 0.697452,rmse_test: 0.747209 \n",
      "Columns Remaining : 50 , rmse_train: 0.698126,rmse_test: 0.746904 \n",
      "Columns Remaining : 48 , rmse_train: 0.698072,rmse_test: 0.747718 \n",
      "Columns Remaining : 46 , rmse_train: 0.698093,rmse_test: 0.747975 \n",
      "Columns Remaining : 44 , rmse_train: 0.698191,rmse_test: 0.746053 \n",
      "Columns Remaining : 42 , rmse_train: 0.698372,rmse_test: 0.748468 \n",
      "Columns Remaining : 40 , rmse_train: 0.698537,rmse_test: 0.748379 \n",
      "Columns Remaining : 38 , rmse_train: 0.698897,rmse_test: 0.748287 \n",
      "Columns Remaining : 36 , rmse_train: 0.699034,rmse_test: 0.748680 \n",
      "Columns Remaining : 34 , rmse_train: 0.699262,rmse_test: 0.747863 \n",
      "Columns Remaining : 32 , rmse_train: 0.699504,rmse_test: 0.747280 \n",
      "Columns Remaining : 30 , rmse_train: 0.699782,rmse_test: 0.748258 \n",
      "Columns Remaining : 28 , rmse_train: 0.699991,rmse_test: 0.748204 \n",
      "Columns Remaining : 26 , rmse_train: 0.700250,rmse_test: 0.747581 \n",
      "Columns Remaining : 24 , rmse_train: 0.700295,rmse_test: 0.748385 \n",
      "Columns Remaining : 22 , rmse_train: 0.701066,rmse_test: 0.748283 \n",
      "Columns Remaining : 20 , rmse_train: 0.702325,rmse_test: 0.747658 \n",
      "Columns Remaining : 18 , rmse_train: 0.702637,rmse_test: 0.747817 \n",
      "Columns Remaining : 16 , rmse_train: 0.703332,rmse_test: 0.747966 \n",
      "Columns Remaining : 14 , rmse_train: 0.706332,rmse_test: 0.748809 \n",
      "Columns Remaining : 12 , rmse_train: 0.708638,rmse_test: 0.749068 \n",
      "Columns Remaining : 10 , rmse_train: 0.709137,rmse_test: 0.749453 \n",
      "Columns Remaining : 8 , rmse_train: 0.712770,rmse_test: 0.750685 \n",
      "Columns Remaining : 6 , rmse_train: 0.715987,rmse_test: 0.754420 \n",
      "Columns Remaining : 4 , rmse_train: 0.717092,rmse_test: 0.756799 \n",
      "Columns Remaining : 2 , rmse_train: 0.725270,rmse_test: 0.760287 \n"
     ]
    }
   ],
   "source": [
    "bst1 = bst\n",
    "X_train_1 = X_train\n",
    "X_valid_1 = X_valid\n",
    "select_X_train = X_train_1\n",
    "\n",
    "dic_imp = {\"n\":[imp.shape[0]],\"Rmse Train\":[0],\"Rmse Test\":[0],\"Predictors\":[list(imp['predictor'])]}\n",
    "\n",
    "while(select_X_train.shape[1] > 3):\n",
    "    select_X_train = X_train_1[list(imp['predictor'])[:-2]]\n",
    "    select_X_valid = X_valid_1[list(imp['predictor'])[:-2]]\n",
    "    xgb_model = xgb.XGBRegressor(max_depth = 3,\n",
    "              learning_rate= 0.01,\n",
    "              subsample= 0.6,\n",
    "              min_child_weight= 10,\n",
    "              colsample_bytree= 0.6,\n",
    "              scale_pos_weight =25,\n",
    "              nthread = -1, \n",
    "              n_estimators = 200              \n",
    "              )\n",
    "\n",
    "    evals=[(select_X_valid, np.ravel(y_valid))]\n",
    "\n",
    "    bst = xgb_model.fit(select_X_train, np.ravel(y_train), eval_metric=\"rmse\", eval_set=evals,\n",
    "                        early_stopping_rounds=40   ,  verbose=False)\n",
    "    \n",
    "    ypred_train = bst.predict(select_X_train)\n",
    "    ypred_test  = bst.predict(select_X_valid)\n",
    "    \n",
    "    rmse_train = np.sqrt(metrics.mean_squared_error(y_train, ypred_train))\n",
    "    rmse_test = np.sqrt(metrics.mean_squared_error(y_valid, ypred_test))\n",
    "\n",
    "    \n",
    "    print(\"Columns Remaining : %d , rmse_train: %f,rmse_test: %f \"%(select_X_train.shape[1],rmse_train,rmse_test))\n",
    "    \n",
    "    dic_imp['n'].append(imp.shape[0])\n",
    "    dic_imp['Rmse Train'].append(rmse_train)\n",
    "    dic_imp['Rmse Test'].append(rmse_test)\n",
    "    dic_imp['Predictors'].append(list(imp['predictor']))\n",
    "    \n",
    "    imp = fimportances(bst,select_X_train.columns)"
   ]
  },
  {
   "cell_type": "code",
   "execution_count": 15,
   "metadata": {},
   "outputs": [],
   "source": [
    "df_imp =pd.DataFrame(dic_imp)"
   ]
  },
  {
   "cell_type": "code",
   "execution_count": 19,
   "metadata": {},
   "outputs": [],
   "source": [
    "selected_vars = list(df_imp[df_imp['n']==22][\"Predictors\"])"
   ]
  },
  {
   "cell_type": "code",
   "execution_count": 20,
   "metadata": {},
   "outputs": [
    {
     "data": {
      "text/plain": [
       "[['PPM Flag_mean_OQT_1',\n",
       "  'PPM_Agg_Flag_OQT_1',\n",
       "  'PPM Flag_max_OQT_1',\n",
       "  'PPM Qty Rejected_sum_OQT_1',\n",
       "  'PPM Qty Rejected_mean_OQT_1',\n",
       "  'PPM Qty Rejected_min_OQT_1',\n",
       "  'PPM Flag_std_OQT_1',\n",
       "  'PPM Flag_min_OQT_1',\n",
       "  'PRNR_sum_OQT_1',\n",
       "  'PPM Qty Rejected_mean_OQT_4',\n",
       "  'PPM Qty Rejected_sum_MOM_1',\n",
       "  'Cost Recovery_sum_OQT_1',\n",
       "  'PPM Flag_mean_OQT_7',\n",
       "  'Cost Recovery_sum_OQT_7',\n",
       "  'PPM Qty Rejected_sum_OQT_4',\n",
       "  'PPM Qty Rejected_sum_MOM_2',\n",
       "  'Cost Recovery_std_OQT_7',\n",
       "  'PPM Qty Rejected_mean_OQT_10',\n",
       "  'Cost Recovery_sum_MOM_8',\n",
       "  'PRNR_max_OQT_1',\n",
       "  'PPM Qty Rejected_sum_OQT_10',\n",
       "  'PPM Qty Shipped_mean_OQT_4']]"
      ]
     },
     "execution_count": 20,
     "metadata": {},
     "output_type": "execute_result"
    }
   ],
   "source": [
    "selected_vars"
   ]
  },
  {
   "cell_type": "code",
   "execution_count": 39,
   "metadata": {},
   "outputs": [],
   "source": [
    "filename = 'data/PPM_selected_cols.sav'\n",
    "pickle.dump(selected_vars[0], open(filename, 'wb'))"
   ]
  },
  {
   "cell_type": "code",
   "execution_count": 21,
   "metadata": {},
   "outputs": [
    {
     "name": "stdout",
     "output_type": "stream",
     "text": [
      "\n",
      " Train shape: (14976, 22) \n",
      " Test shape: (3674, 22) \n",
      " Validation shape: (2132, 22)\n"
     ]
    }
   ],
   "source": [
    "X_train_2=X_train[selected_vars[0]]\n",
    "X_test_2=X_test[selected_vars[0]]\n",
    "X_valid_2=X_valid[selected_vars[0]]\n",
    "\n",
    "\n",
    "print(\"\\n Train shape:\",X_train_2.shape,\"\\n Test shape:\",X_test_2.shape,\"\\n Validation shape:\",X_valid_2.shape)"
   ]
  },
  {
   "cell_type": "code",
   "execution_count": 22,
   "metadata": {},
   "outputs": [],
   "source": [
    "# set model parameters \n",
    "missing_value=None; cpu=-1; early_stopping_round=40; split_random_state=None\n",
    "# kfolds = StratifiedKFold(6, random_state=1, shuffle = True)"
   ]
  },
  {
   "cell_type": "code",
   "execution_count": 23,
   "metadata": {
    "scrolled": true
   },
   "outputs": [
    {
     "name": "stdout",
     "output_type": "stream",
     "text": [
      "Randomized search..\n",
      "Randomized search time: 223.8409287929535\n",
      "Best score: -0.33778744670787625\n",
      "Best params: \n",
      "colsample_bytree: 0.6000000000000001\n",
      "learning_rate: 0.019000000000000003\n",
      "max_depth: 5\n",
      "min_child_weight: 10\n",
      "reg_alpha: 0.5\n",
      "reg_lambda: 5\n",
      "scale_pos_weight: 5\n",
      "subsample: 0.6499999999999999\n"
     ]
    }
   ],
   "source": [
    "## XGB model##\n",
    "param_grid = {'max_depth': list(range(1, 6)),\n",
    "              'learning_rate': np.arange(0.001, 0.02, 0.001),\n",
    "              'subsample': np.arange(0.4, 0.7,0.05),\n",
    "              'min_child_weight': np.arange(1, 25, 3),\n",
    "              'colsample_bytree': np.arange(0.5, 0.75, 0.05),\n",
    "              'scale_pos_weight' :np.arange(5, 40, 2), \n",
    "              \"reg_alpha\"   : [0.5,0.2,1],\n",
    "              \"reg_lambda\"  : [2,3,5]\n",
    "            }\n",
    "\n",
    "if X_train_2.shape[1] == 1:\n",
    "    param_grid['colsample_bytree'] = [1]\n",
    "    \n",
    "param_dist = {'nthread': cpu, 'n_estimators': 200}\n",
    "xgb_model = xgb.XGBRegressor(**param_dist)\n",
    "\n",
    "##random search XGB    \n",
    "clf = RandomizedSearchCV(estimator=xgb_model, param_distributions=param_grid, scoring='neg_mean_absolute_error', n_iter=50,\n",
    "                         random_state=40, cv=6,error_score=0, return_train_score =True)\n",
    "print(\"Randomized search..\")\n",
    "search_time_start = time.time()\n",
    "clf.fit(X_train_2, y_train, verbose = 1)\n",
    "print(\"Randomized search time:\", time.time() - search_time_start)\n",
    "params = clf.best_params_\n",
    "\n",
    "dic=clf.cv_results_\n",
    "\n",
    "params_bst = params\n",
    "params_tbl = pd.DataFrame(columns=list(params_bst.keys()))  \n",
    "params_tbl.loc['0'] = [params_bst[k] for k in params_tbl.columns]\n",
    "\n",
    "print(\"Best score: {}\".format(clf.best_score_))\n",
    "print(\"Best params: \")\n",
    "for param_name in sorted(params_bst.keys()):\n",
    "    print('%s: %r' % (param_name, params_bst[param_name]))\n",
    "\n",
    "params.update(param_dist)\n",
    "xgb_model = xgb.XGBClassifier(**params)"
   ]
  },
  {
   "cell_type": "code",
   "execution_count": 24,
   "metadata": {},
   "outputs": [],
   "source": [
    "pd.Series(dic['mean_train_score']).to_csv(\"mean_train_rmse_ppm_reg.csv\")"
   ]
  },
  {
   "cell_type": "code",
   "execution_count": 25,
   "metadata": {},
   "outputs": [],
   "source": [
    "pd.Series(dic['mean_test_score']).to_csv(\"mean_test_rmse_ppm_reg.csv\")"
   ]
  },
  {
   "cell_type": "code",
   "execution_count": 26,
   "metadata": {},
   "outputs": [
    {
     "data": {
      "text/plain": [
       "{'subsample': 0.6499999999999999,\n",
       " 'scale_pos_weight': 5,\n",
       " 'reg_lambda': 5,\n",
       " 'reg_alpha': 0.5,\n",
       " 'min_child_weight': 10,\n",
       " 'max_depth': 5,\n",
       " 'learning_rate': 0.019000000000000003,\n",
       " 'colsample_bytree': 0.6000000000000001,\n",
       " 'nthread': -1,\n",
       " 'n_estimators': 200}"
      ]
     },
     "execution_count": 26,
     "metadata": {},
     "output_type": "execute_result"
    }
   ],
   "source": [
    "params"
   ]
  },
  {
   "cell_type": "code",
   "execution_count": 27,
   "metadata": {},
   "outputs": [],
   "source": [
    "# colsample_bytree: 0.7000000000000002\n",
    "# learning_rate: 0.016\n",
    "# max_depth: 5\n",
    "# min_child_weight: 10\n",
    "# scale_pos_weight: 5\n",
    "# subsample: 0.6pd.DataFrame(dic['params']).to_csv(\"params_mesdq.csv\")"
   ]
  },
  {
   "cell_type": "code",
   "execution_count": 28,
   "metadata": {},
   "outputs": [],
   "source": [
    "xgb_model = xgb.XGBRegressor(max_depth = 4,\n",
    "              learning_rate= 0.01,\n",
    "              subsample= 0.65,\n",
    "              min_child_weight= 16,\n",
    "              colsample_bytree= 0.7,\n",
    "              scale_pos_weight = 29,\n",
    "              nthread = -1, \n",
    "              n_estimators = 200, \n",
    "                reg_lambda = 5,\n",
    "                reg_alpha = 1\n",
    "             ) "
   ]
  },
  {
   "cell_type": "code",
   "execution_count": 29,
   "metadata": {
    "scrolled": true
   },
   "outputs": [],
   "source": [
    "# cross validation gini\n",
    "def xgboost(X_tr,X_ts,y_tr,y_ts):\n",
    "    evals=[(X_tr, np.ravel(y_tr)),(X_ts, np.ravel(y_ts))]\n",
    "\n",
    "    bst = xgb_model.fit(X_tr, np.ravel(y_tr), eval_metric=\"rmse\", eval_set=evals,\n",
    "                        early_stopping_rounds=early_stopping_round   ,  verbose=False)\n",
    "\n",
    "    if early_stopping_round is None:\n",
    "        ypred_train = bst.predict(X_tr)\n",
    "        ypred_test = bst.predict(X_ts)\n",
    "    else:\n",
    "        ypred_train = bst.predict(X_tr, ntree_limit=bst.best_ntree_limit)\n",
    "        ypred_test = bst.predict(X_ts, ntree_limit=bst.best_ntree_limit)\n",
    "\n",
    "    rmse_train = np.sqrt(metrics.mean_squared_error(y_train, ypred_train))\n",
    "    rmse_test = np.sqrt(metrics.mean_squared_error(y_valid, ypred_test))\n",
    "\n",
    "    return bst,rmse_train,rmse_test,ypred_train,ypred_test"
   ]
  },
  {
   "cell_type": "code",
   "execution_count": 30,
   "metadata": {},
   "outputs": [
    {
     "name": "stdout",
     "output_type": "stream",
     "text": [
      "RMSE TRAIN: 0.69367636577969\n",
      "\n",
      "RMSE Validation: 0.747312678173896\n"
     ]
    },
    {
     "name": "stderr",
     "output_type": "stream",
     "text": [
      "C:\\Users\\Kumbhar\\OneDrive - American Axle & Manufacturing, Inc\\AAM\\globle_env\\lib\\site-packages\\xgboost\\core.py:108: UserWarning: ntree_limit is deprecated, use `iteration_range` or model slicing instead.\n",
      "  UserWarning\n"
     ]
    }
   ],
   "source": [
    "## run xgboost\n",
    "bst,rmse_train,rmse_test,ypred_train,ypred_test=xgboost(X_train_2, X_valid_2, y_train, y_valid)\n",
    "\n",
    "##Model performance on sample\n",
    "print(\"RMSE TRAIN:\",rmse_train )\n",
    "print(\"\\nRMSE Validation:\",rmse_test )\n"
   ]
  },
  {
   "cell_type": "code",
   "execution_count": 31,
   "metadata": {},
   "outputs": [
    {
     "data": {
      "text/plain": [
       "Index(['PPM Flag_mean_OQT_1', 'PPM_Agg_Flag_OQT_1', 'PPM Flag_max_OQT_1',\n",
       "       'PPM Qty Rejected_sum_OQT_1', 'PPM Qty Rejected_mean_OQT_1',\n",
       "       'PPM Qty Rejected_min_OQT_1', 'PPM Flag_std_OQT_1',\n",
       "       'PPM Flag_min_OQT_1', 'PRNR_sum_OQT_1', 'PPM Qty Rejected_mean_OQT_4',\n",
       "       'PPM Qty Rejected_sum_MOM_1', 'Cost Recovery_sum_OQT_1',\n",
       "       'PPM Flag_mean_OQT_7', 'Cost Recovery_sum_OQT_7',\n",
       "       'PPM Qty Rejected_sum_OQT_4', 'PPM Qty Rejected_sum_MOM_2',\n",
       "       'Cost Recovery_std_OQT_7', 'PPM Qty Rejected_mean_OQT_10',\n",
       "       'Cost Recovery_sum_MOM_8', 'PRNR_max_OQT_1',\n",
       "       'PPM Qty Rejected_sum_OQT_10', 'PPM Qty Shipped_mean_OQT_4'],\n",
       "      dtype='object')"
      ]
     },
     "execution_count": 31,
     "metadata": {},
     "output_type": "execute_result"
    }
   ],
   "source": [
    "X_train_2.columns"
   ]
  },
  {
   "cell_type": "code",
   "execution_count": 32,
   "metadata": {},
   "outputs": [
    {
     "name": "stdout",
     "output_type": "stream",
     "text": [
      "RMSE Test 0.5224110384806016\n"
     ]
    },
    {
     "name": "stderr",
     "output_type": "stream",
     "text": [
      "C:\\Users\\Kumbhar\\OneDrive - American Axle & Manufacturing, Inc\\AAM\\globle_env\\lib\\site-packages\\xgboost\\core.py:108: UserWarning: ntree_limit is deprecated, use `iteration_range` or model slicing instead.\n",
      "  UserWarning\n"
     ]
    }
   ],
   "source": [
    "#ypred_test = bst.predict_proba(X_test_2.drop(columns=['act','pred']), ntree_limit=bst.best_ntree_limit)[:, 1]\n",
    "ypred_test = bst.predict(X_test_2, ntree_limit=bst.best_ntree_limit)\n",
    "rmse_test = np.sqrt(metrics.mean_squared_error(y_test, ypred_test))\n",
    "print(\"RMSE Test\",rmse_test*2-1)"
   ]
  },
  {
   "cell_type": "code",
   "execution_count": 33,
   "metadata": {
    "scrolled": true
   },
   "outputs": [],
   "source": [
    "importance_tbl = fimportances(bst, X_train_2.columns)\n",
    "importance_tbl.to_csv(\"xgb_ppm_reg.csv\",index=0)"
   ]
  },
  {
   "cell_type": "code",
   "execution_count": 34,
   "metadata": {
    "scrolled": true
   },
   "outputs": [
    {
     "data": {
      "text/html": [
       "<div>\n",
       "<style scoped>\n",
       "    .dataframe tbody tr th:only-of-type {\n",
       "        vertical-align: middle;\n",
       "    }\n",
       "\n",
       "    .dataframe tbody tr th {\n",
       "        vertical-align: top;\n",
       "    }\n",
       "\n",
       "    .dataframe thead th {\n",
       "        text-align: right;\n",
       "    }\n",
       "</style>\n",
       "<table border=\"1\" class=\"dataframe\">\n",
       "  <thead>\n",
       "    <tr style=\"text-align: right;\">\n",
       "      <th></th>\n",
       "      <th>predictor</th>\n",
       "      <th>importance</th>\n",
       "    </tr>\n",
       "  </thead>\n",
       "  <tbody>\n",
       "    <tr>\n",
       "      <th>0</th>\n",
       "      <td>PPM Flag_mean_OQT_1</td>\n",
       "      <td>0.128603</td>\n",
       "    </tr>\n",
       "    <tr>\n",
       "      <th>1</th>\n",
       "      <td>PPM Flag_min_OQT_1</td>\n",
       "      <td>0.069265</td>\n",
       "    </tr>\n",
       "    <tr>\n",
       "      <th>2</th>\n",
       "      <td>PPM Qty Rejected_mean_OQT_1</td>\n",
       "      <td>0.068070</td>\n",
       "    </tr>\n",
       "    <tr>\n",
       "      <th>3</th>\n",
       "      <td>PPM Qty Rejected_min_OQT_1</td>\n",
       "      <td>0.065743</td>\n",
       "    </tr>\n",
       "    <tr>\n",
       "      <th>4</th>\n",
       "      <td>PPM Flag_std_OQT_1</td>\n",
       "      <td>0.057759</td>\n",
       "    </tr>\n",
       "    <tr>\n",
       "      <th>5</th>\n",
       "      <td>PPM_Agg_Flag_OQT_1</td>\n",
       "      <td>0.057478</td>\n",
       "    </tr>\n",
       "    <tr>\n",
       "      <th>6</th>\n",
       "      <td>PPM Flag_max_OQT_1</td>\n",
       "      <td>0.056664</td>\n",
       "    </tr>\n",
       "    <tr>\n",
       "      <th>7</th>\n",
       "      <td>PRNR_sum_OQT_1</td>\n",
       "      <td>0.055601</td>\n",
       "    </tr>\n",
       "    <tr>\n",
       "      <th>8</th>\n",
       "      <td>Cost Recovery_sum_OQT_7</td>\n",
       "      <td>0.040881</td>\n",
       "    </tr>\n",
       "    <tr>\n",
       "      <th>9</th>\n",
       "      <td>PPM Qty Rejected_mean_OQT_4</td>\n",
       "      <td>0.040171</td>\n",
       "    </tr>\n",
       "    <tr>\n",
       "      <th>10</th>\n",
       "      <td>PPM Qty Rejected_sum_MOM_1</td>\n",
       "      <td>0.036782</td>\n",
       "    </tr>\n",
       "    <tr>\n",
       "      <th>11</th>\n",
       "      <td>Cost Recovery_std_OQT_7</td>\n",
       "      <td>0.035180</td>\n",
       "    </tr>\n",
       "    <tr>\n",
       "      <th>12</th>\n",
       "      <td>PPM Qty Rejected_sum_OQT_1</td>\n",
       "      <td>0.033409</td>\n",
       "    </tr>\n",
       "    <tr>\n",
       "      <th>13</th>\n",
       "      <td>PPM Qty Rejected_sum_OQT_10</td>\n",
       "      <td>0.032225</td>\n",
       "    </tr>\n",
       "    <tr>\n",
       "      <th>14</th>\n",
       "      <td>PPM Qty Rejected_mean_OQT_10</td>\n",
       "      <td>0.031369</td>\n",
       "    </tr>\n",
       "    <tr>\n",
       "      <th>15</th>\n",
       "      <td>PPM Flag_mean_OQT_7</td>\n",
       "      <td>0.031158</td>\n",
       "    </tr>\n",
       "    <tr>\n",
       "      <th>16</th>\n",
       "      <td>Cost Recovery_sum_MOM_8</td>\n",
       "      <td>0.029643</td>\n",
       "    </tr>\n",
       "    <tr>\n",
       "      <th>17</th>\n",
       "      <td>Cost Recovery_sum_OQT_1</td>\n",
       "      <td>0.028462</td>\n",
       "    </tr>\n",
       "    <tr>\n",
       "      <th>18</th>\n",
       "      <td>PRNR_max_OQT_1</td>\n",
       "      <td>0.027043</td>\n",
       "    </tr>\n",
       "    <tr>\n",
       "      <th>19</th>\n",
       "      <td>PPM Qty Rejected_sum_OQT_4</td>\n",
       "      <td>0.026076</td>\n",
       "    </tr>\n",
       "    <tr>\n",
       "      <th>20</th>\n",
       "      <td>PPM Qty Shipped_mean_OQT_4</td>\n",
       "      <td>0.024276</td>\n",
       "    </tr>\n",
       "    <tr>\n",
       "      <th>21</th>\n",
       "      <td>PPM Qty Rejected_sum_MOM_2</td>\n",
       "      <td>0.024141</td>\n",
       "    </tr>\n",
       "  </tbody>\n",
       "</table>\n",
       "</div>"
      ],
      "text/plain": [
       "                       predictor  importance\n",
       "0            PPM Flag_mean_OQT_1    0.128603\n",
       "1             PPM Flag_min_OQT_1    0.069265\n",
       "2    PPM Qty Rejected_mean_OQT_1    0.068070\n",
       "3     PPM Qty Rejected_min_OQT_1    0.065743\n",
       "4             PPM Flag_std_OQT_1    0.057759\n",
       "5             PPM_Agg_Flag_OQT_1    0.057478\n",
       "6             PPM Flag_max_OQT_1    0.056664\n",
       "7                 PRNR_sum_OQT_1    0.055601\n",
       "8        Cost Recovery_sum_OQT_7    0.040881\n",
       "9    PPM Qty Rejected_mean_OQT_4    0.040171\n",
       "10    PPM Qty Rejected_sum_MOM_1    0.036782\n",
       "11       Cost Recovery_std_OQT_7    0.035180\n",
       "12    PPM Qty Rejected_sum_OQT_1    0.033409\n",
       "13   PPM Qty Rejected_sum_OQT_10    0.032225\n",
       "14  PPM Qty Rejected_mean_OQT_10    0.031369\n",
       "15           PPM Flag_mean_OQT_7    0.031158\n",
       "16       Cost Recovery_sum_MOM_8    0.029643\n",
       "17       Cost Recovery_sum_OQT_1    0.028462\n",
       "18                PRNR_max_OQT_1    0.027043\n",
       "19    PPM Qty Rejected_sum_OQT_4    0.026076\n",
       "20    PPM Qty Shipped_mean_OQT_4    0.024276\n",
       "21    PPM Qty Rejected_sum_MOM_2    0.024141"
      ]
     },
     "execution_count": 34,
     "metadata": {},
     "output_type": "execute_result"
    }
   ],
   "source": [
    "importance_tbl = fimportances(bst, X_train_2.columns)\n",
    "importance_tbl.head(50)"
   ]
  },
  {
   "cell_type": "code",
   "execution_count": 35,
   "metadata": {},
   "outputs": [
    {
     "name": "stderr",
     "output_type": "stream",
     "text": [
      "C:\\Users\\Kumbhar\\OneDrive - American Axle & Manufacturing, Inc\\AAM\\globle_env\\lib\\site-packages\\xgboost\\core.py:108: UserWarning: ntree_limit is deprecated, use `iteration_range` or model slicing instead.\n",
      "  UserWarning\n"
     ]
    }
   ],
   "source": [
    "## save the model \n",
    "pickle.dump(bst, open(\"xgb_ppm_reg_v3\", \"wb\"))\n",
    "##Score the dataset\n",
    "df[\"PRED\"] =  np.power(10,bst.predict(df[selected_vars[0]], ntree_limit=bst.best_ntree_limit))*100\n",
    "df[\"PRED\"] = np.where(df[\"PRED\"]<200,0,df[\"PRED\"])\n",
    "df.to_csv(r\"xgb_ppm_pred_reg_v3_1.csv\")"
   ]
  },
  {
   "cell_type": "code",
   "execution_count": 36,
   "metadata": {},
   "outputs": [
    {
     "data": {
      "text/plain": [
       "9725     10763.134766\n",
       "18351     9807.184570\n",
       "41021     9538.726562\n",
       "11179     9154.434570\n",
       "23744     8794.311523\n",
       "             ...     \n",
       "27421        0.000000\n",
       "27423        0.000000\n",
       "27424        0.000000\n",
       "27437        0.000000\n",
       "4            0.000000\n",
       "Name: PRED, Length: 20782, dtype: float32"
      ]
     },
     "execution_count": 36,
     "metadata": {},
     "output_type": "execute_result"
    }
   ],
   "source": [
    "df[\"PRED\"].sort_values(ascending=False)"
   ]
  },
  {
   "cell_type": "code",
   "execution_count": 37,
   "metadata": {},
   "outputs": [],
   "source": [
    "# retrieve performance metrics\n",
    "results = bst.evals_result()\n",
    "epochs = len(results['validation_0']['rmse'])\n",
    "x_axis = range(0, epochs)"
   ]
  },
  {
   "cell_type": "code",
   "execution_count": 38,
   "metadata": {},
   "outputs": [
    {
     "data": {
      "text/plain": [
       "Text(0.5, 1.0, 'XGBoost AUC')"
      ]
     },
     "execution_count": 38,
     "metadata": {},
     "output_type": "execute_result"
    },
    {
     "data": {
      "image/png": "[encoded data removed]",
      "text/plain": [
       "<Figure size 432x288 with 1 Axes>"
      ]
     },
     "metadata": {
      "needs_background": "light"
     },
     "output_type": "display_data"
    }
   ],
   "source": [
    "# plot auc wrt estimators\n",
    "fig, ax = plt.subplots()\n",
    "ax.plot(x_axis, results['validation_0']['rmse'], label='train')\n",
    "ax.plot(x_axis, results['validation_1']['rmse'], label='test')\n",
    "\n",
    "ax.legend()\n",
    "plt.ylabel('XGB AUC')\n",
    "plt.title('XGBoost AUC')"
   ]
  },
  {
   "cell_type": "code",
   "execution_count": null,
   "metadata": {},
   "outputs": [],
   "source": []
  }
 ],
 "metadata": {
  "kernelspec": {
   "display_name": "Python 3 (ipykernel)",
   "language": "python",
   "name": "python3"
  },
  "language_info": {
   "codemirror_mode": {
    "name": "ipython",
    "version": 3
   },
   "file_extension": ".py",
   "mimetype": "text/x-python",
   "name": "python",
   "nbconvert_exporter": "python",
   "pygments_lexer": "ipython3",
   "version": "3.9.10"
  }
 },
 "nbformat": 4,
 "nbformat_minor": 4
}
